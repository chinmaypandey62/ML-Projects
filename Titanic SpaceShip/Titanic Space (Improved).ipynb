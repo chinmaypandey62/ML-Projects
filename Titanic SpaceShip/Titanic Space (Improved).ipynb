{
  "nbformat": 4,
  "nbformat_minor": 0,
  "metadata": {
    "colab": {
      "provenance": [],
      "authorship_tag": "ABX9TyO//bacLK1hAFD3AleJj65T"
    },
    "kernelspec": {
      "name": "python3",
      "display_name": "Python 3"
    },
    "language_info": {
      "name": "python"
    },
    "widgets": {
      "application/vnd.jupyter.widget-state+json": {
        "912998f863e54294899ab04ded442799": {
          "model_module": "@jupyter-widgets/controls",
          "model_name": "VBoxModel",
          "model_module_version": "1.5.0",
          "state": {
            "_dom_classes": [],
            "_model_module": "@jupyter-widgets/controls",
            "_model_module_version": "1.5.0",
            "_model_name": "VBoxModel",
            "_view_count": null,
            "_view_module": "@jupyter-widgets/controls",
            "_view_module_version": "1.5.0",
            "_view_name": "VBoxView",
            "box_style": "",
            "children": [
              "IPY_MODEL_cad1a4154b4f4760b028afac3d15d7f5"
            ],
            "layout": "IPY_MODEL_76603a1ea478471ba6c9d2a31ae486b0"
          }
        },
        "26b0c468b67a470da32d7ab0e5ea702d": {
          "model_module": "@jupyter-widgets/controls",
          "model_name": "HTMLModel",
          "model_module_version": "1.5.0",
          "state": {
            "_dom_classes": [],
            "_model_module": "@jupyter-widgets/controls",
            "_model_module_version": "1.5.0",
            "_model_name": "HTMLModel",
            "_view_count": null,
            "_view_module": "@jupyter-widgets/controls",
            "_view_module_version": "1.5.0",
            "_view_name": "HTMLView",
            "description": "",
            "description_tooltip": null,
            "layout": "IPY_MODEL_682e0ef92737447aadd36a83d884de2a",
            "placeholder": "​",
            "style": "IPY_MODEL_1f2979b4ffaa4c69bfc7a67c2e00c7e1",
            "value": "<center> <img\nsrc=https://www.kaggle.com/static/images/site-logo.png\nalt='Kaggle'> <br> Create an API token from <a\nhref=\"https://www.kaggle.com/settings/account\" target=\"_blank\">your Kaggle\nsettings page</a> and paste it below along with your Kaggle username. <br> </center>"
          }
        },
        "f80af6f932704261b92dd8b124633664": {
          "model_module": "@jupyter-widgets/controls",
          "model_name": "TextModel",
          "model_module_version": "1.5.0",
          "state": {
            "_dom_classes": [],
            "_model_module": "@jupyter-widgets/controls",
            "_model_module_version": "1.5.0",
            "_model_name": "TextModel",
            "_view_count": null,
            "_view_module": "@jupyter-widgets/controls",
            "_view_module_version": "1.5.0",
            "_view_name": "TextView",
            "continuous_update": true,
            "description": "Username:",
            "description_tooltip": null,
            "disabled": false,
            "layout": "IPY_MODEL_9b310e3b992349da958c4d29dcc09aff",
            "placeholder": "​",
            "style": "IPY_MODEL_987dbb8208af43b18a67e95650fdecef",
            "value": "chinmaypandey62"
          }
        },
        "9bc55709417e4bdc8863d075bca37c61": {
          "model_module": "@jupyter-widgets/controls",
          "model_name": "PasswordModel",
          "model_module_version": "1.5.0",
          "state": {
            "_dom_classes": [],
            "_model_module": "@jupyter-widgets/controls",
            "_model_module_version": "1.5.0",
            "_model_name": "PasswordModel",
            "_view_count": null,
            "_view_module": "@jupyter-widgets/controls",
            "_view_module_version": "1.5.0",
            "_view_name": "PasswordView",
            "continuous_update": true,
            "description": "Token:",
            "description_tooltip": null,
            "disabled": false,
            "layout": "IPY_MODEL_c10f7b8bab4d43778f09a23d24bf9ffb",
            "placeholder": "​",
            "style": "IPY_MODEL_be9b4389006c45ecbb2a2cf2b6a1d461",
            "value": ""
          }
        },
        "9780eb93f23c4abba29414f8712edf8f": {
          "model_module": "@jupyter-widgets/controls",
          "model_name": "ButtonModel",
          "model_module_version": "1.5.0",
          "state": {
            "_dom_classes": [],
            "_model_module": "@jupyter-widgets/controls",
            "_model_module_version": "1.5.0",
            "_model_name": "ButtonModel",
            "_view_count": null,
            "_view_module": "@jupyter-widgets/controls",
            "_view_module_version": "1.5.0",
            "_view_name": "ButtonView",
            "button_style": "",
            "description": "Login",
            "disabled": false,
            "icon": "",
            "layout": "IPY_MODEL_673276b667cc49fca6ba4690851c2ced",
            "style": "IPY_MODEL_cad7145c2ae34eb1bfcf4cff83965aa7",
            "tooltip": ""
          }
        },
        "f4cded56cdf546dd8fd497198a795683": {
          "model_module": "@jupyter-widgets/controls",
          "model_name": "HTMLModel",
          "model_module_version": "1.5.0",
          "state": {
            "_dom_classes": [],
            "_model_module": "@jupyter-widgets/controls",
            "_model_module_version": "1.5.0",
            "_model_name": "HTMLModel",
            "_view_count": null,
            "_view_module": "@jupyter-widgets/controls",
            "_view_module_version": "1.5.0",
            "_view_name": "HTMLView",
            "description": "",
            "description_tooltip": null,
            "layout": "IPY_MODEL_a30fdab0b1c74760b903bef5b71bda23",
            "placeholder": "​",
            "style": "IPY_MODEL_1990dd417a7e41e683ede572e4c78b73",
            "value": "\n<b>Thank You</b></center>"
          }
        },
        "76603a1ea478471ba6c9d2a31ae486b0": {
          "model_module": "@jupyter-widgets/base",
          "model_name": "LayoutModel",
          "model_module_version": "1.2.0",
          "state": {
            "_model_module": "@jupyter-widgets/base",
            "_model_module_version": "1.2.0",
            "_model_name": "LayoutModel",
            "_view_count": null,
            "_view_module": "@jupyter-widgets/base",
            "_view_module_version": "1.2.0",
            "_view_name": "LayoutView",
            "align_content": null,
            "align_items": "center",
            "align_self": null,
            "border": null,
            "bottom": null,
            "display": "flex",
            "flex": null,
            "flex_flow": "column",
            "grid_area": null,
            "grid_auto_columns": null,
            "grid_auto_flow": null,
            "grid_auto_rows": null,
            "grid_column": null,
            "grid_gap": null,
            "grid_row": null,
            "grid_template_areas": null,
            "grid_template_columns": null,
            "grid_template_rows": null,
            "height": null,
            "justify_content": null,
            "justify_items": null,
            "left": null,
            "margin": null,
            "max_height": null,
            "max_width": null,
            "min_height": null,
            "min_width": null,
            "object_fit": null,
            "object_position": null,
            "order": null,
            "overflow": null,
            "overflow_x": null,
            "overflow_y": null,
            "padding": null,
            "right": null,
            "top": null,
            "visibility": null,
            "width": "50%"
          }
        },
        "682e0ef92737447aadd36a83d884de2a": {
          "model_module": "@jupyter-widgets/base",
          "model_name": "LayoutModel",
          "model_module_version": "1.2.0",
          "state": {
            "_model_module": "@jupyter-widgets/base",
            "_model_module_version": "1.2.0",
            "_model_name": "LayoutModel",
            "_view_count": null,
            "_view_module": "@jupyter-widgets/base",
            "_view_module_version": "1.2.0",
            "_view_name": "LayoutView",
            "align_content": null,
            "align_items": null,
            "align_self": null,
            "border": null,
            "bottom": null,
            "display": null,
            "flex": null,
            "flex_flow": null,
            "grid_area": null,
            "grid_auto_columns": null,
            "grid_auto_flow": null,
            "grid_auto_rows": null,
            "grid_column": null,
            "grid_gap": null,
            "grid_row": null,
            "grid_template_areas": null,
            "grid_template_columns": null,
            "grid_template_rows": null,
            "height": null,
            "justify_content": null,
            "justify_items": null,
            "left": null,
            "margin": null,
            "max_height": null,
            "max_width": null,
            "min_height": null,
            "min_width": null,
            "object_fit": null,
            "object_position": null,
            "order": null,
            "overflow": null,
            "overflow_x": null,
            "overflow_y": null,
            "padding": null,
            "right": null,
            "top": null,
            "visibility": null,
            "width": null
          }
        },
        "1f2979b4ffaa4c69bfc7a67c2e00c7e1": {
          "model_module": "@jupyter-widgets/controls",
          "model_name": "DescriptionStyleModel",
          "model_module_version": "1.5.0",
          "state": {
            "_model_module": "@jupyter-widgets/controls",
            "_model_module_version": "1.5.0",
            "_model_name": "DescriptionStyleModel",
            "_view_count": null,
            "_view_module": "@jupyter-widgets/base",
            "_view_module_version": "1.2.0",
            "_view_name": "StyleView",
            "description_width": ""
          }
        },
        "9b310e3b992349da958c4d29dcc09aff": {
          "model_module": "@jupyter-widgets/base",
          "model_name": "LayoutModel",
          "model_module_version": "1.2.0",
          "state": {
            "_model_module": "@jupyter-widgets/base",
            "_model_module_version": "1.2.0",
            "_model_name": "LayoutModel",
            "_view_count": null,
            "_view_module": "@jupyter-widgets/base",
            "_view_module_version": "1.2.0",
            "_view_name": "LayoutView",
            "align_content": null,
            "align_items": null,
            "align_self": null,
            "border": null,
            "bottom": null,
            "display": null,
            "flex": null,
            "flex_flow": null,
            "grid_area": null,
            "grid_auto_columns": null,
            "grid_auto_flow": null,
            "grid_auto_rows": null,
            "grid_column": null,
            "grid_gap": null,
            "grid_row": null,
            "grid_template_areas": null,
            "grid_template_columns": null,
            "grid_template_rows": null,
            "height": null,
            "justify_content": null,
            "justify_items": null,
            "left": null,
            "margin": null,
            "max_height": null,
            "max_width": null,
            "min_height": null,
            "min_width": null,
            "object_fit": null,
            "object_position": null,
            "order": null,
            "overflow": null,
            "overflow_x": null,
            "overflow_y": null,
            "padding": null,
            "right": null,
            "top": null,
            "visibility": null,
            "width": null
          }
        },
        "987dbb8208af43b18a67e95650fdecef": {
          "model_module": "@jupyter-widgets/controls",
          "model_name": "DescriptionStyleModel",
          "model_module_version": "1.5.0",
          "state": {
            "_model_module": "@jupyter-widgets/controls",
            "_model_module_version": "1.5.0",
            "_model_name": "DescriptionStyleModel",
            "_view_count": null,
            "_view_module": "@jupyter-widgets/base",
            "_view_module_version": "1.2.0",
            "_view_name": "StyleView",
            "description_width": ""
          }
        },
        "c10f7b8bab4d43778f09a23d24bf9ffb": {
          "model_module": "@jupyter-widgets/base",
          "model_name": "LayoutModel",
          "model_module_version": "1.2.0",
          "state": {
            "_model_module": "@jupyter-widgets/base",
            "_model_module_version": "1.2.0",
            "_model_name": "LayoutModel",
            "_view_count": null,
            "_view_module": "@jupyter-widgets/base",
            "_view_module_version": "1.2.0",
            "_view_name": "LayoutView",
            "align_content": null,
            "align_items": null,
            "align_self": null,
            "border": null,
            "bottom": null,
            "display": null,
            "flex": null,
            "flex_flow": null,
            "grid_area": null,
            "grid_auto_columns": null,
            "grid_auto_flow": null,
            "grid_auto_rows": null,
            "grid_column": null,
            "grid_gap": null,
            "grid_row": null,
            "grid_template_areas": null,
            "grid_template_columns": null,
            "grid_template_rows": null,
            "height": null,
            "justify_content": null,
            "justify_items": null,
            "left": null,
            "margin": null,
            "max_height": null,
            "max_width": null,
            "min_height": null,
            "min_width": null,
            "object_fit": null,
            "object_position": null,
            "order": null,
            "overflow": null,
            "overflow_x": null,
            "overflow_y": null,
            "padding": null,
            "right": null,
            "top": null,
            "visibility": null,
            "width": null
          }
        },
        "be9b4389006c45ecbb2a2cf2b6a1d461": {
          "model_module": "@jupyter-widgets/controls",
          "model_name": "DescriptionStyleModel",
          "model_module_version": "1.5.0",
          "state": {
            "_model_module": "@jupyter-widgets/controls",
            "_model_module_version": "1.5.0",
            "_model_name": "DescriptionStyleModel",
            "_view_count": null,
            "_view_module": "@jupyter-widgets/base",
            "_view_module_version": "1.2.0",
            "_view_name": "StyleView",
            "description_width": ""
          }
        },
        "673276b667cc49fca6ba4690851c2ced": {
          "model_module": "@jupyter-widgets/base",
          "model_name": "LayoutModel",
          "model_module_version": "1.2.0",
          "state": {
            "_model_module": "@jupyter-widgets/base",
            "_model_module_version": "1.2.0",
            "_model_name": "LayoutModel",
            "_view_count": null,
            "_view_module": "@jupyter-widgets/base",
            "_view_module_version": "1.2.0",
            "_view_name": "LayoutView",
            "align_content": null,
            "align_items": null,
            "align_self": null,
            "border": null,
            "bottom": null,
            "display": null,
            "flex": null,
            "flex_flow": null,
            "grid_area": null,
            "grid_auto_columns": null,
            "grid_auto_flow": null,
            "grid_auto_rows": null,
            "grid_column": null,
            "grid_gap": null,
            "grid_row": null,
            "grid_template_areas": null,
            "grid_template_columns": null,
            "grid_template_rows": null,
            "height": null,
            "justify_content": null,
            "justify_items": null,
            "left": null,
            "margin": null,
            "max_height": null,
            "max_width": null,
            "min_height": null,
            "min_width": null,
            "object_fit": null,
            "object_position": null,
            "order": null,
            "overflow": null,
            "overflow_x": null,
            "overflow_y": null,
            "padding": null,
            "right": null,
            "top": null,
            "visibility": null,
            "width": null
          }
        },
        "cad7145c2ae34eb1bfcf4cff83965aa7": {
          "model_module": "@jupyter-widgets/controls",
          "model_name": "ButtonStyleModel",
          "model_module_version": "1.5.0",
          "state": {
            "_model_module": "@jupyter-widgets/controls",
            "_model_module_version": "1.5.0",
            "_model_name": "ButtonStyleModel",
            "_view_count": null,
            "_view_module": "@jupyter-widgets/base",
            "_view_module_version": "1.2.0",
            "_view_name": "StyleView",
            "button_color": null,
            "font_weight": ""
          }
        },
        "a30fdab0b1c74760b903bef5b71bda23": {
          "model_module": "@jupyter-widgets/base",
          "model_name": "LayoutModel",
          "model_module_version": "1.2.0",
          "state": {
            "_model_module": "@jupyter-widgets/base",
            "_model_module_version": "1.2.0",
            "_model_name": "LayoutModel",
            "_view_count": null,
            "_view_module": "@jupyter-widgets/base",
            "_view_module_version": "1.2.0",
            "_view_name": "LayoutView",
            "align_content": null,
            "align_items": null,
            "align_self": null,
            "border": null,
            "bottom": null,
            "display": null,
            "flex": null,
            "flex_flow": null,
            "grid_area": null,
            "grid_auto_columns": null,
            "grid_auto_flow": null,
            "grid_auto_rows": null,
            "grid_column": null,
            "grid_gap": null,
            "grid_row": null,
            "grid_template_areas": null,
            "grid_template_columns": null,
            "grid_template_rows": null,
            "height": null,
            "justify_content": null,
            "justify_items": null,
            "left": null,
            "margin": null,
            "max_height": null,
            "max_width": null,
            "min_height": null,
            "min_width": null,
            "object_fit": null,
            "object_position": null,
            "order": null,
            "overflow": null,
            "overflow_x": null,
            "overflow_y": null,
            "padding": null,
            "right": null,
            "top": null,
            "visibility": null,
            "width": null
          }
        },
        "1990dd417a7e41e683ede572e4c78b73": {
          "model_module": "@jupyter-widgets/controls",
          "model_name": "DescriptionStyleModel",
          "model_module_version": "1.5.0",
          "state": {
            "_model_module": "@jupyter-widgets/controls",
            "_model_module_version": "1.5.0",
            "_model_name": "DescriptionStyleModel",
            "_view_count": null,
            "_view_module": "@jupyter-widgets/base",
            "_view_module_version": "1.2.0",
            "_view_name": "StyleView",
            "description_width": ""
          }
        },
        "d875eaa26cdc4e95bc5e2907359fbf98": {
          "model_module": "@jupyter-widgets/controls",
          "model_name": "LabelModel",
          "model_module_version": "1.5.0",
          "state": {
            "_dom_classes": [],
            "_model_module": "@jupyter-widgets/controls",
            "_model_module_version": "1.5.0",
            "_model_name": "LabelModel",
            "_view_count": null,
            "_view_module": "@jupyter-widgets/controls",
            "_view_module_version": "1.5.0",
            "_view_name": "LabelView",
            "description": "",
            "description_tooltip": null,
            "layout": "IPY_MODEL_495ceb36c73d4c109f1cdbd058ae1d4d",
            "placeholder": "​",
            "style": "IPY_MODEL_237a033d8e404fc280efbd6644e4b342",
            "value": "Connecting..."
          }
        },
        "495ceb36c73d4c109f1cdbd058ae1d4d": {
          "model_module": "@jupyter-widgets/base",
          "model_name": "LayoutModel",
          "model_module_version": "1.2.0",
          "state": {
            "_model_module": "@jupyter-widgets/base",
            "_model_module_version": "1.2.0",
            "_model_name": "LayoutModel",
            "_view_count": null,
            "_view_module": "@jupyter-widgets/base",
            "_view_module_version": "1.2.0",
            "_view_name": "LayoutView",
            "align_content": null,
            "align_items": null,
            "align_self": null,
            "border": null,
            "bottom": null,
            "display": null,
            "flex": null,
            "flex_flow": null,
            "grid_area": null,
            "grid_auto_columns": null,
            "grid_auto_flow": null,
            "grid_auto_rows": null,
            "grid_column": null,
            "grid_gap": null,
            "grid_row": null,
            "grid_template_areas": null,
            "grid_template_columns": null,
            "grid_template_rows": null,
            "height": null,
            "justify_content": null,
            "justify_items": null,
            "left": null,
            "margin": null,
            "max_height": null,
            "max_width": null,
            "min_height": null,
            "min_width": null,
            "object_fit": null,
            "object_position": null,
            "order": null,
            "overflow": null,
            "overflow_x": null,
            "overflow_y": null,
            "padding": null,
            "right": null,
            "top": null,
            "visibility": null,
            "width": null
          }
        },
        "237a033d8e404fc280efbd6644e4b342": {
          "model_module": "@jupyter-widgets/controls",
          "model_name": "DescriptionStyleModel",
          "model_module_version": "1.5.0",
          "state": {
            "_model_module": "@jupyter-widgets/controls",
            "_model_module_version": "1.5.0",
            "_model_name": "DescriptionStyleModel",
            "_view_count": null,
            "_view_module": "@jupyter-widgets/base",
            "_view_module_version": "1.2.0",
            "_view_name": "StyleView",
            "description_width": ""
          }
        },
        "cad1a4154b4f4760b028afac3d15d7f5": {
          "model_module": "@jupyter-widgets/controls",
          "model_name": "LabelModel",
          "model_module_version": "1.5.0",
          "state": {
            "_dom_classes": [],
            "_model_module": "@jupyter-widgets/controls",
            "_model_module_version": "1.5.0",
            "_model_name": "LabelModel",
            "_view_count": null,
            "_view_module": "@jupyter-widgets/controls",
            "_view_module_version": "1.5.0",
            "_view_name": "LabelView",
            "description": "",
            "description_tooltip": null,
            "layout": "IPY_MODEL_f53e0d44d3c94bc79edcac1b5021141a",
            "placeholder": "​",
            "style": "IPY_MODEL_b26d49391eee4123afcd1820e4504728",
            "value": "Kaggle credentials successfully validated."
          }
        },
        "f53e0d44d3c94bc79edcac1b5021141a": {
          "model_module": "@jupyter-widgets/base",
          "model_name": "LayoutModel",
          "model_module_version": "1.2.0",
          "state": {
            "_model_module": "@jupyter-widgets/base",
            "_model_module_version": "1.2.0",
            "_model_name": "LayoutModel",
            "_view_count": null,
            "_view_module": "@jupyter-widgets/base",
            "_view_module_version": "1.2.0",
            "_view_name": "LayoutView",
            "align_content": null,
            "align_items": null,
            "align_self": null,
            "border": null,
            "bottom": null,
            "display": null,
            "flex": null,
            "flex_flow": null,
            "grid_area": null,
            "grid_auto_columns": null,
            "grid_auto_flow": null,
            "grid_auto_rows": null,
            "grid_column": null,
            "grid_gap": null,
            "grid_row": null,
            "grid_template_areas": null,
            "grid_template_columns": null,
            "grid_template_rows": null,
            "height": null,
            "justify_content": null,
            "justify_items": null,
            "left": null,
            "margin": null,
            "max_height": null,
            "max_width": null,
            "min_height": null,
            "min_width": null,
            "object_fit": null,
            "object_position": null,
            "order": null,
            "overflow": null,
            "overflow_x": null,
            "overflow_y": null,
            "padding": null,
            "right": null,
            "top": null,
            "visibility": null,
            "width": null
          }
        },
        "b26d49391eee4123afcd1820e4504728": {
          "model_module": "@jupyter-widgets/controls",
          "model_name": "DescriptionStyleModel",
          "model_module_version": "1.5.0",
          "state": {
            "_model_module": "@jupyter-widgets/controls",
            "_model_module_version": "1.5.0",
            "_model_name": "DescriptionStyleModel",
            "_view_count": null,
            "_view_module": "@jupyter-widgets/base",
            "_view_module_version": "1.2.0",
            "_view_name": "StyleView",
            "description_width": ""
          }
        },
        "state": {}
      }
    }
  },
  "cells": [
    {
      "cell_type": "code",
      "execution_count": 1,
      "metadata": {
        "colab": {
          "base_uri": "https://localhost:8080/",
          "height": 84,
          "referenced_widgets": [
            "912998f863e54294899ab04ded442799",
            "26b0c468b67a470da32d7ab0e5ea702d",
            "f80af6f932704261b92dd8b124633664",
            "9bc55709417e4bdc8863d075bca37c61",
            "9780eb93f23c4abba29414f8712edf8f",
            "f4cded56cdf546dd8fd497198a795683",
            "76603a1ea478471ba6c9d2a31ae486b0",
            "682e0ef92737447aadd36a83d884de2a",
            "1f2979b4ffaa4c69bfc7a67c2e00c7e1",
            "9b310e3b992349da958c4d29dcc09aff",
            "987dbb8208af43b18a67e95650fdecef",
            "c10f7b8bab4d43778f09a23d24bf9ffb",
            "be9b4389006c45ecbb2a2cf2b6a1d461",
            "673276b667cc49fca6ba4690851c2ced",
            "cad7145c2ae34eb1bfcf4cff83965aa7",
            "a30fdab0b1c74760b903bef5b71bda23",
            "1990dd417a7e41e683ede572e4c78b73",
            "d875eaa26cdc4e95bc5e2907359fbf98",
            "495ceb36c73d4c109f1cdbd058ae1d4d",
            "237a033d8e404fc280efbd6644e4b342",
            "cad1a4154b4f4760b028afac3d15d7f5",
            "f53e0d44d3c94bc79edcac1b5021141a",
            "b26d49391eee4123afcd1820e4504728"
          ]
        },
        "id": "ToJEyAx2aqya",
        "executionInfo": {
          "status": "ok",
          "timestamp": 1742474572571,
          "user_tz": -330,
          "elapsed": 1006,
          "user": {
            "displayName": "Chinmay Pandey",
            "userId": "13013544925378087637"
          }
        },
        "outputId": "8747f5ac-bded-41eb-ea63-a4e27a17ec07"
      },
      "outputs": [
        {
          "output_type": "display_data",
          "data": {
            "text/plain": [
              "VBox(children=(HTML(value='<center> <img\\nsrc=https://www.kaggle.com/static/images/site-logo.png\\nalt=\\'Kaggle…"
            ],
            "application/vnd.jupyter.widget-view+json": {
              "version_major": 2,
              "version_minor": 0,
              "model_id": "912998f863e54294899ab04ded442799"
            }
          },
          "metadata": {}
        },
        {
          "output_type": "stream",
          "name": "stdout",
          "text": [
            "Kaggle credentials set.\n",
            "Kaggle credentials successfully validated.\n"
          ]
        }
      ],
      "source": [
        "# IMPORTANT: SOME KAGGLE DATA SOURCES ARE PRIVATE\n",
        "# RUN THIS CELL IN ORDER TO IMPORT YOUR KAGGLE DATA SOURCES.\n",
        "import kagglehub\n",
        "kagglehub.login()"
      ]
    },
    {
      "cell_type": "code",
      "source": [
        "# IMPORTANT: RUN THIS CELL IN ORDER TO IMPORT YOUR KAGGLE DATA SOURCES,\n",
        "# THEN FEEL FREE TO DELETE THIS CELL.\n",
        "# NOTE: THIS NOTEBOOK ENVIRONMENT DIFFERS FROM KAGGLE'S PYTHON\n",
        "# ENVIRONMENT SO THERE MAY BE MISSING LIBRARIES USED BY YOUR\n",
        "# NOTEBOOK.\n",
        "import os\n",
        "import shutil\n",
        "\n",
        "print(os.getcwd())\n",
        "spaceship_titanic_path = kagglehub.competition_download('spaceship-titanic')\n",
        "print(spaceship_titanic_path)\n",
        "\n",
        "source_dir = spaceship_titanic_path\n",
        "destination_dir = '../kaggle/'\n",
        "\n",
        "for file_name in os.listdir(source_dir):\n",
        "    file_path = os.path.join(source_dir, file_name)  # Full file path\n",
        "    if os.path.isfile(file_path):  # Check if it's a file\n",
        "        shutil.move(file_path, destination_dir)\n",
        "\n",
        "print('Data source import complete.')\n"
      ],
      "metadata": {
        "colab": {
          "base_uri": "https://localhost:8080/"
        },
        "id": "s34wWstwazrb",
        "executionInfo": {
          "status": "ok",
          "timestamp": 1742474611699,
          "user_tz": -330,
          "elapsed": 733,
          "user": {
            "displayName": "Chinmay Pandey",
            "userId": "13013544925378087637"
          }
        },
        "outputId": "c569217c-e8a6-4ca0-e777-3fa29b14151b"
      },
      "execution_count": 2,
      "outputs": [
        {
          "output_type": "stream",
          "name": "stdout",
          "text": [
            "/content\n",
            "Downloading from https://www.kaggle.com/api/v1/competitions/data/download-all/spaceship-titanic...\n"
          ]
        },
        {
          "output_type": "stream",
          "name": "stderr",
          "text": [
            "100%|██████████| 299k/299k [00:00<00:00, 57.5MB/s]"
          ]
        },
        {
          "output_type": "stream",
          "name": "stdout",
          "text": [
            "Extracting files...\n",
            "/root/.cache/kagglehub/competitions/spaceship-titanic\n",
            "Data source import complete.\n"
          ]
        },
        {
          "output_type": "stream",
          "name": "stderr",
          "text": [
            "\n"
          ]
        }
      ]
    },
    {
      "cell_type": "code",
      "source": [
        "# This Python 3 environment comes with many helpful analytics libraries installed\n",
        "# It is defined by the kaggle/python Docker image: https://github.com/kaggle/docker-python\n",
        "# For example, here's several helpful packages to load\n",
        "\n",
        "import numpy as np # linear algebra\n",
        "import pandas as pd # data processing, CSV file I/O (e.g. pd.read_csv)\n",
        "\n",
        "# Input data files are available in the read-only \"../input/\" directory\n",
        "# For example, running this (by clicking run or pressing Shift+Enter) will list all files under the input directory\n",
        "\n",
        "import os\n",
        "for dirname, _, filenames in os.walk('../kaggle'):\n",
        "    for filename in filenames:\n",
        "        print(os.path.join(dirname, filename))\n",
        "\n",
        "# You can write up to 20GB to the current directory (/kaggle/working/) that gets preserved as output when you create a version using \"Save & Run All\"\n",
        "# You can also write temporary files to /kaggle/temp/, but they won't be saved outside of the current session"
      ],
      "metadata": {
        "colab": {
          "base_uri": "https://localhost:8080/"
        },
        "id": "shR4bIsXa3uM",
        "executionInfo": {
          "status": "ok",
          "timestamp": 1742474614937,
          "user_tz": -330,
          "elapsed": 418,
          "user": {
            "displayName": "Chinmay Pandey",
            "userId": "13013544925378087637"
          }
        },
        "outputId": "e138f390-7e8b-416f-a7de-7b2a6ba763f4"
      },
      "execution_count": 3,
      "outputs": [
        {
          "output_type": "stream",
          "name": "stdout",
          "text": [
            "../kaggle/sample_submission.csv\n",
            "../kaggle/train.csv\n",
            "../kaggle/test.csv\n"
          ]
        }
      ]
    },
    {
      "cell_type": "code",
      "source": [
        "train_data = pd.read_csv('../kaggle/train.csv')"
      ],
      "metadata": {
        "id": "U_8mXZv4a7Vo",
        "executionInfo": {
          "status": "ok",
          "timestamp": 1742482227415,
          "user_tz": -330,
          "elapsed": 52,
          "user": {
            "displayName": "Chinmay Pandey",
            "userId": "13013544925378087637"
          }
        }
      },
      "execution_count": 251,
      "outputs": []
    },
    {
      "cell_type": "code",
      "source": [
        "test_data = pd.read_csv('../kaggle/test.csv')"
      ],
      "metadata": {
        "id": "76cUJ2v6a73l",
        "executionInfo": {
          "status": "ok",
          "timestamp": 1742482228304,
          "user_tz": -330,
          "elapsed": 21,
          "user": {
            "displayName": "Chinmay Pandey",
            "userId": "13013544925378087637"
          }
        }
      },
      "execution_count": 252,
      "outputs": []
    },
    {
      "cell_type": "code",
      "source": [
        "train_data.isnull().sum()"
      ],
      "metadata": {
        "colab": {
          "base_uri": "https://localhost:8080/",
          "height": 523
        },
        "id": "U_uBzQLvbFQa",
        "executionInfo": {
          "status": "ok",
          "timestamp": 1742482228975,
          "user_tz": -330,
          "elapsed": 23,
          "user": {
            "displayName": "Chinmay Pandey",
            "userId": "13013544925378087637"
          }
        },
        "outputId": "f3f649d8-dd43-44b9-be37-16130859143a"
      },
      "execution_count": 253,
      "outputs": [
        {
          "output_type": "execute_result",
          "data": {
            "text/plain": [
              "PassengerId       0\n",
              "HomePlanet      201\n",
              "CryoSleep       217\n",
              "Cabin           199\n",
              "Destination     182\n",
              "Age             179\n",
              "VIP             203\n",
              "RoomService     181\n",
              "FoodCourt       183\n",
              "ShoppingMall    208\n",
              "Spa             183\n",
              "VRDeck          188\n",
              "Name            200\n",
              "Transported       0\n",
              "dtype: int64"
            ],
            "text/html": [
              "<div>\n",
              "<style scoped>\n",
              "    .dataframe tbody tr th:only-of-type {\n",
              "        vertical-align: middle;\n",
              "    }\n",
              "\n",
              "    .dataframe tbody tr th {\n",
              "        vertical-align: top;\n",
              "    }\n",
              "\n",
              "    .dataframe thead th {\n",
              "        text-align: right;\n",
              "    }\n",
              "</style>\n",
              "<table border=\"1\" class=\"dataframe\">\n",
              "  <thead>\n",
              "    <tr style=\"text-align: right;\">\n",
              "      <th></th>\n",
              "      <th>0</th>\n",
              "    </tr>\n",
              "  </thead>\n",
              "  <tbody>\n",
              "    <tr>\n",
              "      <th>PassengerId</th>\n",
              "      <td>0</td>\n",
              "    </tr>\n",
              "    <tr>\n",
              "      <th>HomePlanet</th>\n",
              "      <td>201</td>\n",
              "    </tr>\n",
              "    <tr>\n",
              "      <th>CryoSleep</th>\n",
              "      <td>217</td>\n",
              "    </tr>\n",
              "    <tr>\n",
              "      <th>Cabin</th>\n",
              "      <td>199</td>\n",
              "    </tr>\n",
              "    <tr>\n",
              "      <th>Destination</th>\n",
              "      <td>182</td>\n",
              "    </tr>\n",
              "    <tr>\n",
              "      <th>Age</th>\n",
              "      <td>179</td>\n",
              "    </tr>\n",
              "    <tr>\n",
              "      <th>VIP</th>\n",
              "      <td>203</td>\n",
              "    </tr>\n",
              "    <tr>\n",
              "      <th>RoomService</th>\n",
              "      <td>181</td>\n",
              "    </tr>\n",
              "    <tr>\n",
              "      <th>FoodCourt</th>\n",
              "      <td>183</td>\n",
              "    </tr>\n",
              "    <tr>\n",
              "      <th>ShoppingMall</th>\n",
              "      <td>208</td>\n",
              "    </tr>\n",
              "    <tr>\n",
              "      <th>Spa</th>\n",
              "      <td>183</td>\n",
              "    </tr>\n",
              "    <tr>\n",
              "      <th>VRDeck</th>\n",
              "      <td>188</td>\n",
              "    </tr>\n",
              "    <tr>\n",
              "      <th>Name</th>\n",
              "      <td>200</td>\n",
              "    </tr>\n",
              "    <tr>\n",
              "      <th>Transported</th>\n",
              "      <td>0</td>\n",
              "    </tr>\n",
              "  </tbody>\n",
              "</table>\n",
              "</div><br><label><b>dtype:</b> int64</label>"
            ]
          },
          "metadata": {},
          "execution_count": 253
        }
      ]
    },
    {
      "cell_type": "code",
      "source": [
        "train_data.head()"
      ],
      "metadata": {
        "colab": {
          "base_uri": "https://localhost:8080/",
          "height": 313
        },
        "id": "MfS1w7rtbKRY",
        "executionInfo": {
          "status": "ok",
          "timestamp": 1742482230253,
          "user_tz": -330,
          "elapsed": 157,
          "user": {
            "displayName": "Chinmay Pandey",
            "userId": "13013544925378087637"
          }
        },
        "outputId": "5e6c1034-2441-4a8e-b96f-7cacb2846e50"
      },
      "execution_count": 254,
      "outputs": [
        {
          "output_type": "execute_result",
          "data": {
            "text/plain": [
              "  PassengerId HomePlanet CryoSleep  Cabin  Destination   Age    VIP  \\\n",
              "0     0001_01     Europa     False  B/0/P  TRAPPIST-1e  39.0  False   \n",
              "1     0002_01      Earth     False  F/0/S  TRAPPIST-1e  24.0  False   \n",
              "2     0003_01     Europa     False  A/0/S  TRAPPIST-1e  58.0   True   \n",
              "3     0003_02     Europa     False  A/0/S  TRAPPIST-1e  33.0  False   \n",
              "4     0004_01      Earth     False  F/1/S  TRAPPIST-1e  16.0  False   \n",
              "\n",
              "   RoomService  FoodCourt  ShoppingMall     Spa  VRDeck               Name  \\\n",
              "0          0.0        0.0           0.0     0.0     0.0    Maham Ofracculy   \n",
              "1        109.0        9.0          25.0   549.0    44.0       Juanna Vines   \n",
              "2         43.0     3576.0           0.0  6715.0    49.0      Altark Susent   \n",
              "3          0.0     1283.0         371.0  3329.0   193.0       Solam Susent   \n",
              "4        303.0       70.0         151.0   565.0     2.0  Willy Santantines   \n",
              "\n",
              "   Transported  \n",
              "0        False  \n",
              "1         True  \n",
              "2        False  \n",
              "3        False  \n",
              "4         True  "
            ],
            "text/html": [
              "\n",
              "  <div id=\"df-ebb491a8-0705-42b5-afac-e9888883f04e\" class=\"colab-df-container\">\n",
              "    <div>\n",
              "<style scoped>\n",
              "    .dataframe tbody tr th:only-of-type {\n",
              "        vertical-align: middle;\n",
              "    }\n",
              "\n",
              "    .dataframe tbody tr th {\n",
              "        vertical-align: top;\n",
              "    }\n",
              "\n",
              "    .dataframe thead th {\n",
              "        text-align: right;\n",
              "    }\n",
              "</style>\n",
              "<table border=\"1\" class=\"dataframe\">\n",
              "  <thead>\n",
              "    <tr style=\"text-align: right;\">\n",
              "      <th></th>\n",
              "      <th>PassengerId</th>\n",
              "      <th>HomePlanet</th>\n",
              "      <th>CryoSleep</th>\n",
              "      <th>Cabin</th>\n",
              "      <th>Destination</th>\n",
              "      <th>Age</th>\n",
              "      <th>VIP</th>\n",
              "      <th>RoomService</th>\n",
              "      <th>FoodCourt</th>\n",
              "      <th>ShoppingMall</th>\n",
              "      <th>Spa</th>\n",
              "      <th>VRDeck</th>\n",
              "      <th>Name</th>\n",
              "      <th>Transported</th>\n",
              "    </tr>\n",
              "  </thead>\n",
              "  <tbody>\n",
              "    <tr>\n",
              "      <th>0</th>\n",
              "      <td>0001_01</td>\n",
              "      <td>Europa</td>\n",
              "      <td>False</td>\n",
              "      <td>B/0/P</td>\n",
              "      <td>TRAPPIST-1e</td>\n",
              "      <td>39.0</td>\n",
              "      <td>False</td>\n",
              "      <td>0.0</td>\n",
              "      <td>0.0</td>\n",
              "      <td>0.0</td>\n",
              "      <td>0.0</td>\n",
              "      <td>0.0</td>\n",
              "      <td>Maham Ofracculy</td>\n",
              "      <td>False</td>\n",
              "    </tr>\n",
              "    <tr>\n",
              "      <th>1</th>\n",
              "      <td>0002_01</td>\n",
              "      <td>Earth</td>\n",
              "      <td>False</td>\n",
              "      <td>F/0/S</td>\n",
              "      <td>TRAPPIST-1e</td>\n",
              "      <td>24.0</td>\n",
              "      <td>False</td>\n",
              "      <td>109.0</td>\n",
              "      <td>9.0</td>\n",
              "      <td>25.0</td>\n",
              "      <td>549.0</td>\n",
              "      <td>44.0</td>\n",
              "      <td>Juanna Vines</td>\n",
              "      <td>True</td>\n",
              "    </tr>\n",
              "    <tr>\n",
              "      <th>2</th>\n",
              "      <td>0003_01</td>\n",
              "      <td>Europa</td>\n",
              "      <td>False</td>\n",
              "      <td>A/0/S</td>\n",
              "      <td>TRAPPIST-1e</td>\n",
              "      <td>58.0</td>\n",
              "      <td>True</td>\n",
              "      <td>43.0</td>\n",
              "      <td>3576.0</td>\n",
              "      <td>0.0</td>\n",
              "      <td>6715.0</td>\n",
              "      <td>49.0</td>\n",
              "      <td>Altark Susent</td>\n",
              "      <td>False</td>\n",
              "    </tr>\n",
              "    <tr>\n",
              "      <th>3</th>\n",
              "      <td>0003_02</td>\n",
              "      <td>Europa</td>\n",
              "      <td>False</td>\n",
              "      <td>A/0/S</td>\n",
              "      <td>TRAPPIST-1e</td>\n",
              "      <td>33.0</td>\n",
              "      <td>False</td>\n",
              "      <td>0.0</td>\n",
              "      <td>1283.0</td>\n",
              "      <td>371.0</td>\n",
              "      <td>3329.0</td>\n",
              "      <td>193.0</td>\n",
              "      <td>Solam Susent</td>\n",
              "      <td>False</td>\n",
              "    </tr>\n",
              "    <tr>\n",
              "      <th>4</th>\n",
              "      <td>0004_01</td>\n",
              "      <td>Earth</td>\n",
              "      <td>False</td>\n",
              "      <td>F/1/S</td>\n",
              "      <td>TRAPPIST-1e</td>\n",
              "      <td>16.0</td>\n",
              "      <td>False</td>\n",
              "      <td>303.0</td>\n",
              "      <td>70.0</td>\n",
              "      <td>151.0</td>\n",
              "      <td>565.0</td>\n",
              "      <td>2.0</td>\n",
              "      <td>Willy Santantines</td>\n",
              "      <td>True</td>\n",
              "    </tr>\n",
              "  </tbody>\n",
              "</table>\n",
              "</div>\n",
              "    <div class=\"colab-df-buttons\">\n",
              "\n",
              "  <div class=\"colab-df-container\">\n",
              "    <button class=\"colab-df-convert\" onclick=\"convertToInteractive('df-ebb491a8-0705-42b5-afac-e9888883f04e')\"\n",
              "            title=\"Convert this dataframe to an interactive table.\"\n",
              "            style=\"display:none;\">\n",
              "\n",
              "  <svg xmlns=\"http://www.w3.org/2000/svg\" height=\"24px\" viewBox=\"0 -960 960 960\">\n",
              "    <path d=\"M120-120v-720h720v720H120Zm60-500h600v-160H180v160Zm220 220h160v-160H400v160Zm0 220h160v-160H400v160ZM180-400h160v-160H180v160Zm440 0h160v-160H620v160ZM180-180h160v-160H180v160Zm440 0h160v-160H620v160Z\"/>\n",
              "  </svg>\n",
              "    </button>\n",
              "\n",
              "  <style>\n",
              "    .colab-df-container {\n",
              "      display:flex;\n",
              "      gap: 12px;\n",
              "    }\n",
              "\n",
              "    .colab-df-convert {\n",
              "      background-color: #E8F0FE;\n",
              "      border: none;\n",
              "      border-radius: 50%;\n",
              "      cursor: pointer;\n",
              "      display: none;\n",
              "      fill: #1967D2;\n",
              "      height: 32px;\n",
              "      padding: 0 0 0 0;\n",
              "      width: 32px;\n",
              "    }\n",
              "\n",
              "    .colab-df-convert:hover {\n",
              "      background-color: #E2EBFA;\n",
              "      box-shadow: 0px 1px 2px rgba(60, 64, 67, 0.3), 0px 1px 3px 1px rgba(60, 64, 67, 0.15);\n",
              "      fill: #174EA6;\n",
              "    }\n",
              "\n",
              "    .colab-df-buttons div {\n",
              "      margin-bottom: 4px;\n",
              "    }\n",
              "\n",
              "    [theme=dark] .colab-df-convert {\n",
              "      background-color: #3B4455;\n",
              "      fill: #D2E3FC;\n",
              "    }\n",
              "\n",
              "    [theme=dark] .colab-df-convert:hover {\n",
              "      background-color: #434B5C;\n",
              "      box-shadow: 0px 1px 3px 1px rgba(0, 0, 0, 0.15);\n",
              "      filter: drop-shadow(0px 1px 2px rgba(0, 0, 0, 0.3));\n",
              "      fill: #FFFFFF;\n",
              "    }\n",
              "  </style>\n",
              "\n",
              "    <script>\n",
              "      const buttonEl =\n",
              "        document.querySelector('#df-ebb491a8-0705-42b5-afac-e9888883f04e button.colab-df-convert');\n",
              "      buttonEl.style.display =\n",
              "        google.colab.kernel.accessAllowed ? 'block' : 'none';\n",
              "\n",
              "      async function convertToInteractive(key) {\n",
              "        const element = document.querySelector('#df-ebb491a8-0705-42b5-afac-e9888883f04e');\n",
              "        const dataTable =\n",
              "          await google.colab.kernel.invokeFunction('convertToInteractive',\n",
              "                                                    [key], {});\n",
              "        if (!dataTable) return;\n",
              "\n",
              "        const docLinkHtml = 'Like what you see? Visit the ' +\n",
              "          '<a target=\"_blank\" href=https://colab.research.google.com/notebooks/data_table.ipynb>data table notebook</a>'\n",
              "          + ' to learn more about interactive tables.';\n",
              "        element.innerHTML = '';\n",
              "        dataTable['output_type'] = 'display_data';\n",
              "        await google.colab.output.renderOutput(dataTable, element);\n",
              "        const docLink = document.createElement('div');\n",
              "        docLink.innerHTML = docLinkHtml;\n",
              "        element.appendChild(docLink);\n",
              "      }\n",
              "    </script>\n",
              "  </div>\n",
              "\n",
              "\n",
              "<div id=\"df-61c05227-d2b0-4632-8f69-ff288e4f33bb\">\n",
              "  <button class=\"colab-df-quickchart\" onclick=\"quickchart('df-61c05227-d2b0-4632-8f69-ff288e4f33bb')\"\n",
              "            title=\"Suggest charts\"\n",
              "            style=\"display:none;\">\n",
              "\n",
              "<svg xmlns=\"http://www.w3.org/2000/svg\" height=\"24px\"viewBox=\"0 0 24 24\"\n",
              "     width=\"24px\">\n",
              "    <g>\n",
              "        <path d=\"M19 3H5c-1.1 0-2 .9-2 2v14c0 1.1.9 2 2 2h14c1.1 0 2-.9 2-2V5c0-1.1-.9-2-2-2zM9 17H7v-7h2v7zm4 0h-2V7h2v10zm4 0h-2v-4h2v4z\"/>\n",
              "    </g>\n",
              "</svg>\n",
              "  </button>\n",
              "\n",
              "<style>\n",
              "  .colab-df-quickchart {\n",
              "      --bg-color: #E8F0FE;\n",
              "      --fill-color: #1967D2;\n",
              "      --hover-bg-color: #E2EBFA;\n",
              "      --hover-fill-color: #174EA6;\n",
              "      --disabled-fill-color: #AAA;\n",
              "      --disabled-bg-color: #DDD;\n",
              "  }\n",
              "\n",
              "  [theme=dark] .colab-df-quickchart {\n",
              "      --bg-color: #3B4455;\n",
              "      --fill-color: #D2E3FC;\n",
              "      --hover-bg-color: #434B5C;\n",
              "      --hover-fill-color: #FFFFFF;\n",
              "      --disabled-bg-color: #3B4455;\n",
              "      --disabled-fill-color: #666;\n",
              "  }\n",
              "\n",
              "  .colab-df-quickchart {\n",
              "    background-color: var(--bg-color);\n",
              "    border: none;\n",
              "    border-radius: 50%;\n",
              "    cursor: pointer;\n",
              "    display: none;\n",
              "    fill: var(--fill-color);\n",
              "    height: 32px;\n",
              "    padding: 0;\n",
              "    width: 32px;\n",
              "  }\n",
              "\n",
              "  .colab-df-quickchart:hover {\n",
              "    background-color: var(--hover-bg-color);\n",
              "    box-shadow: 0 1px 2px rgba(60, 64, 67, 0.3), 0 1px 3px 1px rgba(60, 64, 67, 0.15);\n",
              "    fill: var(--button-hover-fill-color);\n",
              "  }\n",
              "\n",
              "  .colab-df-quickchart-complete:disabled,\n",
              "  .colab-df-quickchart-complete:disabled:hover {\n",
              "    background-color: var(--disabled-bg-color);\n",
              "    fill: var(--disabled-fill-color);\n",
              "    box-shadow: none;\n",
              "  }\n",
              "\n",
              "  .colab-df-spinner {\n",
              "    border: 2px solid var(--fill-color);\n",
              "    border-color: transparent;\n",
              "    border-bottom-color: var(--fill-color);\n",
              "    animation:\n",
              "      spin 1s steps(1) infinite;\n",
              "  }\n",
              "\n",
              "  @keyframes spin {\n",
              "    0% {\n",
              "      border-color: transparent;\n",
              "      border-bottom-color: var(--fill-color);\n",
              "      border-left-color: var(--fill-color);\n",
              "    }\n",
              "    20% {\n",
              "      border-color: transparent;\n",
              "      border-left-color: var(--fill-color);\n",
              "      border-top-color: var(--fill-color);\n",
              "    }\n",
              "    30% {\n",
              "      border-color: transparent;\n",
              "      border-left-color: var(--fill-color);\n",
              "      border-top-color: var(--fill-color);\n",
              "      border-right-color: var(--fill-color);\n",
              "    }\n",
              "    40% {\n",
              "      border-color: transparent;\n",
              "      border-right-color: var(--fill-color);\n",
              "      border-top-color: var(--fill-color);\n",
              "    }\n",
              "    60% {\n",
              "      border-color: transparent;\n",
              "      border-right-color: var(--fill-color);\n",
              "    }\n",
              "    80% {\n",
              "      border-color: transparent;\n",
              "      border-right-color: var(--fill-color);\n",
              "      border-bottom-color: var(--fill-color);\n",
              "    }\n",
              "    90% {\n",
              "      border-color: transparent;\n",
              "      border-bottom-color: var(--fill-color);\n",
              "    }\n",
              "  }\n",
              "</style>\n",
              "\n",
              "  <script>\n",
              "    async function quickchart(key) {\n",
              "      const quickchartButtonEl =\n",
              "        document.querySelector('#' + key + ' button');\n",
              "      quickchartButtonEl.disabled = true;  // To prevent multiple clicks.\n",
              "      quickchartButtonEl.classList.add('colab-df-spinner');\n",
              "      try {\n",
              "        const charts = await google.colab.kernel.invokeFunction(\n",
              "            'suggestCharts', [key], {});\n",
              "      } catch (error) {\n",
              "        console.error('Error during call to suggestCharts:', error);\n",
              "      }\n",
              "      quickchartButtonEl.classList.remove('colab-df-spinner');\n",
              "      quickchartButtonEl.classList.add('colab-df-quickchart-complete');\n",
              "    }\n",
              "    (() => {\n",
              "      let quickchartButtonEl =\n",
              "        document.querySelector('#df-61c05227-d2b0-4632-8f69-ff288e4f33bb button');\n",
              "      quickchartButtonEl.style.display =\n",
              "        google.colab.kernel.accessAllowed ? 'block' : 'none';\n",
              "    })();\n",
              "  </script>\n",
              "</div>\n",
              "\n",
              "    </div>\n",
              "  </div>\n"
            ],
            "application/vnd.google.colaboratory.intrinsic+json": {
              "type": "dataframe",
              "variable_name": "train_data",
              "summary": "{\n  \"name\": \"train_data\",\n  \"rows\": 8693,\n  \"fields\": [\n    {\n      \"column\": \"PassengerId\",\n      \"properties\": {\n        \"dtype\": \"string\",\n        \"num_unique_values\": 8693,\n        \"samples\": [\n          \"0337_02\",\n          \"2891_01\",\n          \"8998_01\"\n        ],\n        \"semantic_type\": \"\",\n        \"description\": \"\"\n      }\n    },\n    {\n      \"column\": \"HomePlanet\",\n      \"properties\": {\n        \"dtype\": \"category\",\n        \"num_unique_values\": 3,\n        \"samples\": [\n          \"Europa\",\n          \"Earth\",\n          \"Mars\"\n        ],\n        \"semantic_type\": \"\",\n        \"description\": \"\"\n      }\n    },\n    {\n      \"column\": \"CryoSleep\",\n      \"properties\": {\n        \"dtype\": \"category\",\n        \"num_unique_values\": 2,\n        \"samples\": [\n          true,\n          false\n        ],\n        \"semantic_type\": \"\",\n        \"description\": \"\"\n      }\n    },\n    {\n      \"column\": \"Cabin\",\n      \"properties\": {\n        \"dtype\": \"string\",\n        \"num_unique_values\": 6560,\n        \"samples\": [\n          \"A/29/P\",\n          \"G/1452/P\"\n        ],\n        \"semantic_type\": \"\",\n        \"description\": \"\"\n      }\n    },\n    {\n      \"column\": \"Destination\",\n      \"properties\": {\n        \"dtype\": \"category\",\n        \"num_unique_values\": 3,\n        \"samples\": [\n          \"TRAPPIST-1e\",\n          \"PSO J318.5-22\"\n        ],\n        \"semantic_type\": \"\",\n        \"description\": \"\"\n      }\n    },\n    {\n      \"column\": \"Age\",\n      \"properties\": {\n        \"dtype\": \"number\",\n        \"std\": 14.489021423908726,\n        \"min\": 0.0,\n        \"max\": 79.0,\n        \"num_unique_values\": 80,\n        \"samples\": [\n          30.0,\n          39.0\n        ],\n        \"semantic_type\": \"\",\n        \"description\": \"\"\n      }\n    },\n    {\n      \"column\": \"VIP\",\n      \"properties\": {\n        \"dtype\": \"category\",\n        \"num_unique_values\": 2,\n        \"samples\": [\n          true,\n          false\n        ],\n        \"semantic_type\": \"\",\n        \"description\": \"\"\n      }\n    },\n    {\n      \"column\": \"RoomService\",\n      \"properties\": {\n        \"dtype\": \"number\",\n        \"std\": 666.7176629280303,\n        \"min\": 0.0,\n        \"max\": 14327.0,\n        \"num_unique_values\": 1273,\n        \"samples\": [\n          2103.0,\n          1720.0\n        ],\n        \"semantic_type\": \"\",\n        \"description\": \"\"\n      }\n    },\n    {\n      \"column\": \"FoodCourt\",\n      \"properties\": {\n        \"dtype\": \"number\",\n        \"std\": 1611.4892403551144,\n        \"min\": 0.0,\n        \"max\": 29813.0,\n        \"num_unique_values\": 1507,\n        \"samples\": [\n          61.0,\n          783.0\n        ],\n        \"semantic_type\": \"\",\n        \"description\": \"\"\n      }\n    },\n    {\n      \"column\": \"ShoppingMall\",\n      \"properties\": {\n        \"dtype\": \"number\",\n        \"std\": 604.6964584708251,\n        \"min\": 0.0,\n        \"max\": 23492.0,\n        \"num_unique_values\": 1115,\n        \"samples\": [\n          619.0,\n          356.0\n        ],\n        \"semantic_type\": \"\",\n        \"description\": \"\"\n      }\n    },\n    {\n      \"column\": \"Spa\",\n      \"properties\": {\n        \"dtype\": \"number\",\n        \"std\": 1136.705534834416,\n        \"min\": 0.0,\n        \"max\": 22408.0,\n        \"num_unique_values\": 1327,\n        \"samples\": [\n          190.0,\n          622.0\n        ],\n        \"semantic_type\": \"\",\n        \"description\": \"\"\n      }\n    },\n    {\n      \"column\": \"VRDeck\",\n      \"properties\": {\n        \"dtype\": \"number\",\n        \"std\": 1145.7171888057144,\n        \"min\": 0.0,\n        \"max\": 24133.0,\n        \"num_unique_values\": 1306,\n        \"samples\": [\n          977.0,\n          624.0\n        ],\n        \"semantic_type\": \"\",\n        \"description\": \"\"\n      }\n    },\n    {\n      \"column\": \"Name\",\n      \"properties\": {\n        \"dtype\": \"string\",\n        \"num_unique_values\": 8473,\n        \"samples\": [\n          \"Nancey Bookerson\",\n          \"Nelly Benney\"\n        ],\n        \"semantic_type\": \"\",\n        \"description\": \"\"\n      }\n    },\n    {\n      \"column\": \"Transported\",\n      \"properties\": {\n        \"dtype\": \"boolean\",\n        \"num_unique_values\": 2,\n        \"samples\": [\n          true,\n          false\n        ],\n        \"semantic_type\": \"\",\n        \"description\": \"\"\n      }\n    }\n  ]\n}"
            }
          },
          "metadata": {},
          "execution_count": 254
        }
      ]
    },
    {
      "cell_type": "code",
      "source": [
        "train_data.describe()"
      ],
      "metadata": {
        "colab": {
          "base_uri": "https://localhost:8080/",
          "height": 300
        },
        "id": "YUrwBrBhdeIZ",
        "executionInfo": {
          "status": "ok",
          "timestamp": 1742482232566,
          "user_tz": -330,
          "elapsed": 108,
          "user": {
            "displayName": "Chinmay Pandey",
            "userId": "13013544925378087637"
          }
        },
        "outputId": "5ab8e4dd-fc6b-45e9-fab4-b0bf7952575b"
      },
      "execution_count": 255,
      "outputs": [
        {
          "output_type": "execute_result",
          "data": {
            "text/plain": [
              "               Age   RoomService     FoodCourt  ShoppingMall           Spa  \\\n",
              "count  8514.000000   8512.000000   8510.000000   8485.000000   8510.000000   \n",
              "mean     28.827930    224.687617    458.077203    173.729169    311.138778   \n",
              "std      14.489021    666.717663   1611.489240    604.696458   1136.705535   \n",
              "min       0.000000      0.000000      0.000000      0.000000      0.000000   \n",
              "25%      19.000000      0.000000      0.000000      0.000000      0.000000   \n",
              "50%      27.000000      0.000000      0.000000      0.000000      0.000000   \n",
              "75%      38.000000     47.000000     76.000000     27.000000     59.000000   \n",
              "max      79.000000  14327.000000  29813.000000  23492.000000  22408.000000   \n",
              "\n",
              "             VRDeck  \n",
              "count   8505.000000  \n",
              "mean     304.854791  \n",
              "std     1145.717189  \n",
              "min        0.000000  \n",
              "25%        0.000000  \n",
              "50%        0.000000  \n",
              "75%       46.000000  \n",
              "max    24133.000000  "
            ],
            "text/html": [
              "\n",
              "  <div id=\"df-98b9c0a8-2e64-43aa-98be-e335c3e48e1c\" class=\"colab-df-container\">\n",
              "    <div>\n",
              "<style scoped>\n",
              "    .dataframe tbody tr th:only-of-type {\n",
              "        vertical-align: middle;\n",
              "    }\n",
              "\n",
              "    .dataframe tbody tr th {\n",
              "        vertical-align: top;\n",
              "    }\n",
              "\n",
              "    .dataframe thead th {\n",
              "        text-align: right;\n",
              "    }\n",
              "</style>\n",
              "<table border=\"1\" class=\"dataframe\">\n",
              "  <thead>\n",
              "    <tr style=\"text-align: right;\">\n",
              "      <th></th>\n",
              "      <th>Age</th>\n",
              "      <th>RoomService</th>\n",
              "      <th>FoodCourt</th>\n",
              "      <th>ShoppingMall</th>\n",
              "      <th>Spa</th>\n",
              "      <th>VRDeck</th>\n",
              "    </tr>\n",
              "  </thead>\n",
              "  <tbody>\n",
              "    <tr>\n",
              "      <th>count</th>\n",
              "      <td>8514.000000</td>\n",
              "      <td>8512.000000</td>\n",
              "      <td>8510.000000</td>\n",
              "      <td>8485.000000</td>\n",
              "      <td>8510.000000</td>\n",
              "      <td>8505.000000</td>\n",
              "    </tr>\n",
              "    <tr>\n",
              "      <th>mean</th>\n",
              "      <td>28.827930</td>\n",
              "      <td>224.687617</td>\n",
              "      <td>458.077203</td>\n",
              "      <td>173.729169</td>\n",
              "      <td>311.138778</td>\n",
              "      <td>304.854791</td>\n",
              "    </tr>\n",
              "    <tr>\n",
              "      <th>std</th>\n",
              "      <td>14.489021</td>\n",
              "      <td>666.717663</td>\n",
              "      <td>1611.489240</td>\n",
              "      <td>604.696458</td>\n",
              "      <td>1136.705535</td>\n",
              "      <td>1145.717189</td>\n",
              "    </tr>\n",
              "    <tr>\n",
              "      <th>min</th>\n",
              "      <td>0.000000</td>\n",
              "      <td>0.000000</td>\n",
              "      <td>0.000000</td>\n",
              "      <td>0.000000</td>\n",
              "      <td>0.000000</td>\n",
              "      <td>0.000000</td>\n",
              "    </tr>\n",
              "    <tr>\n",
              "      <th>25%</th>\n",
              "      <td>19.000000</td>\n",
              "      <td>0.000000</td>\n",
              "      <td>0.000000</td>\n",
              "      <td>0.000000</td>\n",
              "      <td>0.000000</td>\n",
              "      <td>0.000000</td>\n",
              "    </tr>\n",
              "    <tr>\n",
              "      <th>50%</th>\n",
              "      <td>27.000000</td>\n",
              "      <td>0.000000</td>\n",
              "      <td>0.000000</td>\n",
              "      <td>0.000000</td>\n",
              "      <td>0.000000</td>\n",
              "      <td>0.000000</td>\n",
              "    </tr>\n",
              "    <tr>\n",
              "      <th>75%</th>\n",
              "      <td>38.000000</td>\n",
              "      <td>47.000000</td>\n",
              "      <td>76.000000</td>\n",
              "      <td>27.000000</td>\n",
              "      <td>59.000000</td>\n",
              "      <td>46.000000</td>\n",
              "    </tr>\n",
              "    <tr>\n",
              "      <th>max</th>\n",
              "      <td>79.000000</td>\n",
              "      <td>14327.000000</td>\n",
              "      <td>29813.000000</td>\n",
              "      <td>23492.000000</td>\n",
              "      <td>22408.000000</td>\n",
              "      <td>24133.000000</td>\n",
              "    </tr>\n",
              "  </tbody>\n",
              "</table>\n",
              "</div>\n",
              "    <div class=\"colab-df-buttons\">\n",
              "\n",
              "  <div class=\"colab-df-container\">\n",
              "    <button class=\"colab-df-convert\" onclick=\"convertToInteractive('df-98b9c0a8-2e64-43aa-98be-e335c3e48e1c')\"\n",
              "            title=\"Convert this dataframe to an interactive table.\"\n",
              "            style=\"display:none;\">\n",
              "\n",
              "  <svg xmlns=\"http://www.w3.org/2000/svg\" height=\"24px\" viewBox=\"0 -960 960 960\">\n",
              "    <path d=\"M120-120v-720h720v720H120Zm60-500h600v-160H180v160Zm220 220h160v-160H400v160Zm0 220h160v-160H400v160ZM180-400h160v-160H180v160Zm440 0h160v-160H620v160ZM180-180h160v-160H180v160Zm440 0h160v-160H620v160Z\"/>\n",
              "  </svg>\n",
              "    </button>\n",
              "\n",
              "  <style>\n",
              "    .colab-df-container {\n",
              "      display:flex;\n",
              "      gap: 12px;\n",
              "    }\n",
              "\n",
              "    .colab-df-convert {\n",
              "      background-color: #E8F0FE;\n",
              "      border: none;\n",
              "      border-radius: 50%;\n",
              "      cursor: pointer;\n",
              "      display: none;\n",
              "      fill: #1967D2;\n",
              "      height: 32px;\n",
              "      padding: 0 0 0 0;\n",
              "      width: 32px;\n",
              "    }\n",
              "\n",
              "    .colab-df-convert:hover {\n",
              "      background-color: #E2EBFA;\n",
              "      box-shadow: 0px 1px 2px rgba(60, 64, 67, 0.3), 0px 1px 3px 1px rgba(60, 64, 67, 0.15);\n",
              "      fill: #174EA6;\n",
              "    }\n",
              "\n",
              "    .colab-df-buttons div {\n",
              "      margin-bottom: 4px;\n",
              "    }\n",
              "\n",
              "    [theme=dark] .colab-df-convert {\n",
              "      background-color: #3B4455;\n",
              "      fill: #D2E3FC;\n",
              "    }\n",
              "\n",
              "    [theme=dark] .colab-df-convert:hover {\n",
              "      background-color: #434B5C;\n",
              "      box-shadow: 0px 1px 3px 1px rgba(0, 0, 0, 0.15);\n",
              "      filter: drop-shadow(0px 1px 2px rgba(0, 0, 0, 0.3));\n",
              "      fill: #FFFFFF;\n",
              "    }\n",
              "  </style>\n",
              "\n",
              "    <script>\n",
              "      const buttonEl =\n",
              "        document.querySelector('#df-98b9c0a8-2e64-43aa-98be-e335c3e48e1c button.colab-df-convert');\n",
              "      buttonEl.style.display =\n",
              "        google.colab.kernel.accessAllowed ? 'block' : 'none';\n",
              "\n",
              "      async function convertToInteractive(key) {\n",
              "        const element = document.querySelector('#df-98b9c0a8-2e64-43aa-98be-e335c3e48e1c');\n",
              "        const dataTable =\n",
              "          await google.colab.kernel.invokeFunction('convertToInteractive',\n",
              "                                                    [key], {});\n",
              "        if (!dataTable) return;\n",
              "\n",
              "        const docLinkHtml = 'Like what you see? Visit the ' +\n",
              "          '<a target=\"_blank\" href=https://colab.research.google.com/notebooks/data_table.ipynb>data table notebook</a>'\n",
              "          + ' to learn more about interactive tables.';\n",
              "        element.innerHTML = '';\n",
              "        dataTable['output_type'] = 'display_data';\n",
              "        await google.colab.output.renderOutput(dataTable, element);\n",
              "        const docLink = document.createElement('div');\n",
              "        docLink.innerHTML = docLinkHtml;\n",
              "        element.appendChild(docLink);\n",
              "      }\n",
              "    </script>\n",
              "  </div>\n",
              "\n",
              "\n",
              "<div id=\"df-215c9bdc-25fc-48de-a4dc-81cb1c01bc98\">\n",
              "  <button class=\"colab-df-quickchart\" onclick=\"quickchart('df-215c9bdc-25fc-48de-a4dc-81cb1c01bc98')\"\n",
              "            title=\"Suggest charts\"\n",
              "            style=\"display:none;\">\n",
              "\n",
              "<svg xmlns=\"http://www.w3.org/2000/svg\" height=\"24px\"viewBox=\"0 0 24 24\"\n",
              "     width=\"24px\">\n",
              "    <g>\n",
              "        <path d=\"M19 3H5c-1.1 0-2 .9-2 2v14c0 1.1.9 2 2 2h14c1.1 0 2-.9 2-2V5c0-1.1-.9-2-2-2zM9 17H7v-7h2v7zm4 0h-2V7h2v10zm4 0h-2v-4h2v4z\"/>\n",
              "    </g>\n",
              "</svg>\n",
              "  </button>\n",
              "\n",
              "<style>\n",
              "  .colab-df-quickchart {\n",
              "      --bg-color: #E8F0FE;\n",
              "      --fill-color: #1967D2;\n",
              "      --hover-bg-color: #E2EBFA;\n",
              "      --hover-fill-color: #174EA6;\n",
              "      --disabled-fill-color: #AAA;\n",
              "      --disabled-bg-color: #DDD;\n",
              "  }\n",
              "\n",
              "  [theme=dark] .colab-df-quickchart {\n",
              "      --bg-color: #3B4455;\n",
              "      --fill-color: #D2E3FC;\n",
              "      --hover-bg-color: #434B5C;\n",
              "      --hover-fill-color: #FFFFFF;\n",
              "      --disabled-bg-color: #3B4455;\n",
              "      --disabled-fill-color: #666;\n",
              "  }\n",
              "\n",
              "  .colab-df-quickchart {\n",
              "    background-color: var(--bg-color);\n",
              "    border: none;\n",
              "    border-radius: 50%;\n",
              "    cursor: pointer;\n",
              "    display: none;\n",
              "    fill: var(--fill-color);\n",
              "    height: 32px;\n",
              "    padding: 0;\n",
              "    width: 32px;\n",
              "  }\n",
              "\n",
              "  .colab-df-quickchart:hover {\n",
              "    background-color: var(--hover-bg-color);\n",
              "    box-shadow: 0 1px 2px rgba(60, 64, 67, 0.3), 0 1px 3px 1px rgba(60, 64, 67, 0.15);\n",
              "    fill: var(--button-hover-fill-color);\n",
              "  }\n",
              "\n",
              "  .colab-df-quickchart-complete:disabled,\n",
              "  .colab-df-quickchart-complete:disabled:hover {\n",
              "    background-color: var(--disabled-bg-color);\n",
              "    fill: var(--disabled-fill-color);\n",
              "    box-shadow: none;\n",
              "  }\n",
              "\n",
              "  .colab-df-spinner {\n",
              "    border: 2px solid var(--fill-color);\n",
              "    border-color: transparent;\n",
              "    border-bottom-color: var(--fill-color);\n",
              "    animation:\n",
              "      spin 1s steps(1) infinite;\n",
              "  }\n",
              "\n",
              "  @keyframes spin {\n",
              "    0% {\n",
              "      border-color: transparent;\n",
              "      border-bottom-color: var(--fill-color);\n",
              "      border-left-color: var(--fill-color);\n",
              "    }\n",
              "    20% {\n",
              "      border-color: transparent;\n",
              "      border-left-color: var(--fill-color);\n",
              "      border-top-color: var(--fill-color);\n",
              "    }\n",
              "    30% {\n",
              "      border-color: transparent;\n",
              "      border-left-color: var(--fill-color);\n",
              "      border-top-color: var(--fill-color);\n",
              "      border-right-color: var(--fill-color);\n",
              "    }\n",
              "    40% {\n",
              "      border-color: transparent;\n",
              "      border-right-color: var(--fill-color);\n",
              "      border-top-color: var(--fill-color);\n",
              "    }\n",
              "    60% {\n",
              "      border-color: transparent;\n",
              "      border-right-color: var(--fill-color);\n",
              "    }\n",
              "    80% {\n",
              "      border-color: transparent;\n",
              "      border-right-color: var(--fill-color);\n",
              "      border-bottom-color: var(--fill-color);\n",
              "    }\n",
              "    90% {\n",
              "      border-color: transparent;\n",
              "      border-bottom-color: var(--fill-color);\n",
              "    }\n",
              "  }\n",
              "</style>\n",
              "\n",
              "  <script>\n",
              "    async function quickchart(key) {\n",
              "      const quickchartButtonEl =\n",
              "        document.querySelector('#' + key + ' button');\n",
              "      quickchartButtonEl.disabled = true;  // To prevent multiple clicks.\n",
              "      quickchartButtonEl.classList.add('colab-df-spinner');\n",
              "      try {\n",
              "        const charts = await google.colab.kernel.invokeFunction(\n",
              "            'suggestCharts', [key], {});\n",
              "      } catch (error) {\n",
              "        console.error('Error during call to suggestCharts:', error);\n",
              "      }\n",
              "      quickchartButtonEl.classList.remove('colab-df-spinner');\n",
              "      quickchartButtonEl.classList.add('colab-df-quickchart-complete');\n",
              "    }\n",
              "    (() => {\n",
              "      let quickchartButtonEl =\n",
              "        document.querySelector('#df-215c9bdc-25fc-48de-a4dc-81cb1c01bc98 button');\n",
              "      quickchartButtonEl.style.display =\n",
              "        google.colab.kernel.accessAllowed ? 'block' : 'none';\n",
              "    })();\n",
              "  </script>\n",
              "</div>\n",
              "\n",
              "    </div>\n",
              "  </div>\n"
            ],
            "application/vnd.google.colaboratory.intrinsic+json": {
              "type": "dataframe",
              "summary": "{\n  \"name\": \"train_data\",\n  \"rows\": 8,\n  \"fields\": [\n    {\n      \"column\": \"Age\",\n      \"properties\": {\n        \"dtype\": \"number\",\n        \"std\": 2999.8219236109035,\n        \"min\": 0.0,\n        \"max\": 8514.0,\n        \"num_unique_values\": 8,\n        \"samples\": [\n          28.82793046746535,\n          27.0,\n          8514.0\n        ],\n        \"semantic_type\": \"\",\n        \"description\": \"\"\n      }\n    },\n    {\n      \"column\": \"RoomService\",\n      \"properties\": {\n        \"dtype\": \"number\",\n        \"std\": 5445.09810660542,\n        \"min\": 0.0,\n        \"max\": 14327.0,\n        \"num_unique_values\": 6,\n        \"samples\": [\n          8512.0,\n          224.687617481203,\n          14327.0\n        ],\n        \"semantic_type\": \"\",\n        \"description\": \"\"\n      }\n    },\n    {\n      \"column\": \"FoodCourt\",\n      \"properties\": {\n        \"dtype\": \"number\",\n        \"std\": 10415.198156989394,\n        \"min\": 0.0,\n        \"max\": 29813.0,\n        \"num_unique_values\": 6,\n        \"samples\": [\n          8510.0,\n          458.07720329024676,\n          29813.0\n        ],\n        \"semantic_type\": \"\",\n        \"description\": \"\"\n      }\n    },\n    {\n      \"column\": \"ShoppingMall\",\n      \"properties\": {\n        \"dtype\": \"number\",\n        \"std\": 8366.0020224504,\n        \"min\": 0.0,\n        \"max\": 23492.0,\n        \"num_unique_values\": 6,\n        \"samples\": [\n          8485.0,\n          173.72916912197996,\n          23492.0\n        ],\n        \"semantic_type\": \"\",\n        \"description\": \"\"\n      }\n    },\n    {\n      \"column\": \"Spa\",\n      \"properties\": {\n        \"dtype\": \"number\",\n        \"std\": 7968.775096084544,\n        \"min\": 0.0,\n        \"max\": 22408.0,\n        \"num_unique_values\": 6,\n        \"samples\": [\n          8510.0,\n          311.1387779083431,\n          22408.0\n        ],\n        \"semantic_type\": \"\",\n        \"description\": \"\"\n      }\n    },\n    {\n      \"column\": \"VRDeck\",\n      \"properties\": {\n        \"dtype\": \"number\",\n        \"std\": 8539.808535720744,\n        \"min\": 0.0,\n        \"max\": 24133.0,\n        \"num_unique_values\": 6,\n        \"samples\": [\n          8505.0,\n          304.8547912992357,\n          24133.0\n        ],\n        \"semantic_type\": \"\",\n        \"description\": \"\"\n      }\n    }\n  ]\n}"
            }
          },
          "metadata": {},
          "execution_count": 255
        }
      ]
    },
    {
      "cell_type": "code",
      "source": [
        "train_data.info()"
      ],
      "metadata": {
        "colab": {
          "base_uri": "https://localhost:8080/"
        },
        "id": "zEF7EncCeszH",
        "executionInfo": {
          "status": "ok",
          "timestamp": 1742482234155,
          "user_tz": -330,
          "elapsed": 40,
          "user": {
            "displayName": "Chinmay Pandey",
            "userId": "13013544925378087637"
          }
        },
        "outputId": "07054862-ebfd-4f61-c6a6-be2777d3ff25"
      },
      "execution_count": 256,
      "outputs": [
        {
          "output_type": "stream",
          "name": "stdout",
          "text": [
            "<class 'pandas.core.frame.DataFrame'>\n",
            "RangeIndex: 8693 entries, 0 to 8692\n",
            "Data columns (total 14 columns):\n",
            " #   Column        Non-Null Count  Dtype  \n",
            "---  ------        --------------  -----  \n",
            " 0   PassengerId   8693 non-null   object \n",
            " 1   HomePlanet    8492 non-null   object \n",
            " 2   CryoSleep     8476 non-null   object \n",
            " 3   Cabin         8494 non-null   object \n",
            " 4   Destination   8511 non-null   object \n",
            " 5   Age           8514 non-null   float64\n",
            " 6   VIP           8490 non-null   object \n",
            " 7   RoomService   8512 non-null   float64\n",
            " 8   FoodCourt     8510 non-null   float64\n",
            " 9   ShoppingMall  8485 non-null   float64\n",
            " 10  Spa           8510 non-null   float64\n",
            " 11  VRDeck        8505 non-null   float64\n",
            " 12  Name          8493 non-null   object \n",
            " 13  Transported   8693 non-null   bool   \n",
            "dtypes: bool(1), float64(6), object(7)\n",
            "memory usage: 891.5+ KB\n"
          ]
        }
      ]
    },
    {
      "source": [
        "import matplotlib.pyplot as plt\n",
        "import seaborn as sns"
      ],
      "cell_type": "code",
      "metadata": {
        "id": "qrBWxCUFcm22",
        "executionInfo": {
          "status": "ok",
          "timestamp": 1742482234920,
          "user_tz": -330,
          "elapsed": 8,
          "user": {
            "displayName": "Chinmay Pandey",
            "userId": "13013544925378087637"
          }
        }
      },
      "execution_count": 257,
      "outputs": []
    },
    {
      "cell_type": "code",
      "source": [
        "train_data['CryoSleep'] = [0 if i == 0 else 1 if i == 1 else np.nan for i in train_data['CryoSleep']]"
      ],
      "metadata": {
        "id": "qbZisqr8cxOC",
        "executionInfo": {
          "status": "ok",
          "timestamp": 1742482236333,
          "user_tz": -330,
          "elapsed": 16,
          "user": {
            "displayName": "Chinmay Pandey",
            "userId": "13013544925378087637"
          }
        }
      },
      "execution_count": 258,
      "outputs": []
    },
    {
      "cell_type": "code",
      "source": [
        "train_data['VIP'] = [0 if i == 0 else 1 if i == 1 else np.nan for i in train_data['VIP']]"
      ],
      "metadata": {
        "id": "qbmJXSFffOWj",
        "executionInfo": {
          "status": "ok",
          "timestamp": 1742482237351,
          "user_tz": -330,
          "elapsed": 14,
          "user": {
            "displayName": "Chinmay Pandey",
            "userId": "13013544925378087637"
          }
        }
      },
      "execution_count": 259,
      "outputs": []
    },
    {
      "cell_type": "code",
      "source": [
        "train_data['Transported'] = [0 if i == False else 1 for i in train_data['Transported']]"
      ],
      "metadata": {
        "id": "BxhO4M3PgBII",
        "executionInfo": {
          "status": "ok",
          "timestamp": 1742482238133,
          "user_tz": -330,
          "elapsed": 11,
          "user": {
            "displayName": "Chinmay Pandey",
            "userId": "13013544925378087637"
          }
        }
      },
      "execution_count": 260,
      "outputs": []
    },
    {
      "cell_type": "code",
      "source": [
        "train_data.info()"
      ],
      "metadata": {
        "colab": {
          "base_uri": "https://localhost:8080/"
        },
        "id": "6dzJU8FQgbum",
        "executionInfo": {
          "status": "ok",
          "timestamp": 1742482239014,
          "user_tz": -330,
          "elapsed": 30,
          "user": {
            "displayName": "Chinmay Pandey",
            "userId": "13013544925378087637"
          }
        },
        "outputId": "e561574b-6349-484c-f6ab-b480df0f477a"
      },
      "execution_count": 261,
      "outputs": [
        {
          "output_type": "stream",
          "name": "stdout",
          "text": [
            "<class 'pandas.core.frame.DataFrame'>\n",
            "RangeIndex: 8693 entries, 0 to 8692\n",
            "Data columns (total 14 columns):\n",
            " #   Column        Non-Null Count  Dtype  \n",
            "---  ------        --------------  -----  \n",
            " 0   PassengerId   8693 non-null   object \n",
            " 1   HomePlanet    8492 non-null   object \n",
            " 2   CryoSleep     8476 non-null   float64\n",
            " 3   Cabin         8494 non-null   object \n",
            " 4   Destination   8511 non-null   object \n",
            " 5   Age           8514 non-null   float64\n",
            " 6   VIP           8490 non-null   float64\n",
            " 7   RoomService   8512 non-null   float64\n",
            " 8   FoodCourt     8510 non-null   float64\n",
            " 9   ShoppingMall  8485 non-null   float64\n",
            " 10  Spa           8510 non-null   float64\n",
            " 11  VRDeck        8505 non-null   float64\n",
            " 12  Name          8493 non-null   object \n",
            " 13  Transported   8693 non-null   int64  \n",
            "dtypes: float64(8), int64(1), object(5)\n",
            "memory usage: 950.9+ KB\n"
          ]
        }
      ]
    },
    {
      "cell_type": "code",
      "source": [
        "train_data.describe()"
      ],
      "metadata": {
        "colab": {
          "base_uri": "https://localhost:8080/",
          "height": 300
        },
        "id": "-S0OCU01gguS",
        "executionInfo": {
          "status": "ok",
          "timestamp": 1742482239936,
          "user_tz": -330,
          "elapsed": 117,
          "user": {
            "displayName": "Chinmay Pandey",
            "userId": "13013544925378087637"
          }
        },
        "outputId": "0b21f76c-5d3d-40fb-ba3a-87a8c723af55"
      },
      "execution_count": 262,
      "outputs": [
        {
          "output_type": "execute_result",
          "data": {
            "text/plain": [
              "         CryoSleep          Age          VIP   RoomService     FoodCourt  \\\n",
              "count  8476.000000  8514.000000  8490.000000   8512.000000   8510.000000   \n",
              "mean      0.358306    28.827930     0.023439    224.687617    458.077203   \n",
              "std       0.479531    14.489021     0.151303    666.717663   1611.489240   \n",
              "min       0.000000     0.000000     0.000000      0.000000      0.000000   \n",
              "25%       0.000000    19.000000     0.000000      0.000000      0.000000   \n",
              "50%       0.000000    27.000000     0.000000      0.000000      0.000000   \n",
              "75%       1.000000    38.000000     0.000000     47.000000     76.000000   \n",
              "max       1.000000    79.000000     1.000000  14327.000000  29813.000000   \n",
              "\n",
              "       ShoppingMall           Spa        VRDeck  Transported  \n",
              "count   8485.000000   8510.000000   8505.000000  8693.000000  \n",
              "mean     173.729169    311.138778    304.854791     0.503624  \n",
              "std      604.696458   1136.705535   1145.717189     0.500016  \n",
              "min        0.000000      0.000000      0.000000     0.000000  \n",
              "25%        0.000000      0.000000      0.000000     0.000000  \n",
              "50%        0.000000      0.000000      0.000000     1.000000  \n",
              "75%       27.000000     59.000000     46.000000     1.000000  \n",
              "max    23492.000000  22408.000000  24133.000000     1.000000  "
            ],
            "text/html": [
              "\n",
              "  <div id=\"df-212fb3be-388e-44b2-89b3-515c36defa02\" class=\"colab-df-container\">\n",
              "    <div>\n",
              "<style scoped>\n",
              "    .dataframe tbody tr th:only-of-type {\n",
              "        vertical-align: middle;\n",
              "    }\n",
              "\n",
              "    .dataframe tbody tr th {\n",
              "        vertical-align: top;\n",
              "    }\n",
              "\n",
              "    .dataframe thead th {\n",
              "        text-align: right;\n",
              "    }\n",
              "</style>\n",
              "<table border=\"1\" class=\"dataframe\">\n",
              "  <thead>\n",
              "    <tr style=\"text-align: right;\">\n",
              "      <th></th>\n",
              "      <th>CryoSleep</th>\n",
              "      <th>Age</th>\n",
              "      <th>VIP</th>\n",
              "      <th>RoomService</th>\n",
              "      <th>FoodCourt</th>\n",
              "      <th>ShoppingMall</th>\n",
              "      <th>Spa</th>\n",
              "      <th>VRDeck</th>\n",
              "      <th>Transported</th>\n",
              "    </tr>\n",
              "  </thead>\n",
              "  <tbody>\n",
              "    <tr>\n",
              "      <th>count</th>\n",
              "      <td>8476.000000</td>\n",
              "      <td>8514.000000</td>\n",
              "      <td>8490.000000</td>\n",
              "      <td>8512.000000</td>\n",
              "      <td>8510.000000</td>\n",
              "      <td>8485.000000</td>\n",
              "      <td>8510.000000</td>\n",
              "      <td>8505.000000</td>\n",
              "      <td>8693.000000</td>\n",
              "    </tr>\n",
              "    <tr>\n",
              "      <th>mean</th>\n",
              "      <td>0.358306</td>\n",
              "      <td>28.827930</td>\n",
              "      <td>0.023439</td>\n",
              "      <td>224.687617</td>\n",
              "      <td>458.077203</td>\n",
              "      <td>173.729169</td>\n",
              "      <td>311.138778</td>\n",
              "      <td>304.854791</td>\n",
              "      <td>0.503624</td>\n",
              "    </tr>\n",
              "    <tr>\n",
              "      <th>std</th>\n",
              "      <td>0.479531</td>\n",
              "      <td>14.489021</td>\n",
              "      <td>0.151303</td>\n",
              "      <td>666.717663</td>\n",
              "      <td>1611.489240</td>\n",
              "      <td>604.696458</td>\n",
              "      <td>1136.705535</td>\n",
              "      <td>1145.717189</td>\n",
              "      <td>0.500016</td>\n",
              "    </tr>\n",
              "    <tr>\n",
              "      <th>min</th>\n",
              "      <td>0.000000</td>\n",
              "      <td>0.000000</td>\n",
              "      <td>0.000000</td>\n",
              "      <td>0.000000</td>\n",
              "      <td>0.000000</td>\n",
              "      <td>0.000000</td>\n",
              "      <td>0.000000</td>\n",
              "      <td>0.000000</td>\n",
              "      <td>0.000000</td>\n",
              "    </tr>\n",
              "    <tr>\n",
              "      <th>25%</th>\n",
              "      <td>0.000000</td>\n",
              "      <td>19.000000</td>\n",
              "      <td>0.000000</td>\n",
              "      <td>0.000000</td>\n",
              "      <td>0.000000</td>\n",
              "      <td>0.000000</td>\n",
              "      <td>0.000000</td>\n",
              "      <td>0.000000</td>\n",
              "      <td>0.000000</td>\n",
              "    </tr>\n",
              "    <tr>\n",
              "      <th>50%</th>\n",
              "      <td>0.000000</td>\n",
              "      <td>27.000000</td>\n",
              "      <td>0.000000</td>\n",
              "      <td>0.000000</td>\n",
              "      <td>0.000000</td>\n",
              "      <td>0.000000</td>\n",
              "      <td>0.000000</td>\n",
              "      <td>0.000000</td>\n",
              "      <td>1.000000</td>\n",
              "    </tr>\n",
              "    <tr>\n",
              "      <th>75%</th>\n",
              "      <td>1.000000</td>\n",
              "      <td>38.000000</td>\n",
              "      <td>0.000000</td>\n",
              "      <td>47.000000</td>\n",
              "      <td>76.000000</td>\n",
              "      <td>27.000000</td>\n",
              "      <td>59.000000</td>\n",
              "      <td>46.000000</td>\n",
              "      <td>1.000000</td>\n",
              "    </tr>\n",
              "    <tr>\n",
              "      <th>max</th>\n",
              "      <td>1.000000</td>\n",
              "      <td>79.000000</td>\n",
              "      <td>1.000000</td>\n",
              "      <td>14327.000000</td>\n",
              "      <td>29813.000000</td>\n",
              "      <td>23492.000000</td>\n",
              "      <td>22408.000000</td>\n",
              "      <td>24133.000000</td>\n",
              "      <td>1.000000</td>\n",
              "    </tr>\n",
              "  </tbody>\n",
              "</table>\n",
              "</div>\n",
              "    <div class=\"colab-df-buttons\">\n",
              "\n",
              "  <div class=\"colab-df-container\">\n",
              "    <button class=\"colab-df-convert\" onclick=\"convertToInteractive('df-212fb3be-388e-44b2-89b3-515c36defa02')\"\n",
              "            title=\"Convert this dataframe to an interactive table.\"\n",
              "            style=\"display:none;\">\n",
              "\n",
              "  <svg xmlns=\"http://www.w3.org/2000/svg\" height=\"24px\" viewBox=\"0 -960 960 960\">\n",
              "    <path d=\"M120-120v-720h720v720H120Zm60-500h600v-160H180v160Zm220 220h160v-160H400v160Zm0 220h160v-160H400v160ZM180-400h160v-160H180v160Zm440 0h160v-160H620v160ZM180-180h160v-160H180v160Zm440 0h160v-160H620v160Z\"/>\n",
              "  </svg>\n",
              "    </button>\n",
              "\n",
              "  <style>\n",
              "    .colab-df-container {\n",
              "      display:flex;\n",
              "      gap: 12px;\n",
              "    }\n",
              "\n",
              "    .colab-df-convert {\n",
              "      background-color: #E8F0FE;\n",
              "      border: none;\n",
              "      border-radius: 50%;\n",
              "      cursor: pointer;\n",
              "      display: none;\n",
              "      fill: #1967D2;\n",
              "      height: 32px;\n",
              "      padding: 0 0 0 0;\n",
              "      width: 32px;\n",
              "    }\n",
              "\n",
              "    .colab-df-convert:hover {\n",
              "      background-color: #E2EBFA;\n",
              "      box-shadow: 0px 1px 2px rgba(60, 64, 67, 0.3), 0px 1px 3px 1px rgba(60, 64, 67, 0.15);\n",
              "      fill: #174EA6;\n",
              "    }\n",
              "\n",
              "    .colab-df-buttons div {\n",
              "      margin-bottom: 4px;\n",
              "    }\n",
              "\n",
              "    [theme=dark] .colab-df-convert {\n",
              "      background-color: #3B4455;\n",
              "      fill: #D2E3FC;\n",
              "    }\n",
              "\n",
              "    [theme=dark] .colab-df-convert:hover {\n",
              "      background-color: #434B5C;\n",
              "      box-shadow: 0px 1px 3px 1px rgba(0, 0, 0, 0.15);\n",
              "      filter: drop-shadow(0px 1px 2px rgba(0, 0, 0, 0.3));\n",
              "      fill: #FFFFFF;\n",
              "    }\n",
              "  </style>\n",
              "\n",
              "    <script>\n",
              "      const buttonEl =\n",
              "        document.querySelector('#df-212fb3be-388e-44b2-89b3-515c36defa02 button.colab-df-convert');\n",
              "      buttonEl.style.display =\n",
              "        google.colab.kernel.accessAllowed ? 'block' : 'none';\n",
              "\n",
              "      async function convertToInteractive(key) {\n",
              "        const element = document.querySelector('#df-212fb3be-388e-44b2-89b3-515c36defa02');\n",
              "        const dataTable =\n",
              "          await google.colab.kernel.invokeFunction('convertToInteractive',\n",
              "                                                    [key], {});\n",
              "        if (!dataTable) return;\n",
              "\n",
              "        const docLinkHtml = 'Like what you see? Visit the ' +\n",
              "          '<a target=\"_blank\" href=https://colab.research.google.com/notebooks/data_table.ipynb>data table notebook</a>'\n",
              "          + ' to learn more about interactive tables.';\n",
              "        element.innerHTML = '';\n",
              "        dataTable['output_type'] = 'display_data';\n",
              "        await google.colab.output.renderOutput(dataTable, element);\n",
              "        const docLink = document.createElement('div');\n",
              "        docLink.innerHTML = docLinkHtml;\n",
              "        element.appendChild(docLink);\n",
              "      }\n",
              "    </script>\n",
              "  </div>\n",
              "\n",
              "\n",
              "<div id=\"df-019465e9-4580-47bb-b6eb-43ef6466e3e6\">\n",
              "  <button class=\"colab-df-quickchart\" onclick=\"quickchart('df-019465e9-4580-47bb-b6eb-43ef6466e3e6')\"\n",
              "            title=\"Suggest charts\"\n",
              "            style=\"display:none;\">\n",
              "\n",
              "<svg xmlns=\"http://www.w3.org/2000/svg\" height=\"24px\"viewBox=\"0 0 24 24\"\n",
              "     width=\"24px\">\n",
              "    <g>\n",
              "        <path d=\"M19 3H5c-1.1 0-2 .9-2 2v14c0 1.1.9 2 2 2h14c1.1 0 2-.9 2-2V5c0-1.1-.9-2-2-2zM9 17H7v-7h2v7zm4 0h-2V7h2v10zm4 0h-2v-4h2v4z\"/>\n",
              "    </g>\n",
              "</svg>\n",
              "  </button>\n",
              "\n",
              "<style>\n",
              "  .colab-df-quickchart {\n",
              "      --bg-color: #E8F0FE;\n",
              "      --fill-color: #1967D2;\n",
              "      --hover-bg-color: #E2EBFA;\n",
              "      --hover-fill-color: #174EA6;\n",
              "      --disabled-fill-color: #AAA;\n",
              "      --disabled-bg-color: #DDD;\n",
              "  }\n",
              "\n",
              "  [theme=dark] .colab-df-quickchart {\n",
              "      --bg-color: #3B4455;\n",
              "      --fill-color: #D2E3FC;\n",
              "      --hover-bg-color: #434B5C;\n",
              "      --hover-fill-color: #FFFFFF;\n",
              "      --disabled-bg-color: #3B4455;\n",
              "      --disabled-fill-color: #666;\n",
              "  }\n",
              "\n",
              "  .colab-df-quickchart {\n",
              "    background-color: var(--bg-color);\n",
              "    border: none;\n",
              "    border-radius: 50%;\n",
              "    cursor: pointer;\n",
              "    display: none;\n",
              "    fill: var(--fill-color);\n",
              "    height: 32px;\n",
              "    padding: 0;\n",
              "    width: 32px;\n",
              "  }\n",
              "\n",
              "  .colab-df-quickchart:hover {\n",
              "    background-color: var(--hover-bg-color);\n",
              "    box-shadow: 0 1px 2px rgba(60, 64, 67, 0.3), 0 1px 3px 1px rgba(60, 64, 67, 0.15);\n",
              "    fill: var(--button-hover-fill-color);\n",
              "  }\n",
              "\n",
              "  .colab-df-quickchart-complete:disabled,\n",
              "  .colab-df-quickchart-complete:disabled:hover {\n",
              "    background-color: var(--disabled-bg-color);\n",
              "    fill: var(--disabled-fill-color);\n",
              "    box-shadow: none;\n",
              "  }\n",
              "\n",
              "  .colab-df-spinner {\n",
              "    border: 2px solid var(--fill-color);\n",
              "    border-color: transparent;\n",
              "    border-bottom-color: var(--fill-color);\n",
              "    animation:\n",
              "      spin 1s steps(1) infinite;\n",
              "  }\n",
              "\n",
              "  @keyframes spin {\n",
              "    0% {\n",
              "      border-color: transparent;\n",
              "      border-bottom-color: var(--fill-color);\n",
              "      border-left-color: var(--fill-color);\n",
              "    }\n",
              "    20% {\n",
              "      border-color: transparent;\n",
              "      border-left-color: var(--fill-color);\n",
              "      border-top-color: var(--fill-color);\n",
              "    }\n",
              "    30% {\n",
              "      border-color: transparent;\n",
              "      border-left-color: var(--fill-color);\n",
              "      border-top-color: var(--fill-color);\n",
              "      border-right-color: var(--fill-color);\n",
              "    }\n",
              "    40% {\n",
              "      border-color: transparent;\n",
              "      border-right-color: var(--fill-color);\n",
              "      border-top-color: var(--fill-color);\n",
              "    }\n",
              "    60% {\n",
              "      border-color: transparent;\n",
              "      border-right-color: var(--fill-color);\n",
              "    }\n",
              "    80% {\n",
              "      border-color: transparent;\n",
              "      border-right-color: var(--fill-color);\n",
              "      border-bottom-color: var(--fill-color);\n",
              "    }\n",
              "    90% {\n",
              "      border-color: transparent;\n",
              "      border-bottom-color: var(--fill-color);\n",
              "    }\n",
              "  }\n",
              "</style>\n",
              "\n",
              "  <script>\n",
              "    async function quickchart(key) {\n",
              "      const quickchartButtonEl =\n",
              "        document.querySelector('#' + key + ' button');\n",
              "      quickchartButtonEl.disabled = true;  // To prevent multiple clicks.\n",
              "      quickchartButtonEl.classList.add('colab-df-spinner');\n",
              "      try {\n",
              "        const charts = await google.colab.kernel.invokeFunction(\n",
              "            'suggestCharts', [key], {});\n",
              "      } catch (error) {\n",
              "        console.error('Error during call to suggestCharts:', error);\n",
              "      }\n",
              "      quickchartButtonEl.classList.remove('colab-df-spinner');\n",
              "      quickchartButtonEl.classList.add('colab-df-quickchart-complete');\n",
              "    }\n",
              "    (() => {\n",
              "      let quickchartButtonEl =\n",
              "        document.querySelector('#df-019465e9-4580-47bb-b6eb-43ef6466e3e6 button');\n",
              "      quickchartButtonEl.style.display =\n",
              "        google.colab.kernel.accessAllowed ? 'block' : 'none';\n",
              "    })();\n",
              "  </script>\n",
              "</div>\n",
              "\n",
              "    </div>\n",
              "  </div>\n"
            ],
            "application/vnd.google.colaboratory.intrinsic+json": {
              "type": "dataframe",
              "summary": "{\n  \"name\": \"train_data\",\n  \"rows\": 8,\n  \"fields\": [\n    {\n      \"column\": \"CryoSleep\",\n      \"properties\": {\n        \"dtype\": \"number\",\n        \"std\": 2996.5752350615708,\n        \"min\": 0.0,\n        \"max\": 8476.0,\n        \"num_unique_values\": 5,\n        \"samples\": [\n          0.35830580462482303,\n          1.0,\n          0.4795309004909138\n        ],\n        \"semantic_type\": \"\",\n        \"description\": \"\"\n      }\n    },\n    {\n      \"column\": \"Age\",\n      \"properties\": {\n        \"dtype\": \"number\",\n        \"std\": 2999.8219236109035,\n        \"min\": 0.0,\n        \"max\": 8514.0,\n        \"num_unique_values\": 8,\n        \"samples\": [\n          28.82793046746535,\n          27.0,\n          8514.0\n        ],\n        \"semantic_type\": \"\",\n        \"description\": \"\"\n      }\n    },\n    {\n      \"column\": \"VIP\",\n      \"properties\": {\n        \"dtype\": \"number\",\n        \"std\": 3001.608972345788,\n        \"min\": 0.0,\n        \"max\": 8490.0,\n        \"num_unique_values\": 5,\n        \"samples\": [\n          0.023439340400471142,\n          1.0,\n          0.15130312007820718\n        ],\n        \"semantic_type\": \"\",\n        \"description\": \"\"\n      }\n    },\n    {\n      \"column\": \"RoomService\",\n      \"properties\": {\n        \"dtype\": \"number\",\n        \"std\": 5445.09810660542,\n        \"min\": 0.0,\n        \"max\": 14327.0,\n        \"num_unique_values\": 6,\n        \"samples\": [\n          8512.0,\n          224.687617481203,\n          14327.0\n        ],\n        \"semantic_type\": \"\",\n        \"description\": \"\"\n      }\n    },\n    {\n      \"column\": \"FoodCourt\",\n      \"properties\": {\n        \"dtype\": \"number\",\n        \"std\": 10415.198156989394,\n        \"min\": 0.0,\n        \"max\": 29813.0,\n        \"num_unique_values\": 6,\n        \"samples\": [\n          8510.0,\n          458.07720329024676,\n          29813.0\n        ],\n        \"semantic_type\": \"\",\n        \"description\": \"\"\n      }\n    },\n    {\n      \"column\": \"ShoppingMall\",\n      \"properties\": {\n        \"dtype\": \"number\",\n        \"std\": 8366.0020224504,\n        \"min\": 0.0,\n        \"max\": 23492.0,\n        \"num_unique_values\": 6,\n        \"samples\": [\n          8485.0,\n          173.72916912197996,\n          23492.0\n        ],\n        \"semantic_type\": \"\",\n        \"description\": \"\"\n      }\n    },\n    {\n      \"column\": \"Spa\",\n      \"properties\": {\n        \"dtype\": \"number\",\n        \"std\": 7968.775096084544,\n        \"min\": 0.0,\n        \"max\": 22408.0,\n        \"num_unique_values\": 6,\n        \"samples\": [\n          8510.0,\n          311.1387779083431,\n          22408.0\n        ],\n        \"semantic_type\": \"\",\n        \"description\": \"\"\n      }\n    },\n    {\n      \"column\": \"VRDeck\",\n      \"properties\": {\n        \"dtype\": \"number\",\n        \"std\": 8539.808535720744,\n        \"min\": 0.0,\n        \"max\": 24133.0,\n        \"num_unique_values\": 6,\n        \"samples\": [\n          8505.0,\n          304.8547912992357,\n          24133.0\n        ],\n        \"semantic_type\": \"\",\n        \"description\": \"\"\n      }\n    },\n    {\n      \"column\": \"Transported\",\n      \"properties\": {\n        \"dtype\": \"number\",\n        \"std\": 3073.237438320052,\n        \"min\": 0.0,\n        \"max\": 8693.0,\n        \"num_unique_values\": 5,\n        \"samples\": [\n          0.5036236051995858,\n          1.0,\n          0.5000156298104889\n        ],\n        \"semantic_type\": \"\",\n        \"description\": \"\"\n      }\n    }\n  ]\n}"
            }
          },
          "metadata": {},
          "execution_count": 262
        }
      ]
    },
    {
      "source": [
        "# prompt: create a barplot for cryosleep with its frequency along with frequency of nan values\n",
        "\n",
        "import matplotlib.pyplot as plt\n",
        "import seaborn as sns\n",
        "\n",
        "# Assuming 'train_data' is your DataFrame\n",
        "cryosleep_counts = train_data['CryoSleep'].value_counts()\n",
        "cryosleep_counts['NaN'] = train_data['CryoSleep'].isnull().sum()\n",
        "\n",
        "plt.figure(figsize=(8, 6))\n",
        "sns.barplot(x=cryosleep_counts.index, y=cryosleep_counts.values)\n",
        "plt.title('Frequency of CryoSleep and NaN Values')\n",
        "plt.xlabel('CryoSleep Status')\n",
        "plt.ylabel('Frequency')\n",
        "plt.show()\n"
      ],
      "cell_type": "code",
      "metadata": {
        "colab": {
          "base_uri": "https://localhost:8080/",
          "height": 564
        },
        "id": "6op6zJUriDhZ",
        "executionInfo": {
          "status": "ok",
          "timestamp": 1742482242145,
          "user_tz": -330,
          "elapsed": 281,
          "user": {
            "displayName": "Chinmay Pandey",
            "userId": "13013544925378087637"
          }
        },
        "outputId": "5c8461d0-6cb2-4182-c70b-a8368cacc50e"
      },
      "execution_count": 263,
      "outputs": [
        {
          "output_type": "display_data",
          "data": {
            "text/plain": [
              "<Figure size 800x600 with 1 Axes>"
            ],
            "image/png": "[encoded data removed]"
          },
          "metadata": {}
        }
      ]
    },
    {
      "source": [
        "# prompt: create a barplot for vip with its frequency along with frequency of nan values\n",
        "\n",
        "import matplotlib.pyplot as plt\n",
        "# Assuming 'train_data' is your DataFrame\n",
        "vip_counts = train_data['VIP'].value_counts()\n",
        "vip_counts['NaN'] = train_data['VIP'].isnull().sum()\n",
        "\n",
        "plt.figure(figsize=(8, 6))\n",
        "sns.barplot(x=vip_counts.index, y=vip_counts.values)\n",
        "plt.title('Frequency of VIP and NaN Values')\n",
        "plt.xlabel('VIP Status')\n",
        "plt.ylabel('Frequency')\n",
        "plt.show()"
      ],
      "cell_type": "code",
      "metadata": {
        "colab": {
          "base_uri": "https://localhost:8080/",
          "height": 564
        },
        "id": "4rNA4vl9iCtP",
        "executionInfo": {
          "status": "ok",
          "timestamp": 1742482243705,
          "user_tz": -330,
          "elapsed": 243,
          "user": {
            "displayName": "Chinmay Pandey",
            "userId": "13013544925378087637"
          }
        },
        "outputId": "2d586ce0-63fd-463b-abf0-ea75c9486c82"
      },
      "execution_count": 264,
      "outputs": [
        {
          "output_type": "display_data",
          "data": {
            "text/plain": [
              "<Figure size 800x600 with 1 Axes>"
            ],
            "image/png": "[encoded data removed]"
          },
          "metadata": {}
        }
      ]
    },
    {
      "cell_type": "code",
      "source": [
        "# Since the frequency of NaN values in the columns is less and the frequency of 0 value in these is very high.\n",
        "# So, converting the NaN values to 0 would be preferable."
      ],
      "metadata": {
        "id": "bhGQB5oGh_eN",
        "executionInfo": {
          "status": "ok",
          "timestamp": 1742482244563,
          "user_tz": -330,
          "elapsed": 2,
          "user": {
            "displayName": "Chinmay Pandey",
            "userId": "13013544925378087637"
          }
        }
      },
      "execution_count": 265,
      "outputs": []
    },
    {
      "cell_type": "code",
      "source": [
        "train_data['CryoSleep'] = train_data['CryoSleep'].fillna(0).astype(int)"
      ],
      "metadata": {
        "id": "ma5mcAU0lQJ4",
        "executionInfo": {
          "status": "ok",
          "timestamp": 1742482245805,
          "user_tz": -330,
          "elapsed": 6,
          "user": {
            "displayName": "Chinmay Pandey",
            "userId": "13013544925378087637"
          }
        }
      },
      "execution_count": 266,
      "outputs": []
    },
    {
      "cell_type": "code",
      "source": [
        "train_data['VIP'] = train_data['VIP'].fillna(0).astype(int)"
      ],
      "metadata": {
        "id": "ehBsqq8glZR8",
        "executionInfo": {
          "status": "ok",
          "timestamp": 1742482246789,
          "user_tz": -330,
          "elapsed": 8,
          "user": {
            "displayName": "Chinmay Pandey",
            "userId": "13013544925378087637"
          }
        }
      },
      "execution_count": 267,
      "outputs": []
    },
    {
      "cell_type": "code",
      "source": [
        "train_data.info()"
      ],
      "metadata": {
        "colab": {
          "base_uri": "https://localhost:8080/"
        },
        "id": "cQlpMchxldDi",
        "executionInfo": {
          "status": "ok",
          "timestamp": 1742482247769,
          "user_tz": -330,
          "elapsed": 29,
          "user": {
            "displayName": "Chinmay Pandey",
            "userId": "13013544925378087637"
          }
        },
        "outputId": "62b70e10-0309-45d9-b515-b0306d05c6f7"
      },
      "execution_count": 268,
      "outputs": [
        {
          "output_type": "stream",
          "name": "stdout",
          "text": [
            "<class 'pandas.core.frame.DataFrame'>\n",
            "RangeIndex: 8693 entries, 0 to 8692\n",
            "Data columns (total 14 columns):\n",
            " #   Column        Non-Null Count  Dtype  \n",
            "---  ------        --------------  -----  \n",
            " 0   PassengerId   8693 non-null   object \n",
            " 1   HomePlanet    8492 non-null   object \n",
            " 2   CryoSleep     8693 non-null   int64  \n",
            " 3   Cabin         8494 non-null   object \n",
            " 4   Destination   8511 non-null   object \n",
            " 5   Age           8514 non-null   float64\n",
            " 6   VIP           8693 non-null   int64  \n",
            " 7   RoomService   8512 non-null   float64\n",
            " 8   FoodCourt     8510 non-null   float64\n",
            " 9   ShoppingMall  8485 non-null   float64\n",
            " 10  Spa           8510 non-null   float64\n",
            " 11  VRDeck        8505 non-null   float64\n",
            " 12  Name          8493 non-null   object \n",
            " 13  Transported   8693 non-null   int64  \n",
            "dtypes: float64(6), int64(3), object(5)\n",
            "memory usage: 950.9+ KB\n"
          ]
        }
      ]
    },
    {
      "cell_type": "code",
      "source": [
        "train_data[train_data[\"CryoSleep\"].isnull()]"
      ],
      "metadata": {
        "colab": {
          "base_uri": "https://localhost:8080/",
          "height": 73
        },
        "id": "vcszsSC8lfBe",
        "executionInfo": {
          "status": "ok",
          "timestamp": 1742482248641,
          "user_tz": -330,
          "elapsed": 24,
          "user": {
            "displayName": "Chinmay Pandey",
            "userId": "13013544925378087637"
          }
        },
        "outputId": "91de3a8b-2836-45c0-e7f0-a20018144517"
      },
      "execution_count": 269,
      "outputs": [
        {
          "output_type": "execute_result",
          "data": {
            "text/plain": [
              "Empty DataFrame\n",
              "Columns: [PassengerId, HomePlanet, CryoSleep, Cabin, Destination, Age, VIP, RoomService, FoodCourt, ShoppingMall, Spa, VRDeck, Name, Transported]\n",
              "Index: []"
            ],
            "text/html": [
              "\n",
              "  <div id=\"df-0e8184ac-f76f-4d24-91f0-f519f76bf13b\" class=\"colab-df-container\">\n",
              "    <div>\n",
              "<style scoped>\n",
              "    .dataframe tbody tr th:only-of-type {\n",
              "        vertical-align: middle;\n",
              "    }\n",
              "\n",
              "    .dataframe tbody tr th {\n",
              "        vertical-align: top;\n",
              "    }\n",
              "\n",
              "    .dataframe thead th {\n",
              "        text-align: right;\n",
              "    }\n",
              "</style>\n",
              "<table border=\"1\" class=\"dataframe\">\n",
              "  <thead>\n",
              "    <tr style=\"text-align: right;\">\n",
              "      <th></th>\n",
              "      <th>PassengerId</th>\n",
              "      <th>HomePlanet</th>\n",
              "      <th>CryoSleep</th>\n",
              "      <th>Cabin</th>\n",
              "      <th>Destination</th>\n",
              "      <th>Age</th>\n",
              "      <th>VIP</th>\n",
              "      <th>RoomService</th>\n",
              "      <th>FoodCourt</th>\n",
              "      <th>ShoppingMall</th>\n",
              "      <th>Spa</th>\n",
              "      <th>VRDeck</th>\n",
              "      <th>Name</th>\n",
              "      <th>Transported</th>\n",
              "    </tr>\n",
              "  </thead>\n",
              "  <tbody>\n",
              "  </tbody>\n",
              "</table>\n",
              "</div>\n",
              "    <div class=\"colab-df-buttons\">\n",
              "\n",
              "  <div class=\"colab-df-container\">\n",
              "    <button class=\"colab-df-convert\" onclick=\"convertToInteractive('df-0e8184ac-f76f-4d24-91f0-f519f76bf13b')\"\n",
              "            title=\"Convert this dataframe to an interactive table.\"\n",
              "            style=\"display:none;\">\n",
              "\n",
              "  <svg xmlns=\"http://www.w3.org/2000/svg\" height=\"24px\" viewBox=\"0 -960 960 960\">\n",
              "    <path d=\"M120-120v-720h720v720H120Zm60-500h600v-160H180v160Zm220 220h160v-160H400v160Zm0 220h160v-160H400v160ZM180-400h160v-160H180v160Zm440 0h160v-160H620v160ZM180-180h160v-160H180v160Zm440 0h160v-160H620v160Z\"/>\n",
              "  </svg>\n",
              "    </button>\n",
              "\n",
              "  <style>\n",
              "    .colab-df-container {\n",
              "      display:flex;\n",
              "      gap: 12px;\n",
              "    }\n",
              "\n",
              "    .colab-df-convert {\n",
              "      background-color: #E8F0FE;\n",
              "      border: none;\n",
              "      border-radius: 50%;\n",
              "      cursor: pointer;\n",
              "      display: none;\n",
              "      fill: #1967D2;\n",
              "      height: 32px;\n",
              "      padding: 0 0 0 0;\n",
              "      width: 32px;\n",
              "    }\n",
              "\n",
              "    .colab-df-convert:hover {\n",
              "      background-color: #E2EBFA;\n",
              "      box-shadow: 0px 1px 2px rgba(60, 64, 67, 0.3), 0px 1px 3px 1px rgba(60, 64, 67, 0.15);\n",
              "      fill: #174EA6;\n",
              "    }\n",
              "\n",
              "    .colab-df-buttons div {\n",
              "      margin-bottom: 4px;\n",
              "    }\n",
              "\n",
              "    [theme=dark] .colab-df-convert {\n",
              "      background-color: #3B4455;\n",
              "      fill: #D2E3FC;\n",
              "    }\n",
              "\n",
              "    [theme=dark] .colab-df-convert:hover {\n",
              "      background-color: #434B5C;\n",
              "      box-shadow: 0px 1px 3px 1px rgba(0, 0, 0, 0.15);\n",
              "      filter: drop-shadow(0px 1px 2px rgba(0, 0, 0, 0.3));\n",
              "      fill: #FFFFFF;\n",
              "    }\n",
              "  </style>\n",
              "\n",
              "    <script>\n",
              "      const buttonEl =\n",
              "        document.querySelector('#df-0e8184ac-f76f-4d24-91f0-f519f76bf13b button.colab-df-convert');\n",
              "      buttonEl.style.display =\n",
              "        google.colab.kernel.accessAllowed ? 'block' : 'none';\n",
              "\n",
              "      async function convertToInteractive(key) {\n",
              "        const element = document.querySelector('#df-0e8184ac-f76f-4d24-91f0-f519f76bf13b');\n",
              "        const dataTable =\n",
              "          await google.colab.kernel.invokeFunction('convertToInteractive',\n",
              "                                                    [key], {});\n",
              "        if (!dataTable) return;\n",
              "\n",
              "        const docLinkHtml = 'Like what you see? Visit the ' +\n",
              "          '<a target=\"_blank\" href=https://colab.research.google.com/notebooks/data_table.ipynb>data table notebook</a>'\n",
              "          + ' to learn more about interactive tables.';\n",
              "        element.innerHTML = '';\n",
              "        dataTable['output_type'] = 'display_data';\n",
              "        await google.colab.output.renderOutput(dataTable, element);\n",
              "        const docLink = document.createElement('div');\n",
              "        docLink.innerHTML = docLinkHtml;\n",
              "        element.appendChild(docLink);\n",
              "      }\n",
              "    </script>\n",
              "  </div>\n",
              "\n",
              "\n",
              "    </div>\n",
              "  </div>\n"
            ],
            "application/vnd.google.colaboratory.intrinsic+json": {
              "type": "dataframe",
              "repr_error": "Out of range float values are not JSON compliant: nan"
            }
          },
          "metadata": {},
          "execution_count": 269
        }
      ]
    },
    {
      "cell_type": "code",
      "source": [
        "# prompt: create a barplot for homeplanet with its frequency along with frequency of nan values\n",
        "\n",
        "import matplotlib.pyplot as plt\n",
        "# Assuming 'train_data' is your DataFrame\n",
        "homeplanet_counts = train_data['HomePlanet'].value_counts()\n",
        "homeplanet_counts['NaN'] = train_data['HomePlanet'].isnull().sum()\n",
        "\n",
        "plt.figure(figsize=(10, 6))\n",
        "sns.barplot(x=homeplanet_counts.index, y=homeplanet_counts.values)\n",
        "plt.title('Frequency of HomePlanet and NaN Values')\n",
        "plt.xlabel('HomePlanet')\n",
        "plt.ylabel('Frequency')\n",
        "plt.show()\n"
      ],
      "metadata": {
        "colab": {
          "base_uri": "https://localhost:8080/",
          "height": 564
        },
        "id": "lcLjCqfolxQZ",
        "executionInfo": {
          "status": "ok",
          "timestamp": 1742482249683,
          "user_tz": -330,
          "elapsed": 201,
          "user": {
            "displayName": "Chinmay Pandey",
            "userId": "13013544925378087637"
          }
        },
        "outputId": "223bcb25-6dd2-4109-c094-75a24d047e65"
      },
      "execution_count": 270,
      "outputs": [
        {
          "output_type": "display_data",
          "data": {
            "text/plain": [
              "<Figure size 1000x600 with 1 Axes>"
            ],
            "image/png": "[encoded data removed]"
          },
          "metadata": {}
        }
      ]
    },
    {
      "cell_type": "markdown",
      "source": [
        "\n",
        "### **Nominal Categories (No Inherent Order):**\n",
        "If your values (0, 1, 2) don't have a natural ranking, then one-hot encoding (creating separate binary features for each category) is typically better. This avoids implying an ordinal relationship that doesn't exist and usually helps models—especially linear ones or distance-based algorithms—perform better.\n",
        "\n",
        "---\n",
        "### **Ordinal Categories (Inherent Order):**\n",
        "If the categories have a meaningful order (for example, \"low,\" \"medium,\" \"high\"), then encoding them as 0, 1, 2 might be appropriate because it preserves the natural order."
      ],
      "metadata": {
        "id": "CB8cj4HLqTh4"
      }
    },
    {
      "cell_type": "code",
      "source": [
        "# Replacing the NaN values with the mode value as categories in the value are very less and vary descretely\n",
        "train_data['HomePlanet'].fillna(train_data['HomePlanet'].mode()[0], inplace=True)"
      ],
      "metadata": {
        "colab": {
          "base_uri": "https://localhost:8080/"
        },
        "id": "QVho0Za1oVBD",
        "executionInfo": {
          "status": "ok",
          "timestamp": 1742482251422,
          "user_tz": -330,
          "elapsed": 20,
          "user": {
            "displayName": "Chinmay Pandey",
            "userId": "13013544925378087637"
          }
        },
        "outputId": "24da660a-cf83-478d-98f1-8cb936a43453"
      },
      "execution_count": 271,
      "outputs": [
        {
          "output_type": "stream",
          "name": "stderr",
          "text": [
            "<ipython-input-271-cff26fec6c9b>:2: FutureWarning: A value is trying to be set on a copy of a DataFrame or Series through chained assignment using an inplace method.\n",
            "The behavior will change in pandas 3.0. This inplace method will never work because the intermediate object on which we are setting values always behaves as a copy.\n",
            "\n",
            "For example, when doing 'df[col].method(value, inplace=True)', try using 'df.method({col: value}, inplace=True)' or df[col] = df[col].method(value) instead, to perform the operation inplace on the original object.\n",
            "\n",
            "\n",
            "  train_data['HomePlanet'].fillna(train_data['HomePlanet'].mode()[0], inplace=True)\n"
          ]
        }
      ]
    },
    {
      "cell_type": "code",
      "source": [
        "# Since there is no relationship between the values, Hence we would prefer dummies.\n",
        "\n",
        "train_data = pd.get_dummies(train_data, columns=['HomePlanet'], prefix=['HomePlanet'])"
      ],
      "metadata": {
        "id": "b8s9aLraqnxm",
        "executionInfo": {
          "status": "ok",
          "timestamp": 1742482252255,
          "user_tz": -330,
          "elapsed": 9,
          "user": {
            "displayName": "Chinmay Pandey",
            "userId": "13013544925378087637"
          }
        }
      },
      "execution_count": 272,
      "outputs": []
    },
    {
      "cell_type": "code",
      "source": [
        "for i in ['HomePlanet_Earth', 'HomePlanet_Europa', 'HomePlanet_Mars']:\n",
        "    train_data[i] = [0 if j == False else 1 for j in train_data[i]]"
      ],
      "metadata": {
        "id": "S035Dt6wr3Eo",
        "executionInfo": {
          "status": "ok",
          "timestamp": 1742482252998,
          "user_tz": -330,
          "elapsed": 3,
          "user": {
            "displayName": "Chinmay Pandey",
            "userId": "13013544925378087637"
          }
        }
      },
      "execution_count": 273,
      "outputs": []
    },
    {
      "cell_type": "code",
      "source": [
        "train_data.info()"
      ],
      "metadata": {
        "colab": {
          "base_uri": "https://localhost:8080/"
        },
        "id": "rEgrf742rttj",
        "executionInfo": {
          "status": "ok",
          "timestamp": 1742482253820,
          "user_tz": -330,
          "elapsed": 25,
          "user": {
            "displayName": "Chinmay Pandey",
            "userId": "13013544925378087637"
          }
        },
        "outputId": "8b2a7c5d-7003-44d6-ac72-5a7ca7ffc2e8"
      },
      "execution_count": 274,
      "outputs": [
        {
          "output_type": "stream",
          "name": "stdout",
          "text": [
            "<class 'pandas.core.frame.DataFrame'>\n",
            "RangeIndex: 8693 entries, 0 to 8692\n",
            "Data columns (total 16 columns):\n",
            " #   Column             Non-Null Count  Dtype  \n",
            "---  ------             --------------  -----  \n",
            " 0   PassengerId        8693 non-null   object \n",
            " 1   CryoSleep          8693 non-null   int64  \n",
            " 2   Cabin              8494 non-null   object \n",
            " 3   Destination        8511 non-null   object \n",
            " 4   Age                8514 non-null   float64\n",
            " 5   VIP                8693 non-null   int64  \n",
            " 6   RoomService        8512 non-null   float64\n",
            " 7   FoodCourt          8510 non-null   float64\n",
            " 8   ShoppingMall       8485 non-null   float64\n",
            " 9   Spa                8510 non-null   float64\n",
            " 10  VRDeck             8505 non-null   float64\n",
            " 11  Name               8493 non-null   object \n",
            " 12  Transported        8693 non-null   int64  \n",
            " 13  HomePlanet_Earth   8693 non-null   int64  \n",
            " 14  HomePlanet_Europa  8693 non-null   int64  \n",
            " 15  HomePlanet_Mars    8693 non-null   int64  \n",
            "dtypes: float64(6), int64(6), object(4)\n",
            "memory usage: 1.1+ MB\n"
          ]
        }
      ]
    },
    {
      "cell_type": "code",
      "source": [
        "# prompt: create a barplot for destination with its frequency along with frequency of nan values\n",
        "\n",
        "import matplotlib.pyplot as plt\n",
        "# Assuming 'train_data' is your DataFrame\n",
        "destination_counts = train_data['Destination'].value_counts()\n",
        "destination_counts['NaN'] = train_data['Destination'].isnull().sum()\n",
        "\n",
        "plt.figure(figsize=(10, 6))\n",
        "sns.barplot(x=destination_counts.index, y=destination_counts.values)\n",
        "plt.title('Frequency of Destination and NaN Values')\n",
        "plt.xlabel('Destination')\n",
        "plt.ylabel('Frequency')\n",
        "plt.show()\n"
      ],
      "metadata": {
        "colab": {
          "base_uri": "https://localhost:8080/",
          "height": 564
        },
        "id": "l3PAptB4m5bY",
        "executionInfo": {
          "status": "ok",
          "timestamp": 1742482254869,
          "user_tz": -330,
          "elapsed": 256,
          "user": {
            "displayName": "Chinmay Pandey",
            "userId": "13013544925378087637"
          }
        },
        "outputId": "5a0842c9-2c17-4c91-e2b0-e939ca3c381e"
      },
      "execution_count": 275,
      "outputs": [
        {
          "output_type": "display_data",
          "data": {
            "text/plain": [
              "<Figure size 1000x600 with 1 Axes>"
            ],
            "image/png": "[encoded data removed]"
          },
          "metadata": {}
        }
      ]
    },
    {
      "cell_type": "code",
      "source": [
        "train_data['Destination'].fillna(\"TRAPPIST-1e\", inplace = True)"
      ],
      "metadata": {
        "colab": {
          "base_uri": "https://localhost:8080/"
        },
        "id": "SMg6y_yBm-q4",
        "executionInfo": {
          "status": "ok",
          "timestamp": 1742482255540,
          "user_tz": -330,
          "elapsed": 6,
          "user": {
            "displayName": "Chinmay Pandey",
            "userId": "13013544925378087637"
          }
        },
        "outputId": "9fcb153e-7520-45ce-c591-749c9c236091"
      },
      "execution_count": 276,
      "outputs": [
        {
          "output_type": "stream",
          "name": "stderr",
          "text": [
            "<ipython-input-276-51d68593752e>:1: FutureWarning: A value is trying to be set on a copy of a DataFrame or Series through chained assignment using an inplace method.\n",
            "The behavior will change in pandas 3.0. This inplace method will never work because the intermediate object on which we are setting values always behaves as a copy.\n",
            "\n",
            "For example, when doing 'df[col].method(value, inplace=True)', try using 'df.method({col: value}, inplace=True)' or df[col] = df[col].method(value) instead, to perform the operation inplace on the original object.\n",
            "\n",
            "\n",
            "  train_data['Destination'].fillna(\"TRAPPIST-1e\", inplace = True)\n"
          ]
        }
      ]
    },
    {
      "cell_type": "code",
      "source": [
        "\n",
        "train_data = pd.get_dummies(train_data, columns=['Destination'], prefix=['Destination'])"
      ],
      "metadata": {
        "id": "7i2in_uNkAZ0",
        "executionInfo": {
          "status": "ok",
          "timestamp": 1742482256520,
          "user_tz": -330,
          "elapsed": 34,
          "user": {
            "displayName": "Chinmay Pandey",
            "userId": "13013544925378087637"
          }
        }
      },
      "execution_count": 277,
      "outputs": []
    },
    {
      "cell_type": "code",
      "source": [
        "train_data.info()"
      ],
      "metadata": {
        "colab": {
          "base_uri": "https://localhost:8080/"
        },
        "id": "jswQl317kNFm",
        "executionInfo": {
          "status": "ok",
          "timestamp": 1742482257305,
          "user_tz": -330,
          "elapsed": 15,
          "user": {
            "displayName": "Chinmay Pandey",
            "userId": "13013544925378087637"
          }
        },
        "outputId": "99e5a1f1-3579-4e1a-eac1-6600f045d763"
      },
      "execution_count": 278,
      "outputs": [
        {
          "output_type": "stream",
          "name": "stdout",
          "text": [
            "<class 'pandas.core.frame.DataFrame'>\n",
            "RangeIndex: 8693 entries, 0 to 8692\n",
            "Data columns (total 18 columns):\n",
            " #   Column                     Non-Null Count  Dtype  \n",
            "---  ------                     --------------  -----  \n",
            " 0   PassengerId                8693 non-null   object \n",
            " 1   CryoSleep                  8693 non-null   int64  \n",
            " 2   Cabin                      8494 non-null   object \n",
            " 3   Age                        8514 non-null   float64\n",
            " 4   VIP                        8693 non-null   int64  \n",
            " 5   RoomService                8512 non-null   float64\n",
            " 6   FoodCourt                  8510 non-null   float64\n",
            " 7   ShoppingMall               8485 non-null   float64\n",
            " 8   Spa                        8510 non-null   float64\n",
            " 9   VRDeck                     8505 non-null   float64\n",
            " 10  Name                       8493 non-null   object \n",
            " 11  Transported                8693 non-null   int64  \n",
            " 12  HomePlanet_Earth           8693 non-null   int64  \n",
            " 13  HomePlanet_Europa          8693 non-null   int64  \n",
            " 14  HomePlanet_Mars            8693 non-null   int64  \n",
            " 15  Destination_55 Cancri e    8693 non-null   bool   \n",
            " 16  Destination_PSO J318.5-22  8693 non-null   bool   \n",
            " 17  Destination_TRAPPIST-1e    8693 non-null   bool   \n",
            "dtypes: bool(3), float64(6), int64(6), object(3)\n",
            "memory usage: 1.0+ MB\n"
          ]
        }
      ]
    },
    {
      "cell_type": "code",
      "source": [
        "for i in ['Destination_55 Cancri e', 'Destination_PSO J318.5-22', 'Destination_TRAPPIST-1e']:\n",
        "    train_data[i] = [0 if j == False else 1 for j in train_data[i]]"
      ],
      "metadata": {
        "id": "1aaTgRuWkR_F",
        "executionInfo": {
          "status": "ok",
          "timestamp": 1742482258308,
          "user_tz": -330,
          "elapsed": 9,
          "user": {
            "displayName": "Chinmay Pandey",
            "userId": "13013544925378087637"
          }
        }
      },
      "execution_count": 279,
      "outputs": []
    },
    {
      "cell_type": "code",
      "source": [
        "train_data.info()"
      ],
      "metadata": {
        "colab": {
          "base_uri": "https://localhost:8080/"
        },
        "id": "zEMoGkEykgc7",
        "executionInfo": {
          "status": "ok",
          "timestamp": 1742482259020,
          "user_tz": -330,
          "elapsed": 19,
          "user": {
            "displayName": "Chinmay Pandey",
            "userId": "13013544925378087637"
          }
        },
        "outputId": "970e5da2-9784-4823-d6c6-3f023371ab02"
      },
      "execution_count": 280,
      "outputs": [
        {
          "output_type": "stream",
          "name": "stdout",
          "text": [
            "<class 'pandas.core.frame.DataFrame'>\n",
            "RangeIndex: 8693 entries, 0 to 8692\n",
            "Data columns (total 18 columns):\n",
            " #   Column                     Non-Null Count  Dtype  \n",
            "---  ------                     --------------  -----  \n",
            " 0   PassengerId                8693 non-null   object \n",
            " 1   CryoSleep                  8693 non-null   int64  \n",
            " 2   Cabin                      8494 non-null   object \n",
            " 3   Age                        8514 non-null   float64\n",
            " 4   VIP                        8693 non-null   int64  \n",
            " 5   RoomService                8512 non-null   float64\n",
            " 6   FoodCourt                  8510 non-null   float64\n",
            " 7   ShoppingMall               8485 non-null   float64\n",
            " 8   Spa                        8510 non-null   float64\n",
            " 9   VRDeck                     8505 non-null   float64\n",
            " 10  Name                       8493 non-null   object \n",
            " 11  Transported                8693 non-null   int64  \n",
            " 12  HomePlanet_Earth           8693 non-null   int64  \n",
            " 13  HomePlanet_Europa          8693 non-null   int64  \n",
            " 14  HomePlanet_Mars            8693 non-null   int64  \n",
            " 15  Destination_55 Cancri e    8693 non-null   int64  \n",
            " 16  Destination_PSO J318.5-22  8693 non-null   int64  \n",
            " 17  Destination_TRAPPIST-1e    8693 non-null   int64  \n",
            "dtypes: float64(6), int64(9), object(3)\n",
            "memory usage: 1.2+ MB\n"
          ]
        }
      ]
    },
    {
      "cell_type": "code",
      "source": [
        "# prompt: find the frequency of transported as 1 for cabins and sort it in descending order\n",
        "\n",
        "# Group by 'Cabin' and calculate the frequency of 'Transported' as 1\n",
        "cabin_transported_freq = train_data.groupby('Cabin')['Transported'].sum()\n",
        "\n",
        "# Sort in descending order\n",
        "cabin_transported_freq_sorted = cabin_transported_freq.sort_values(ascending=False)\n",
        "\n",
        "cabin_transported_freq_sorted\n"
      ],
      "metadata": {
        "colab": {
          "base_uri": "https://localhost:8080/",
          "height": 489
        },
        "id": "9FWo38BEk4Wo",
        "executionInfo": {
          "status": "ok",
          "timestamp": 1742482259796,
          "user_tz": -330,
          "elapsed": 34,
          "user": {
            "displayName": "Chinmay Pandey",
            "userId": "13013544925378087637"
          }
        },
        "outputId": "4afe0e35-97f7-45a1-bb7b-afa0e48b207a"
      },
      "execution_count": 281,
      "outputs": [
        {
          "output_type": "execute_result",
          "data": {
            "text/plain": [
              "Cabin\n",
              "G/981/S     7\n",
              "C/230/S     6\n",
              "C/137/S     6\n",
              "G/765/S     6\n",
              "B/82/S      6\n",
              "           ..\n",
              "F/1872/P    0\n",
              "F/1871/P    0\n",
              "F/1870/P    0\n",
              "F/1867/P    0\n",
              "F/1866/P    0\n",
              "Name: Transported, Length: 6560, dtype: int64"
            ],
            "text/html": [
              "<div>\n",
              "<style scoped>\n",
              "    .dataframe tbody tr th:only-of-type {\n",
              "        vertical-align: middle;\n",
              "    }\n",
              "\n",
              "    .dataframe tbody tr th {\n",
              "        vertical-align: top;\n",
              "    }\n",
              "\n",
              "    .dataframe thead th {\n",
              "        text-align: right;\n",
              "    }\n",
              "</style>\n",
              "<table border=\"1\" class=\"dataframe\">\n",
              "  <thead>\n",
              "    <tr style=\"text-align: right;\">\n",
              "      <th></th>\n",
              "      <th>Transported</th>\n",
              "    </tr>\n",
              "    <tr>\n",
              "      <th>Cabin</th>\n",
              "      <th></th>\n",
              "    </tr>\n",
              "  </thead>\n",
              "  <tbody>\n",
              "    <tr>\n",
              "      <th>G/981/S</th>\n",
              "      <td>7</td>\n",
              "    </tr>\n",
              "    <tr>\n",
              "      <th>C/230/S</th>\n",
              "      <td>6</td>\n",
              "    </tr>\n",
              "    <tr>\n",
              "      <th>C/137/S</th>\n",
              "      <td>6</td>\n",
              "    </tr>\n",
              "    <tr>\n",
              "      <th>G/765/S</th>\n",
              "      <td>6</td>\n",
              "    </tr>\n",
              "    <tr>\n",
              "      <th>B/82/S</th>\n",
              "      <td>6</td>\n",
              "    </tr>\n",
              "    <tr>\n",
              "      <th>...</th>\n",
              "      <td>...</td>\n",
              "    </tr>\n",
              "    <tr>\n",
              "      <th>F/1872/P</th>\n",
              "      <td>0</td>\n",
              "    </tr>\n",
              "    <tr>\n",
              "      <th>F/1871/P</th>\n",
              "      <td>0</td>\n",
              "    </tr>\n",
              "    <tr>\n",
              "      <th>F/1870/P</th>\n",
              "      <td>0</td>\n",
              "    </tr>\n",
              "    <tr>\n",
              "      <th>F/1867/P</th>\n",
              "      <td>0</td>\n",
              "    </tr>\n",
              "    <tr>\n",
              "      <th>F/1866/P</th>\n",
              "      <td>0</td>\n",
              "    </tr>\n",
              "  </tbody>\n",
              "</table>\n",
              "<p>6560 rows × 1 columns</p>\n",
              "</div><br><label><b>dtype:</b> int64</label>"
            ]
          },
          "metadata": {},
          "execution_count": 281
        }
      ]
    },
    {
      "cell_type": "code",
      "source": [
        "# prompt: divide the cabin col into 3 seperate cols named deck, num, side\n",
        "\n",
        "# Split the 'Cabin' column into 'Deck', 'Num', and 'Side'\n",
        "train_data[['Deck', 'Num', 'Side']] = train_data['Cabin'].str.split('/', expand=True)\n",
        "train_data.drop(columns=['Cabin'], inplace=True)\n",
        "# Print the updated DataFrame to verify the changes\n",
        "print(train_data.info())\n"
      ],
      "metadata": {
        "colab": {
          "base_uri": "https://localhost:8080/"
        },
        "id": "6WOQqfpClQ00",
        "executionInfo": {
          "status": "ok",
          "timestamp": 1742482260586,
          "user_tz": -330,
          "elapsed": 18,
          "user": {
            "displayName": "Chinmay Pandey",
            "userId": "13013544925378087637"
          }
        },
        "outputId": "0dd97b06-7f94-42a5-cdb8-046c0b2c433a"
      },
      "execution_count": 282,
      "outputs": [
        {
          "output_type": "stream",
          "name": "stdout",
          "text": [
            "<class 'pandas.core.frame.DataFrame'>\n",
            "RangeIndex: 8693 entries, 0 to 8692\n",
            "Data columns (total 20 columns):\n",
            " #   Column                     Non-Null Count  Dtype  \n",
            "---  ------                     --------------  -----  \n",
            " 0   PassengerId                8693 non-null   object \n",
            " 1   CryoSleep                  8693 non-null   int64  \n",
            " 2   Age                        8514 non-null   float64\n",
            " 3   VIP                        8693 non-null   int64  \n",
            " 4   RoomService                8512 non-null   float64\n",
            " 5   FoodCourt                  8510 non-null   float64\n",
            " 6   ShoppingMall               8485 non-null   float64\n",
            " 7   Spa                        8510 non-null   float64\n",
            " 8   VRDeck                     8505 non-null   float64\n",
            " 9   Name                       8493 non-null   object \n",
            " 10  Transported                8693 non-null   int64  \n",
            " 11  HomePlanet_Earth           8693 non-null   int64  \n",
            " 12  HomePlanet_Europa          8693 non-null   int64  \n",
            " 13  HomePlanet_Mars            8693 non-null   int64  \n",
            " 14  Destination_55 Cancri e    8693 non-null   int64  \n",
            " 15  Destination_PSO J318.5-22  8693 non-null   int64  \n",
            " 16  Destination_TRAPPIST-1e    8693 non-null   int64  \n",
            " 17  Deck                       8494 non-null   object \n",
            " 18  Num                        8494 non-null   object \n",
            " 19  Side                       8494 non-null   object \n",
            "dtypes: float64(6), int64(9), object(5)\n",
            "memory usage: 1.3+ MB\n",
            "None\n"
          ]
        }
      ]
    },
    {
      "cell_type": "code",
      "source": [
        "# prompt: plot the bargraph with frequency of transported as 1 and deck along with its nan values\n",
        "\n",
        "import matplotlib.pyplot as plt\n",
        "# Assuming 'train_data' is your DataFrame\n",
        "deck_counts = train_data['Deck'].value_counts()\n",
        "deck_counts['NaN'] = train_data['Deck'].isnull().sum()\n",
        "\n",
        "plt.figure(figsize=(10, 6))\n",
        "sns.barplot(x=deck_counts.index, y=deck_counts.values)\n",
        "plt.title('Frequency of Deck and NaN Values')\n",
        "plt.xlabel('Deck')\n",
        "plt.ylabel('Frequency')\n",
        "plt.show()\n"
      ],
      "metadata": {
        "colab": {
          "base_uri": "https://localhost:8080/",
          "height": 564
        },
        "id": "95rCgIlDmU63",
        "executionInfo": {
          "status": "ok",
          "timestamp": 1742482261559,
          "user_tz": -330,
          "elapsed": 374,
          "user": {
            "displayName": "Chinmay Pandey",
            "userId": "13013544925378087637"
          }
        },
        "outputId": "5fe69b62-fe1b-4191-e77c-5ab86a6bca47"
      },
      "execution_count": 283,
      "outputs": [
        {
          "output_type": "display_data",
          "data": {
            "text/plain": [
              "<Figure size 1000x600 with 1 Axes>"
            ],
            "image/png": "[encoded data removed]"
          },
          "metadata": {}
        }
      ]
    },
    {
      "cell_type": "code",
      "source": [
        "# prompt: plot the bargraph with frequency of transported as 1 and side along with its nan values\n",
        "\n",
        "import matplotlib.pyplot as plt\n",
        "# Assuming 'train_data' is your DataFrame\n",
        "side_counts = train_data['Side'].value_counts()\n",
        "side_counts['NaN'] = train_data['Side'].isnull().sum()\n",
        "\n",
        "plt.figure(figsize=(8, 6))\n",
        "sns.barplot(x=side_counts.index, y=side_counts.values)\n",
        "plt.title('Frequency of Side and NaN Values')\n",
        "plt.xlabel('Side')\n",
        "plt.ylabel('Frequency')\n",
        "plt.show()"
      ],
      "metadata": {
        "colab": {
          "base_uri": "https://localhost:8080/",
          "height": 564
        },
        "id": "k3M62DgGmmMs",
        "executionInfo": {
          "status": "ok",
          "timestamp": 1742482262598,
          "user_tz": -330,
          "elapsed": 278,
          "user": {
            "displayName": "Chinmay Pandey",
            "userId": "13013544925378087637"
          }
        },
        "outputId": "1e9e4f7a-f70e-4c06-f897-bb9ceace6f33"
      },
      "execution_count": 284,
      "outputs": [
        {
          "output_type": "display_data",
          "data": {
            "text/plain": [
              "<Figure size 800x600 with 1 Axes>"
            ],
            "image/png": "[encoded data removed]"
          },
          "metadata": {}
        }
      ]
    },
    {
      "cell_type": "code",
      "source": [
        "# prompt: plot the bargraph with frequency of transported as 1 and deck along with its nan values and side along with its nan values\n",
        "\n",
        "import matplotlib.pyplot as plt\n",
        "import seaborn as sns\n",
        "\n",
        "# Assuming 'train_data' is your DataFrame\n",
        "\n",
        "# Group by 'Deck' and 'Side' and calculate the frequency of 'Transported' as 1\n",
        "deck_side_transported_freq = train_data.groupby(['Deck', 'Side'])['Transported'].sum()\n",
        "\n",
        "# Reset the index to create columns for 'Deck' and 'Side'\n",
        "deck_side_transported_freq = deck_side_transported_freq.reset_index()\n",
        "\n",
        "# Replace NaN values in 'Deck' and 'Side' with 'Unknown'\n",
        "deck_side_transported_freq['Deck'].fillna('Unknown', inplace=True)\n",
        "deck_side_transported_freq['Side'].fillna('Unknown', inplace=True)\n",
        "\n",
        "# Create a bar plot\n",
        "plt.figure(figsize=(12, 6))\n",
        "sns.barplot(x='Deck', y='Transported', hue='Side', data=deck_side_transported_freq)\n",
        "plt.title('Frequency of Transported (1) by Deck and Side')\n",
        "plt.xlabel('Deck')\n",
        "plt.ylabel('Frequency of Transported (1)')\n",
        "plt.legend(title='Side')\n",
        "plt.show()\n"
      ],
      "metadata": {
        "colab": {
          "base_uri": "https://localhost:8080/",
          "height": 827
        },
        "id": "IaIfsn3Rm-cz",
        "executionInfo": {
          "status": "ok",
          "timestamp": 1742482263969,
          "user_tz": -330,
          "elapsed": 602,
          "user": {
            "displayName": "Chinmay Pandey",
            "userId": "13013544925378087637"
          }
        },
        "outputId": "4a3805f8-4230-4b6a-8fda-65df87ddb22c"
      },
      "execution_count": 285,
      "outputs": [
        {
          "output_type": "stream",
          "name": "stderr",
          "text": [
            "<ipython-input-285-7bed76637655>:15: FutureWarning: A value is trying to be set on a copy of a DataFrame or Series through chained assignment using an inplace method.\n",
            "The behavior will change in pandas 3.0. This inplace method will never work because the intermediate object on which we are setting values always behaves as a copy.\n",
            "\n",
            "For example, when doing 'df[col].method(value, inplace=True)', try using 'df.method({col: value}, inplace=True)' or df[col] = df[col].method(value) instead, to perform the operation inplace on the original object.\n",
            "\n",
            "\n",
            "  deck_side_transported_freq['Deck'].fillna('Unknown', inplace=True)\n",
            "<ipython-input-285-7bed76637655>:16: FutureWarning: A value is trying to be set on a copy of a DataFrame or Series through chained assignment using an inplace method.\n",
            "The behavior will change in pandas 3.0. This inplace method will never work because the intermediate object on which we are setting values always behaves as a copy.\n",
            "\n",
            "For example, when doing 'df[col].method(value, inplace=True)', try using 'df.method({col: value}, inplace=True)' or df[col] = df[col].method(value) instead, to perform the operation inplace on the original object.\n",
            "\n",
            "\n",
            "  deck_side_transported_freq['Side'].fillna('Unknown', inplace=True)\n"
          ]
        },
        {
          "output_type": "display_data",
          "data": {
            "text/plain": [
              "<Figure size 1200x600 with 1 Axes>"
            ],
            "image/png": "[encoded data removed]"
          },
          "metadata": {}
        }
      ]
    },
    {
      "cell_type": "code",
      "source": [
        "# prompt: generate frequency of transported as 1 and deck along with its nan values and side along with its nan values in descending order of frequency\n",
        "\n",
        "# Assuming 'train_data' is your DataFrame\n",
        "\n",
        "# Group by 'Deck' and 'Side' and calculate the frequency of 'Transported' as 1\n",
        "deck_side_transported_freq = train_data.groupby(['Deck', 'Side'])['Transported'].sum()\n",
        "\n",
        "# Sort the values in descending order of frequency\n",
        "deck_side_transported_freq_sorted = deck_side_transported_freq.sort_values(ascending=False)\n",
        "\n",
        "# Print the sorted frequencies\n",
        "deck_side_transported_freq_sorted\n"
      ],
      "metadata": {
        "colab": {
          "base_uri": "https://localhost:8080/",
          "height": 617
        },
        "id": "2_Hbs1TfmJNR",
        "executionInfo": {
          "status": "ok",
          "timestamp": 1742482264603,
          "user_tz": -330,
          "elapsed": 18,
          "user": {
            "displayName": "Chinmay Pandey",
            "userId": "13013544925378087637"
          }
        },
        "outputId": "47996574-dbbe-4990-f2ba-1bee884446d8"
      },
      "execution_count": 286,
      "outputs": [
        {
          "output_type": "execute_result",
          "data": {
            "text/plain": [
              "Deck  Side\n",
              "G     S       749\n",
              "F     S       638\n",
              "      P       591\n",
              "G     P       572\n",
              "B     S       334\n",
              "C     S       310\n",
              "B     P       238\n",
              "C     P       198\n",
              "E     S       166\n",
              "      P       147\n",
              "D     S       107\n",
              "      P       100\n",
              "A     S        76\n",
              "      P        51\n",
              "T     P         1\n",
              "      S         0\n",
              "Name: Transported, dtype: int64"
            ],
            "text/html": [
              "<div>\n",
              "<style scoped>\n",
              "    .dataframe tbody tr th:only-of-type {\n",
              "        vertical-align: middle;\n",
              "    }\n",
              "\n",
              "    .dataframe tbody tr th {\n",
              "        vertical-align: top;\n",
              "    }\n",
              "\n",
              "    .dataframe thead th {\n",
              "        text-align: right;\n",
              "    }\n",
              "</style>\n",
              "<table border=\"1\" class=\"dataframe\">\n",
              "  <thead>\n",
              "    <tr style=\"text-align: right;\">\n",
              "      <th></th>\n",
              "      <th></th>\n",
              "      <th>Transported</th>\n",
              "    </tr>\n",
              "    <tr>\n",
              "      <th>Deck</th>\n",
              "      <th>Side</th>\n",
              "      <th></th>\n",
              "    </tr>\n",
              "  </thead>\n",
              "  <tbody>\n",
              "    <tr>\n",
              "      <th>G</th>\n",
              "      <th>S</th>\n",
              "      <td>749</td>\n",
              "    </tr>\n",
              "    <tr>\n",
              "      <th rowspan=\"2\" valign=\"top\">F</th>\n",
              "      <th>S</th>\n",
              "      <td>638</td>\n",
              "    </tr>\n",
              "    <tr>\n",
              "      <th>P</th>\n",
              "      <td>591</td>\n",
              "    </tr>\n",
              "    <tr>\n",
              "      <th>G</th>\n",
              "      <th>P</th>\n",
              "      <td>572</td>\n",
              "    </tr>\n",
              "    <tr>\n",
              "      <th>B</th>\n",
              "      <th>S</th>\n",
              "      <td>334</td>\n",
              "    </tr>\n",
              "    <tr>\n",
              "      <th>C</th>\n",
              "      <th>S</th>\n",
              "      <td>310</td>\n",
              "    </tr>\n",
              "    <tr>\n",
              "      <th>B</th>\n",
              "      <th>P</th>\n",
              "      <td>238</td>\n",
              "    </tr>\n",
              "    <tr>\n",
              "      <th>C</th>\n",
              "      <th>P</th>\n",
              "      <td>198</td>\n",
              "    </tr>\n",
              "    <tr>\n",
              "      <th rowspan=\"2\" valign=\"top\">E</th>\n",
              "      <th>S</th>\n",
              "      <td>166</td>\n",
              "    </tr>\n",
              "    <tr>\n",
              "      <th>P</th>\n",
              "      <td>147</td>\n",
              "    </tr>\n",
              "    <tr>\n",
              "      <th rowspan=\"2\" valign=\"top\">D</th>\n",
              "      <th>S</th>\n",
              "      <td>107</td>\n",
              "    </tr>\n",
              "    <tr>\n",
              "      <th>P</th>\n",
              "      <td>100</td>\n",
              "    </tr>\n",
              "    <tr>\n",
              "      <th rowspan=\"2\" valign=\"top\">A</th>\n",
              "      <th>S</th>\n",
              "      <td>76</td>\n",
              "    </tr>\n",
              "    <tr>\n",
              "      <th>P</th>\n",
              "      <td>51</td>\n",
              "    </tr>\n",
              "    <tr>\n",
              "      <th rowspan=\"2\" valign=\"top\">T</th>\n",
              "      <th>P</th>\n",
              "      <td>1</td>\n",
              "    </tr>\n",
              "    <tr>\n",
              "      <th>S</th>\n",
              "      <td>0</td>\n",
              "    </tr>\n",
              "  </tbody>\n",
              "</table>\n",
              "</div><br><label><b>dtype:</b> int64</label>"
            ]
          },
          "metadata": {},
          "execution_count": 286
        }
      ]
    },
    {
      "cell_type": "code",
      "source": [
        "# prompt: calculate the percentage of first 4 entries of deck_side_transported_freq_sorted with respect to the total sum of these 4 entries.\n",
        "\n",
        "# Get the first 4 entries of the sorted series\n",
        "first_four_entries = deck_side_transported_freq_sorted[:4]\n",
        "\n",
        "# Calculate the total sum of these 4 entries\n",
        "total_sum = first_four_entries.sum()\n",
        "\n",
        "# Calculate the percentage of each entry with respect to the total sum\n",
        "percentage_list = [(value / total_sum) * 100 for value in first_four_entries.values]\n",
        "\n",
        "# Print the percentages\n",
        "percentage_list\n"
      ],
      "metadata": {
        "colab": {
          "base_uri": "https://localhost:8080/"
        },
        "id": "nZvdUh-coKGI",
        "executionInfo": {
          "status": "ok",
          "timestamp": 1742482268461,
          "user_tz": -330,
          "elapsed": 25,
          "user": {
            "displayName": "Chinmay Pandey",
            "userId": "13013544925378087637"
          }
        },
        "outputId": "630f7dbe-33ac-4b1c-b12d-98da5482f691"
      },
      "execution_count": 287,
      "outputs": [
        {
          "output_type": "execute_result",
          "data": {
            "text/plain": [
              "[np.float64(29.372549019607842),\n",
              " np.float64(25.019607843137255),\n",
              " np.float64(23.176470588235293),\n",
              " np.float64(22.431372549019606)]"
            ]
          },
          "metadata": {},
          "execution_count": 287
        }
      ]
    },
    {
      "cell_type": "code",
      "source": [
        "# prompt: replace percentage_list[0]% of nan values in deck and side to first_four_entries[0] and so on respectively\n",
        "\n",
        "# Assuming 'train_data' is your DataFrame and 'percentage_list' and 'first_four_entries' are defined as in your code\n",
        "\n",
        "for i, (deck_side, _) in enumerate(first_four_entries.items()):\n",
        "  deck, side = deck_side\n",
        "  nan_count = train_data[(train_data['Deck'].isnull()) & (train_data['Side'].isnull())].shape[0]\n",
        "  num_to_replace = int(nan_count * (percentage_list[i] / 100))\n",
        "\n",
        "  # Replace NaN values in 'Deck' and 'Side' with the corresponding values from 'first_four_entries'\n",
        "  train_data.loc[(train_data['Deck'].isnull()) & (train_data['Side'].isnull()), ['Deck', 'Side']] = \\\n",
        "      train_data[(train_data['Deck'].isnull()) & (train_data['Side'].isnull())][['Deck', 'Side']].fillna(\n",
        "          {'Deck': deck, 'Side': side}, limit=num_to_replace\n",
        "      )\n",
        "\n"
      ],
      "metadata": {
        "id": "rFOS0UIopiJ4",
        "executionInfo": {
          "status": "ok",
          "timestamp": 1742482269215,
          "user_tz": -330,
          "elapsed": 36,
          "user": {
            "displayName": "Chinmay Pandey",
            "userId": "13013544925378087637"
          }
        }
      },
      "execution_count": 288,
      "outputs": []
    },
    {
      "cell_type": "code",
      "source": [
        "# prompt: plot the bargraph with frequency of transported as 1 and deck along with its nan values and side along with its nan values\n",
        "\n",
        "import matplotlib.pyplot as plt\n",
        "import seaborn as sns\n",
        "\n",
        "# Assuming 'train_data' is your DataFrame\n",
        "\n",
        "# Group by 'Deck' and 'Side' and calculate the frequency of 'Transported' as 1\n",
        "deck_side_transported_freq = train_data.groupby(['Deck', 'Side'])['Transported'].sum()\n",
        "\n",
        "# Reset the index to create columns for 'Deck' and 'Side'\n",
        "deck_side_transported_freq = deck_side_transported_freq.reset_index()\n",
        "\n",
        "# Replace NaN values in 'Deck' and 'Side' with 'Unknown'\n",
        "deck_side_transported_freq['Deck'].fillna('Unknown', inplace=True)\n",
        "deck_side_transported_freq['Side'].fillna('Unknown', inplace=True)\n",
        "\n",
        "# Create a bar plot\n",
        "plt.figure(figsize=(12, 6))\n",
        "sns.barplot(x='Deck', y='Transported', hue='Side', data=deck_side_transported_freq)\n",
        "plt.title('Frequency of Transported (1) by Deck and Side')\n",
        "plt.xlabel('Deck')\n",
        "plt.ylabel('Frequency of Transported (1)')\n",
        "plt.legend(title='Side')\n",
        "plt.show()\n"
      ],
      "metadata": {
        "colab": {
          "base_uri": "https://localhost:8080/",
          "height": 827
        },
        "id": "okOyrGKmmDIh",
        "executionInfo": {
          "status": "ok",
          "timestamp": 1742482270349,
          "user_tz": -330,
          "elapsed": 350,
          "user": {
            "displayName": "Chinmay Pandey",
            "userId": "13013544925378087637"
          }
        },
        "outputId": "e4abf6fd-3f30-4007-bae1-f689639fd628"
      },
      "execution_count": 289,
      "outputs": [
        {
          "output_type": "stream",
          "name": "stderr",
          "text": [
            "<ipython-input-289-7bed76637655>:15: FutureWarning: A value is trying to be set on a copy of a DataFrame or Series through chained assignment using an inplace method.\n",
            "The behavior will change in pandas 3.0. This inplace method will never work because the intermediate object on which we are setting values always behaves as a copy.\n",
            "\n",
            "For example, when doing 'df[col].method(value, inplace=True)', try using 'df.method({col: value}, inplace=True)' or df[col] = df[col].method(value) instead, to perform the operation inplace on the original object.\n",
            "\n",
            "\n",
            "  deck_side_transported_freq['Deck'].fillna('Unknown', inplace=True)\n",
            "<ipython-input-289-7bed76637655>:16: FutureWarning: A value is trying to be set on a copy of a DataFrame or Series through chained assignment using an inplace method.\n",
            "The behavior will change in pandas 3.0. This inplace method will never work because the intermediate object on which we are setting values always behaves as a copy.\n",
            "\n",
            "For example, when doing 'df[col].method(value, inplace=True)', try using 'df.method({col: value}, inplace=True)' or df[col] = df[col].method(value) instead, to perform the operation inplace on the original object.\n",
            "\n",
            "\n",
            "  deck_side_transported_freq['Side'].fillna('Unknown', inplace=True)\n"
          ]
        },
        {
          "output_type": "display_data",
          "data": {
            "text/plain": [
              "<Figure size 1200x600 with 1 Axes>"
            ],
            "image/png": "[encoded data removed]"
          },
          "metadata": {}
        }
      ]
    },
    {
      "cell_type": "code",
      "source": [
        "# prompt: generate frequency of transported as 1 and deck along with its nan values and side along with its nan values in descending order of frequency\n",
        "\n",
        "# Assuming 'train_data' is your DataFrame\n",
        "\n",
        "# Group by 'Deck' and 'Side' and calculate the frequency of 'Transported' as 1\n",
        "deck_side_transported_freq = train_data.groupby(['Deck', 'Side'])['Transported'].sum()\n",
        "\n",
        "# Sort the values in descending order of frequency\n",
        "deck_side_transported_freq_sorted = deck_side_transported_freq.sort_values(ascending=False)\n",
        "\n",
        "# Print the sorted frequencies\n",
        "deck_side_transported_freq_sorted\n"
      ],
      "metadata": {
        "colab": {
          "base_uri": "https://localhost:8080/",
          "height": 617
        },
        "id": "fQdt1puKmiEv",
        "executionInfo": {
          "status": "ok",
          "timestamp": 1742482270855,
          "user_tz": -330,
          "elapsed": 23,
          "user": {
            "displayName": "Chinmay Pandey",
            "userId": "13013544925378087637"
          }
        },
        "outputId": "53a10c71-724b-4e8f-a6a9-f31e08da496b"
      },
      "execution_count": 290,
      "outputs": [
        {
          "output_type": "execute_result",
          "data": {
            "text/plain": [
              "Deck  Side\n",
              "G     S       782\n",
              "F     S       650\n",
              "      P       604\n",
              "G     P       583\n",
              "B     S       334\n",
              "C     S       310\n",
              "B     P       238\n",
              "C     P       198\n",
              "E     S       166\n",
              "      P       147\n",
              "D     S       107\n",
              "      P       100\n",
              "A     S        76\n",
              "      P        51\n",
              "T     P         1\n",
              "      S         0\n",
              "Name: Transported, dtype: int64"
            ],
            "text/html": [
              "<div>\n",
              "<style scoped>\n",
              "    .dataframe tbody tr th:only-of-type {\n",
              "        vertical-align: middle;\n",
              "    }\n",
              "\n",
              "    .dataframe tbody tr th {\n",
              "        vertical-align: top;\n",
              "    }\n",
              "\n",
              "    .dataframe thead th {\n",
              "        text-align: right;\n",
              "    }\n",
              "</style>\n",
              "<table border=\"1\" class=\"dataframe\">\n",
              "  <thead>\n",
              "    <tr style=\"text-align: right;\">\n",
              "      <th></th>\n",
              "      <th></th>\n",
              "      <th>Transported</th>\n",
              "    </tr>\n",
              "    <tr>\n",
              "      <th>Deck</th>\n",
              "      <th>Side</th>\n",
              "      <th></th>\n",
              "    </tr>\n",
              "  </thead>\n",
              "  <tbody>\n",
              "    <tr>\n",
              "      <th>G</th>\n",
              "      <th>S</th>\n",
              "      <td>782</td>\n",
              "    </tr>\n",
              "    <tr>\n",
              "      <th rowspan=\"2\" valign=\"top\">F</th>\n",
              "      <th>S</th>\n",
              "      <td>650</td>\n",
              "    </tr>\n",
              "    <tr>\n",
              "      <th>P</th>\n",
              "      <td>604</td>\n",
              "    </tr>\n",
              "    <tr>\n",
              "      <th>G</th>\n",
              "      <th>P</th>\n",
              "      <td>583</td>\n",
              "    </tr>\n",
              "    <tr>\n",
              "      <th>B</th>\n",
              "      <th>S</th>\n",
              "      <td>334</td>\n",
              "    </tr>\n",
              "    <tr>\n",
              "      <th>C</th>\n",
              "      <th>S</th>\n",
              "      <td>310</td>\n",
              "    </tr>\n",
              "    <tr>\n",
              "      <th>B</th>\n",
              "      <th>P</th>\n",
              "      <td>238</td>\n",
              "    </tr>\n",
              "    <tr>\n",
              "      <th>C</th>\n",
              "      <th>P</th>\n",
              "      <td>198</td>\n",
              "    </tr>\n",
              "    <tr>\n",
              "      <th rowspan=\"2\" valign=\"top\">E</th>\n",
              "      <th>S</th>\n",
              "      <td>166</td>\n",
              "    </tr>\n",
              "    <tr>\n",
              "      <th>P</th>\n",
              "      <td>147</td>\n",
              "    </tr>\n",
              "    <tr>\n",
              "      <th rowspan=\"2\" valign=\"top\">D</th>\n",
              "      <th>S</th>\n",
              "      <td>107</td>\n",
              "    </tr>\n",
              "    <tr>\n",
              "      <th>P</th>\n",
              "      <td>100</td>\n",
              "    </tr>\n",
              "    <tr>\n",
              "      <th rowspan=\"2\" valign=\"top\">A</th>\n",
              "      <th>S</th>\n",
              "      <td>76</td>\n",
              "    </tr>\n",
              "    <tr>\n",
              "      <th>P</th>\n",
              "      <td>51</td>\n",
              "    </tr>\n",
              "    <tr>\n",
              "      <th rowspan=\"2\" valign=\"top\">T</th>\n",
              "      <th>P</th>\n",
              "      <td>1</td>\n",
              "    </tr>\n",
              "    <tr>\n",
              "      <th>S</th>\n",
              "      <td>0</td>\n",
              "    </tr>\n",
              "  </tbody>\n",
              "</table>\n",
              "</div><br><label><b>dtype:</b> int64</label>"
            ]
          },
          "metadata": {},
          "execution_count": 290
        }
      ]
    },
    {
      "cell_type": "code",
      "source": [
        "# prompt: replace the deck and side cols in train_data with the above data\n",
        "\n",
        "import pandas as pd\n",
        "# Assuming 'deck_side_transported_freq_sorted' contains the sorted frequencies of 'Deck' and 'Side'\n",
        "\n",
        "# Create a dictionary to map the most frequent Deck and Side combinations to NaN values\n",
        "deck_side_mapping = {\n",
        "    (deck, side): (deck, side) for (deck, side), _ in deck_side_transported_freq_sorted.items()\n",
        "}\n",
        "\n",
        "# Replace NaN values in 'Deck' and 'Side' with the most frequent combinations\n",
        "for i in range(train_data.shape[0]):\n",
        "  if pd.isnull(train_data.loc[i, 'Deck']) and pd.isnull(train_data.loc[i, 'Side']):\n",
        "    # Find the most frequent combination from the mapping\n",
        "    for (deck, side), (new_deck, new_side) in deck_side_mapping.items():\n",
        "        train_data.loc[i, 'Deck'] = new_deck\n",
        "        train_data.loc[i, 'Side'] = new_side\n",
        "        break  # Assign only one combination\n",
        "\n",
        "# Now, 'train_data' has NaN values in 'Deck' and 'Side' replaced with the most frequent combinations.\n"
      ],
      "metadata": {
        "id": "DoOKCr-HrcKG",
        "executionInfo": {
          "status": "ok",
          "timestamp": 1742482271991,
          "user_tz": -330,
          "elapsed": 95,
          "user": {
            "displayName": "Chinmay Pandey",
            "userId": "13013544925378087637"
          }
        }
      },
      "execution_count": 291,
      "outputs": []
    },
    {
      "cell_type": "code",
      "source": [
        "# prompt: generate frequency of transported as 1 and deck along with its nan values and side along with its nan values in descending order of frequency\n",
        "\n",
        "# Assuming 'train_data' is your DataFrame\n",
        "\n",
        "# Group by 'Deck' and 'Side' and calculate the frequency of 'Transported' as 1\n",
        "deck_side_transported_freq = train_data.groupby(['Deck', 'Side'])['Transported'].sum()\n",
        "\n",
        "# Sort the values in descending order of frequency\n",
        "deck_side_transported_freq_sorted = deck_side_transported_freq.sort_values(ascending=False)\n",
        "\n",
        "# Print the sorted frequencies along with NaN values for Deck and Side\n",
        "print(deck_side_transported_freq_sorted)\n",
        "\n",
        "\n",
        "# Assuming 'train_data' is your DataFrame\n",
        "\n",
        "# Group by 'Deck' and calculate the frequency of 'Transported' as 1, including NaN values\n",
        "deck_transported_freq = train_data.groupby('Deck')['Transported'].agg(['sum', 'count'])\n",
        "deck_transported_freq['NaN_count'] = train_data['Deck'].isnull().sum()\n",
        "\n",
        "\n",
        "# Sort in descending order of frequency\n",
        "deck_transported_freq_sorted = deck_transported_freq.sort_values(by='sum', ascending=False)\n",
        "print(deck_transported_freq_sorted)\n",
        "\n",
        "# Group by 'Side' and calculate the frequency of 'Transported' as 1, including NaN values\n",
        "side_transported_freq = train_data.groupby('Side')['Transported'].agg(['sum', 'count'])\n",
        "side_transported_freq['NaN_count'] = train_data['Side'].isnull().sum()\n",
        "\n",
        "\n",
        "# Sort in descending order of frequency\n",
        "side_transported_freq_sorted = side_transported_freq.sort_values(by='sum', ascending=False)\n",
        "side_transported_freq_sorted\n"
      ],
      "metadata": {
        "colab": {
          "base_uri": "https://localhost:8080/",
          "height": 629
        },
        "id": "La8X6oSTsChV",
        "executionInfo": {
          "status": "ok",
          "timestamp": 1742482273024,
          "user_tz": -330,
          "elapsed": 63,
          "user": {
            "displayName": "Chinmay Pandey",
            "userId": "13013544925378087637"
          }
        },
        "outputId": "f4070923-c409-4dfa-f731-403400dc609e"
      },
      "execution_count": 292,
      "outputs": [
        {
          "output_type": "stream",
          "name": "stdout",
          "text": [
            "Deck  Side\n",
            "G     S       813\n",
            "F     S       650\n",
            "      P       604\n",
            "G     P       583\n",
            "B     S       334\n",
            "C     S       310\n",
            "B     P       238\n",
            "C     P       198\n",
            "E     S       166\n",
            "      P       147\n",
            "D     S       107\n",
            "      P       100\n",
            "A     S        76\n",
            "      P        51\n",
            "T     P         1\n",
            "      S         0\n",
            "Name: Transported, dtype: int64\n",
            "       sum  count  NaN_count\n",
            "Deck                        \n",
            "G     1396   2699          0\n",
            "F     1254   2853          0\n",
            "B      572    779          0\n",
            "C      508    747          0\n",
            "E      313    876          0\n",
            "D      207    478          0\n",
            "A      127    256          0\n",
            "T        1      5          0\n"
          ]
        },
        {
          "output_type": "execute_result",
          "data": {
            "text/plain": [
              "       sum  count  NaN_count\n",
              "Side                        \n",
              "S     2456   4445          0\n",
              "P     1922   4248          0"
            ],
            "text/html": [
              "\n",
              "  <div id=\"df-39fe94b2-17e6-4994-a917-0fe79b5a126d\" class=\"colab-df-container\">\n",
              "    <div>\n",
              "<style scoped>\n",
              "    .dataframe tbody tr th:only-of-type {\n",
              "        vertical-align: middle;\n",
              "    }\n",
              "\n",
              "    .dataframe tbody tr th {\n",
              "        vertical-align: top;\n",
              "    }\n",
              "\n",
              "    .dataframe thead th {\n",
              "        text-align: right;\n",
              "    }\n",
              "</style>\n",
              "<table border=\"1\" class=\"dataframe\">\n",
              "  <thead>\n",
              "    <tr style=\"text-align: right;\">\n",
              "      <th></th>\n",
              "      <th>sum</th>\n",
              "      <th>count</th>\n",
              "      <th>NaN_count</th>\n",
              "    </tr>\n",
              "    <tr>\n",
              "      <th>Side</th>\n",
              "      <th></th>\n",
              "      <th></th>\n",
              "      <th></th>\n",
              "    </tr>\n",
              "  </thead>\n",
              "  <tbody>\n",
              "    <tr>\n",
              "      <th>S</th>\n",
              "      <td>2456</td>\n",
              "      <td>4445</td>\n",
              "      <td>0</td>\n",
              "    </tr>\n",
              "    <tr>\n",
              "      <th>P</th>\n",
              "      <td>1922</td>\n",
              "      <td>4248</td>\n",
              "      <td>0</td>\n",
              "    </tr>\n",
              "  </tbody>\n",
              "</table>\n",
              "</div>\n",
              "    <div class=\"colab-df-buttons\">\n",
              "\n",
              "  <div class=\"colab-df-container\">\n",
              "    <button class=\"colab-df-convert\" onclick=\"convertToInteractive('df-39fe94b2-17e6-4994-a917-0fe79b5a126d')\"\n",
              "            title=\"Convert this dataframe to an interactive table.\"\n",
              "            style=\"display:none;\">\n",
              "\n",
              "  <svg xmlns=\"http://www.w3.org/2000/svg\" height=\"24px\" viewBox=\"0 -960 960 960\">\n",
              "    <path d=\"M120-120v-720h720v720H120Zm60-500h600v-160H180v160Zm220 220h160v-160H400v160Zm0 220h160v-160H400v160ZM180-400h160v-160H180v160Zm440 0h160v-160H620v160ZM180-180h160v-160H180v160Zm440 0h160v-160H620v160Z\"/>\n",
              "  </svg>\n",
              "    </button>\n",
              "\n",
              "  <style>\n",
              "    .colab-df-container {\n",
              "      display:flex;\n",
              "      gap: 12px;\n",
              "    }\n",
              "\n",
              "    .colab-df-convert {\n",
              "      background-color: #E8F0FE;\n",
              "      border: none;\n",
              "      border-radius: 50%;\n",
              "      cursor: pointer;\n",
              "      display: none;\n",
              "      fill: #1967D2;\n",
              "      height: 32px;\n",
              "      padding: 0 0 0 0;\n",
              "      width: 32px;\n",
              "    }\n",
              "\n",
              "    .colab-df-convert:hover {\n",
              "      background-color: #E2EBFA;\n",
              "      box-shadow: 0px 1px 2px rgba(60, 64, 67, 0.3), 0px 1px 3px 1px rgba(60, 64, 67, 0.15);\n",
              "      fill: #174EA6;\n",
              "    }\n",
              "\n",
              "    .colab-df-buttons div {\n",
              "      margin-bottom: 4px;\n",
              "    }\n",
              "\n",
              "    [theme=dark] .colab-df-convert {\n",
              "      background-color: #3B4455;\n",
              "      fill: #D2E3FC;\n",
              "    }\n",
              "\n",
              "    [theme=dark] .colab-df-convert:hover {\n",
              "      background-color: #434B5C;\n",
              "      box-shadow: 0px 1px 3px 1px rgba(0, 0, 0, 0.15);\n",
              "      filter: drop-shadow(0px 1px 2px rgba(0, 0, 0, 0.3));\n",
              "      fill: #FFFFFF;\n",
              "    }\n",
              "  </style>\n",
              "\n",
              "    <script>\n",
              "      const buttonEl =\n",
              "        document.querySelector('#df-39fe94b2-17e6-4994-a917-0fe79b5a126d button.colab-df-convert');\n",
              "      buttonEl.style.display =\n",
              "        google.colab.kernel.accessAllowed ? 'block' : 'none';\n",
              "\n",
              "      async function convertToInteractive(key) {\n",
              "        const element = document.querySelector('#df-39fe94b2-17e6-4994-a917-0fe79b5a126d');\n",
              "        const dataTable =\n",
              "          await google.colab.kernel.invokeFunction('convertToInteractive',\n",
              "                                                    [key], {});\n",
              "        if (!dataTable) return;\n",
              "\n",
              "        const docLinkHtml = 'Like what you see? Visit the ' +\n",
              "          '<a target=\"_blank\" href=https://colab.research.google.com/notebooks/data_table.ipynb>data table notebook</a>'\n",
              "          + ' to learn more about interactive tables.';\n",
              "        element.innerHTML = '';\n",
              "        dataTable['output_type'] = 'display_data';\n",
              "        await google.colab.output.renderOutput(dataTable, element);\n",
              "        const docLink = document.createElement('div');\n",
              "        docLink.innerHTML = docLinkHtml;\n",
              "        element.appendChild(docLink);\n",
              "      }\n",
              "    </script>\n",
              "  </div>\n",
              "\n",
              "\n",
              "<div id=\"df-c6c04428-f47c-4242-bf7f-5a82fa0b5be1\">\n",
              "  <button class=\"colab-df-quickchart\" onclick=\"quickchart('df-c6c04428-f47c-4242-bf7f-5a82fa0b5be1')\"\n",
              "            title=\"Suggest charts\"\n",
              "            style=\"display:none;\">\n",
              "\n",
              "<svg xmlns=\"http://www.w3.org/2000/svg\" height=\"24px\"viewBox=\"0 0 24 24\"\n",
              "     width=\"24px\">\n",
              "    <g>\n",
              "        <path d=\"M19 3H5c-1.1 0-2 .9-2 2v14c0 1.1.9 2 2 2h14c1.1 0 2-.9 2-2V5c0-1.1-.9-2-2-2zM9 17H7v-7h2v7zm4 0h-2V7h2v10zm4 0h-2v-4h2v4z\"/>\n",
              "    </g>\n",
              "</svg>\n",
              "  </button>\n",
              "\n",
              "<style>\n",
              "  .colab-df-quickchart {\n",
              "      --bg-color: #E8F0FE;\n",
              "      --fill-color: #1967D2;\n",
              "      --hover-bg-color: #E2EBFA;\n",
              "      --hover-fill-color: #174EA6;\n",
              "      --disabled-fill-color: #AAA;\n",
              "      --disabled-bg-color: #DDD;\n",
              "  }\n",
              "\n",
              "  [theme=dark] .colab-df-quickchart {\n",
              "      --bg-color: #3B4455;\n",
              "      --fill-color: #D2E3FC;\n",
              "      --hover-bg-color: #434B5C;\n",
              "      --hover-fill-color: #FFFFFF;\n",
              "      --disabled-bg-color: #3B4455;\n",
              "      --disabled-fill-color: #666;\n",
              "  }\n",
              "\n",
              "  .colab-df-quickchart {\n",
              "    background-color: var(--bg-color);\n",
              "    border: none;\n",
              "    border-radius: 50%;\n",
              "    cursor: pointer;\n",
              "    display: none;\n",
              "    fill: var(--fill-color);\n",
              "    height: 32px;\n",
              "    padding: 0;\n",
              "    width: 32px;\n",
              "  }\n",
              "\n",
              "  .colab-df-quickchart:hover {\n",
              "    background-color: var(--hover-bg-color);\n",
              "    box-shadow: 0 1px 2px rgba(60, 64, 67, 0.3), 0 1px 3px 1px rgba(60, 64, 67, 0.15);\n",
              "    fill: var(--button-hover-fill-color);\n",
              "  }\n",
              "\n",
              "  .colab-df-quickchart-complete:disabled,\n",
              "  .colab-df-quickchart-complete:disabled:hover {\n",
              "    background-color: var(--disabled-bg-color);\n",
              "    fill: var(--disabled-fill-color);\n",
              "    box-shadow: none;\n",
              "  }\n",
              "\n",
              "  .colab-df-spinner {\n",
              "    border: 2px solid var(--fill-color);\n",
              "    border-color: transparent;\n",
              "    border-bottom-color: var(--fill-color);\n",
              "    animation:\n",
              "      spin 1s steps(1) infinite;\n",
              "  }\n",
              "\n",
              "  @keyframes spin {\n",
              "    0% {\n",
              "      border-color: transparent;\n",
              "      border-bottom-color: var(--fill-color);\n",
              "      border-left-color: var(--fill-color);\n",
              "    }\n",
              "    20% {\n",
              "      border-color: transparent;\n",
              "      border-left-color: var(--fill-color);\n",
              "      border-top-color: var(--fill-color);\n",
              "    }\n",
              "    30% {\n",
              "      border-color: transparent;\n",
              "      border-left-color: var(--fill-color);\n",
              "      border-top-color: var(--fill-color);\n",
              "      border-right-color: var(--fill-color);\n",
              "    }\n",
              "    40% {\n",
              "      border-color: transparent;\n",
              "      border-right-color: var(--fill-color);\n",
              "      border-top-color: var(--fill-color);\n",
              "    }\n",
              "    60% {\n",
              "      border-color: transparent;\n",
              "      border-right-color: var(--fill-color);\n",
              "    }\n",
              "    80% {\n",
              "      border-color: transparent;\n",
              "      border-right-color: var(--fill-color);\n",
              "      border-bottom-color: var(--fill-color);\n",
              "    }\n",
              "    90% {\n",
              "      border-color: transparent;\n",
              "      border-bottom-color: var(--fill-color);\n",
              "    }\n",
              "  }\n",
              "</style>\n",
              "\n",
              "  <script>\n",
              "    async function quickchart(key) {\n",
              "      const quickchartButtonEl =\n",
              "        document.querySelector('#' + key + ' button');\n",
              "      quickchartButtonEl.disabled = true;  // To prevent multiple clicks.\n",
              "      quickchartButtonEl.classList.add('colab-df-spinner');\n",
              "      try {\n",
              "        const charts = await google.colab.kernel.invokeFunction(\n",
              "            'suggestCharts', [key], {});\n",
              "      } catch (error) {\n",
              "        console.error('Error during call to suggestCharts:', error);\n",
              "      }\n",
              "      quickchartButtonEl.classList.remove('colab-df-spinner');\n",
              "      quickchartButtonEl.classList.add('colab-df-quickchart-complete');\n",
              "    }\n",
              "    (() => {\n",
              "      let quickchartButtonEl =\n",
              "        document.querySelector('#df-c6c04428-f47c-4242-bf7f-5a82fa0b5be1 button');\n",
              "      quickchartButtonEl.style.display =\n",
              "        google.colab.kernel.accessAllowed ? 'block' : 'none';\n",
              "    })();\n",
              "  </script>\n",
              "</div>\n",
              "\n",
              "  <div id=\"id_dab16f1c-1a87-45d8-a972-edcb955b2aec\">\n",
              "    <style>\n",
              "      .colab-df-generate {\n",
              "        background-color: #E8F0FE;\n",
              "        border: none;\n",
              "        border-radius: 50%;\n",
              "        cursor: pointer;\n",
              "        display: none;\n",
              "        fill: #1967D2;\n",
              "        height: 32px;\n",
              "        padding: 0 0 0 0;\n",
              "        width: 32px;\n",
              "      }\n",
              "\n",
              "      .colab-df-generate:hover {\n",
              "        background-color: #E2EBFA;\n",
              "        box-shadow: 0px 1px 2px rgba(60, 64, 67, 0.3), 0px 1px 3px 1px rgba(60, 64, 67, 0.15);\n",
              "        fill: #174EA6;\n",
              "      }\n",
              "\n",
              "      [theme=dark] .colab-df-generate {\n",
              "        background-color: #3B4455;\n",
              "        fill: #D2E3FC;\n",
              "      }\n",
              "\n",
              "      [theme=dark] .colab-df-generate:hover {\n",
              "        background-color: #434B5C;\n",
              "        box-shadow: 0px 1px 3px 1px rgba(0, 0, 0, 0.15);\n",
              "        filter: drop-shadow(0px 1px 2px rgba(0, 0, 0, 0.3));\n",
              "        fill: #FFFFFF;\n",
              "      }\n",
              "    </style>\n",
              "    <button class=\"colab-df-generate\" onclick=\"generateWithVariable('side_transported_freq_sorted')\"\n",
              "            title=\"Generate code using this dataframe.\"\n",
              "            style=\"display:none;\">\n",
              "\n",
              "  <svg xmlns=\"http://www.w3.org/2000/svg\" height=\"24px\"viewBox=\"0 0 24 24\"\n",
              "       width=\"24px\">\n",
              "    <path d=\"M7,19H8.4L18.45,9,17,7.55,7,17.6ZM5,21V16.75L18.45,3.32a2,2,0,0,1,2.83,0l1.4,1.43a1.91,1.91,0,0,1,.58,1.4,1.91,1.91,0,0,1-.58,1.4L9.25,21ZM18.45,9,17,7.55Zm-12,3A5.31,5.31,0,0,0,4.9,8.1,5.31,5.31,0,0,0,1,6.5,5.31,5.31,0,0,0,4.9,4.9,5.31,5.31,0,0,0,6.5,1,5.31,5.31,0,0,0,8.1,4.9,5.31,5.31,0,0,0,12,6.5,5.46,5.46,0,0,0,6.5,12Z\"/>\n",
              "  </svg>\n",
              "    </button>\n",
              "    <script>\n",
              "      (() => {\n",
              "      const buttonEl =\n",
              "        document.querySelector('#id_dab16f1c-1a87-45d8-a972-edcb955b2aec button.colab-df-generate');\n",
              "      buttonEl.style.display =\n",
              "        google.colab.kernel.accessAllowed ? 'block' : 'none';\n",
              "\n",
              "      buttonEl.onclick = () => {\n",
              "        google.colab.notebook.generateWithVariable('side_transported_freq_sorted');\n",
              "      }\n",
              "      })();\n",
              "    </script>\n",
              "  </div>\n",
              "\n",
              "    </div>\n",
              "  </div>\n"
            ],
            "application/vnd.google.colaboratory.intrinsic+json": {
              "type": "dataframe",
              "variable_name": "side_transported_freq_sorted",
              "summary": "{\n  \"name\": \"side_transported_freq_sorted\",\n  \"rows\": 2,\n  \"fields\": [\n    {\n      \"column\": \"Side\",\n      \"properties\": {\n        \"dtype\": \"string\",\n        \"num_unique_values\": 2,\n        \"samples\": [\n          \"P\",\n          \"S\"\n        ],\n        \"semantic_type\": \"\",\n        \"description\": \"\"\n      }\n    },\n    {\n      \"column\": \"sum\",\n      \"properties\": {\n        \"dtype\": \"number\",\n        \"std\": 377,\n        \"min\": 1922,\n        \"max\": 2456,\n        \"num_unique_values\": 2,\n        \"samples\": [\n          1922,\n          2456\n        ],\n        \"semantic_type\": \"\",\n        \"description\": \"\"\n      }\n    },\n    {\n      \"column\": \"count\",\n      \"properties\": {\n        \"dtype\": \"number\",\n        \"std\": 139,\n        \"min\": 4248,\n        \"max\": 4445,\n        \"num_unique_values\": 2,\n        \"samples\": [\n          4248,\n          4445\n        ],\n        \"semantic_type\": \"\",\n        \"description\": \"\"\n      }\n    },\n    {\n      \"column\": \"NaN_count\",\n      \"properties\": {\n        \"dtype\": \"number\",\n        \"std\": 0,\n        \"min\": 0,\n        \"max\": 0,\n        \"num_unique_values\": 1,\n        \"samples\": [\n          0\n        ],\n        \"semantic_type\": \"\",\n        \"description\": \"\"\n      }\n    }\n  ]\n}"
            }
          },
          "metadata": {},
          "execution_count": 292
        }
      ]
    },
    {
      "cell_type": "code",
      "source": [
        "train_data.drop(['Num', 'Name', 'PassengerId'], axis = 1, inplace = True)"
      ],
      "metadata": {
        "id": "zf-KU45drr2O",
        "executionInfo": {
          "status": "ok",
          "timestamp": 1742482273852,
          "user_tz": -330,
          "elapsed": 13,
          "user": {
            "displayName": "Chinmay Pandey",
            "userId": "13013544925378087637"
          }
        }
      },
      "execution_count": 293,
      "outputs": []
    },
    {
      "cell_type": "code",
      "source": [
        "# prompt: plot a bargraph representing frequency of ages\n",
        "\n",
        "import matplotlib.pyplot as plt\n",
        "# Assuming 'train_data' is your DataFrame and 'Age' is the column containing ages.\n",
        "\n",
        "# Calculate the frequency of ages\n",
        "age_counts = train_data['Age'].value_counts().sort_index()\n",
        "\n",
        "# Create a bar plot\n",
        "plt.figure(figsize=(12, 6))\n",
        "plt.bar(age_counts.index, age_counts.values)\n",
        "plt.xlabel('Age')\n",
        "plt.ylabel('Frequency')\n",
        "plt.title('Frequency of Ages')\n",
        "plt.show()\n"
      ],
      "metadata": {
        "colab": {
          "base_uri": "https://localhost:8080/",
          "height": 564
        },
        "id": "8T9YOjYx10P9",
        "executionInfo": {
          "status": "ok",
          "timestamp": 1742482275116,
          "user_tz": -330,
          "elapsed": 302,
          "user": {
            "displayName": "Chinmay Pandey",
            "userId": "13013544925378087637"
          }
        },
        "outputId": "396de5d6-423c-48b5-9cc1-db014cde8be3"
      },
      "execution_count": 294,
      "outputs": [
        {
          "output_type": "display_data",
          "data": {
            "text/plain": [
              "<Figure size 1200x600 with 1 Axes>"
            ],
            "image/png": "[encoded data removed]"
          },
          "metadata": {}
        }
      ]
    },
    {
      "cell_type": "code",
      "source": [
        "# prompt: provide in descending order of frequency of transported == 1 wrt age along with nan values in age\n",
        "\n",
        "# Assuming 'train_data' is your DataFrame\n",
        "\n",
        "# Group by 'Age' and calculate the frequency of 'Transported' as 1, including NaN values\n",
        "age_transported_freq = train_data.groupby('Age')['Transported'].agg(['count'])\n",
        "age_transported_freq['NaN_count'] = train_data['Age'].isnull().sum()\n",
        "\n",
        "# Sort in descending order of frequency of 'Transported' == 1\n",
        "age_transported_freq_sorted = age_transported_freq.sort_values(by='count', ascending=False)\n",
        "\n",
        "age_transported_freq_sorted.head(16)\n"
      ],
      "metadata": {
        "colab": {
          "base_uri": "https://localhost:8080/",
          "height": 582
        },
        "id": "coedJtiX1BKE",
        "executionInfo": {
          "status": "ok",
          "timestamp": 1742482275938,
          "user_tz": -330,
          "elapsed": 50,
          "user": {
            "displayName": "Chinmay Pandey",
            "userId": "13013544925378087637"
          }
        },
        "outputId": "53fbf2cf-2a34-4147-fa51-6cdb31cabebb"
      },
      "execution_count": 295,
      "outputs": [
        {
          "output_type": "execute_result",
          "data": {
            "text/plain": [
              "      count  NaN_count\n",
              "Age                   \n",
              "24.0    324        179\n",
              "18.0    320        179\n",
              "21.0    311        179\n",
              "19.0    293        179\n",
              "23.0    292        179\n",
              "22.0    291        179\n",
              "20.0    277        179\n",
              "26.0    268        179\n",
              "28.0    267        179\n",
              "27.0    259        179\n",
              "25.0    243        179\n",
              "29.0    230        179\n",
              "31.0    202        179\n",
              "32.0    199        179\n",
              "30.0    183        179\n",
              "0.0     178        179"
            ],
            "text/html": [
              "\n",
              "  <div id=\"df-b9a5d12a-b8c3-4241-82b6-6fd01f1df109\" class=\"colab-df-container\">\n",
              "    <div>\n",
              "<style scoped>\n",
              "    .dataframe tbody tr th:only-of-type {\n",
              "        vertical-align: middle;\n",
              "    }\n",
              "\n",
              "    .dataframe tbody tr th {\n",
              "        vertical-align: top;\n",
              "    }\n",
              "\n",
              "    .dataframe thead th {\n",
              "        text-align: right;\n",
              "    }\n",
              "</style>\n",
              "<table border=\"1\" class=\"dataframe\">\n",
              "  <thead>\n",
              "    <tr style=\"text-align: right;\">\n",
              "      <th></th>\n",
              "      <th>count</th>\n",
              "      <th>NaN_count</th>\n",
              "    </tr>\n",
              "    <tr>\n",
              "      <th>Age</th>\n",
              "      <th></th>\n",
              "      <th></th>\n",
              "    </tr>\n",
              "  </thead>\n",
              "  <tbody>\n",
              "    <tr>\n",
              "      <th>24.0</th>\n",
              "      <td>324</td>\n",
              "      <td>179</td>\n",
              "    </tr>\n",
              "    <tr>\n",
              "      <th>18.0</th>\n",
              "      <td>320</td>\n",
              "      <td>179</td>\n",
              "    </tr>\n",
              "    <tr>\n",
              "      <th>21.0</th>\n",
              "      <td>311</td>\n",
              "      <td>179</td>\n",
              "    </tr>\n",
              "    <tr>\n",
              "      <th>19.0</th>\n",
              "      <td>293</td>\n",
              "      <td>179</td>\n",
              "    </tr>\n",
              "    <tr>\n",
              "      <th>23.0</th>\n",
              "      <td>292</td>\n",
              "      <td>179</td>\n",
              "    </tr>\n",
              "    <tr>\n",
              "      <th>22.0</th>\n",
              "      <td>291</td>\n",
              "      <td>179</td>\n",
              "    </tr>\n",
              "    <tr>\n",
              "      <th>20.0</th>\n",
              "      <td>277</td>\n",
              "      <td>179</td>\n",
              "    </tr>\n",
              "    <tr>\n",
              "      <th>26.0</th>\n",
              "      <td>268</td>\n",
              "      <td>179</td>\n",
              "    </tr>\n",
              "    <tr>\n",
              "      <th>28.0</th>\n",
              "      <td>267</td>\n",
              "      <td>179</td>\n",
              "    </tr>\n",
              "    <tr>\n",
              "      <th>27.0</th>\n",
              "      <td>259</td>\n",
              "      <td>179</td>\n",
              "    </tr>\n",
              "    <tr>\n",
              "      <th>25.0</th>\n",
              "      <td>243</td>\n",
              "      <td>179</td>\n",
              "    </tr>\n",
              "    <tr>\n",
              "      <th>29.0</th>\n",
              "      <td>230</td>\n",
              "      <td>179</td>\n",
              "    </tr>\n",
              "    <tr>\n",
              "      <th>31.0</th>\n",
              "      <td>202</td>\n",
              "      <td>179</td>\n",
              "    </tr>\n",
              "    <tr>\n",
              "      <th>32.0</th>\n",
              "      <td>199</td>\n",
              "      <td>179</td>\n",
              "    </tr>\n",
              "    <tr>\n",
              "      <th>30.0</th>\n",
              "      <td>183</td>\n",
              "      <td>179</td>\n",
              "    </tr>\n",
              "    <tr>\n",
              "      <th>0.0</th>\n",
              "      <td>178</td>\n",
              "      <td>179</td>\n",
              "    </tr>\n",
              "  </tbody>\n",
              "</table>\n",
              "</div>\n",
              "    <div class=\"colab-df-buttons\">\n",
              "\n",
              "  <div class=\"colab-df-container\">\n",
              "    <button class=\"colab-df-convert\" onclick=\"convertToInteractive('df-b9a5d12a-b8c3-4241-82b6-6fd01f1df109')\"\n",
              "            title=\"Convert this dataframe to an interactive table.\"\n",
              "            style=\"display:none;\">\n",
              "\n",
              "  <svg xmlns=\"http://www.w3.org/2000/svg\" height=\"24px\" viewBox=\"0 -960 960 960\">\n",
              "    <path d=\"M120-120v-720h720v720H120Zm60-500h600v-160H180v160Zm220 220h160v-160H400v160Zm0 220h160v-160H400v160ZM180-400h160v-160H180v160Zm440 0h160v-160H620v160ZM180-180h160v-160H180v160Zm440 0h160v-160H620v160Z\"/>\n",
              "  </svg>\n",
              "    </button>\n",
              "\n",
              "  <style>\n",
              "    .colab-df-container {\n",
              "      display:flex;\n",
              "      gap: 12px;\n",
              "    }\n",
              "\n",
              "    .colab-df-convert {\n",
              "      background-color: #E8F0FE;\n",
              "      border: none;\n",
              "      border-radius: 50%;\n",
              "      cursor: pointer;\n",
              "      display: none;\n",
              "      fill: #1967D2;\n",
              "      height: 32px;\n",
              "      padding: 0 0 0 0;\n",
              "      width: 32px;\n",
              "    }\n",
              "\n",
              "    .colab-df-convert:hover {\n",
              "      background-color: #E2EBFA;\n",
              "      box-shadow: 0px 1px 2px rgba(60, 64, 67, 0.3), 0px 1px 3px 1px rgba(60, 64, 67, 0.15);\n",
              "      fill: #174EA6;\n",
              "    }\n",
              "\n",
              "    .colab-df-buttons div {\n",
              "      margin-bottom: 4px;\n",
              "    }\n",
              "\n",
              "    [theme=dark] .colab-df-convert {\n",
              "      background-color: #3B4455;\n",
              "      fill: #D2E3FC;\n",
              "    }\n",
              "\n",
              "    [theme=dark] .colab-df-convert:hover {\n",
              "      background-color: #434B5C;\n",
              "      box-shadow: 0px 1px 3px 1px rgba(0, 0, 0, 0.15);\n",
              "      filter: drop-shadow(0px 1px 2px rgba(0, 0, 0, 0.3));\n",
              "      fill: #FFFFFF;\n",
              "    }\n",
              "  </style>\n",
              "\n",
              "    <script>\n",
              "      const buttonEl =\n",
              "        document.querySelector('#df-b9a5d12a-b8c3-4241-82b6-6fd01f1df109 button.colab-df-convert');\n",
              "      buttonEl.style.display =\n",
              "        google.colab.kernel.accessAllowed ? 'block' : 'none';\n",
              "\n",
              "      async function convertToInteractive(key) {\n",
              "        const element = document.querySelector('#df-b9a5d12a-b8c3-4241-82b6-6fd01f1df109');\n",
              "        const dataTable =\n",
              "          await google.colab.kernel.invokeFunction('convertToInteractive',\n",
              "                                                    [key], {});\n",
              "        if (!dataTable) return;\n",
              "\n",
              "        const docLinkHtml = 'Like what you see? Visit the ' +\n",
              "          '<a target=\"_blank\" href=https://colab.research.google.com/notebooks/data_table.ipynb>data table notebook</a>'\n",
              "          + ' to learn more about interactive tables.';\n",
              "        element.innerHTML = '';\n",
              "        dataTable['output_type'] = 'display_data';\n",
              "        await google.colab.output.renderOutput(dataTable, element);\n",
              "        const docLink = document.createElement('div');\n",
              "        docLink.innerHTML = docLinkHtml;\n",
              "        element.appendChild(docLink);\n",
              "      }\n",
              "    </script>\n",
              "  </div>\n",
              "\n",
              "\n",
              "<div id=\"df-37599652-f7fb-4452-a9bb-3769d6cdb285\">\n",
              "  <button class=\"colab-df-quickchart\" onclick=\"quickchart('df-37599652-f7fb-4452-a9bb-3769d6cdb285')\"\n",
              "            title=\"Suggest charts\"\n",
              "            style=\"display:none;\">\n",
              "\n",
              "<svg xmlns=\"http://www.w3.org/2000/svg\" height=\"24px\"viewBox=\"0 0 24 24\"\n",
              "     width=\"24px\">\n",
              "    <g>\n",
              "        <path d=\"M19 3H5c-1.1 0-2 .9-2 2v14c0 1.1.9 2 2 2h14c1.1 0 2-.9 2-2V5c0-1.1-.9-2-2-2zM9 17H7v-7h2v7zm4 0h-2V7h2v10zm4 0h-2v-4h2v4z\"/>\n",
              "    </g>\n",
              "</svg>\n",
              "  </button>\n",
              "\n",
              "<style>\n",
              "  .colab-df-quickchart {\n",
              "      --bg-color: #E8F0FE;\n",
              "      --fill-color: #1967D2;\n",
              "      --hover-bg-color: #E2EBFA;\n",
              "      --hover-fill-color: #174EA6;\n",
              "      --disabled-fill-color: #AAA;\n",
              "      --disabled-bg-color: #DDD;\n",
              "  }\n",
              "\n",
              "  [theme=dark] .colab-df-quickchart {\n",
              "      --bg-color: #3B4455;\n",
              "      --fill-color: #D2E3FC;\n",
              "      --hover-bg-color: #434B5C;\n",
              "      --hover-fill-color: #FFFFFF;\n",
              "      --disabled-bg-color: #3B4455;\n",
              "      --disabled-fill-color: #666;\n",
              "  }\n",
              "\n",
              "  .colab-df-quickchart {\n",
              "    background-color: var(--bg-color);\n",
              "    border: none;\n",
              "    border-radius: 50%;\n",
              "    cursor: pointer;\n",
              "    display: none;\n",
              "    fill: var(--fill-color);\n",
              "    height: 32px;\n",
              "    padding: 0;\n",
              "    width: 32px;\n",
              "  }\n",
              "\n",
              "  .colab-df-quickchart:hover {\n",
              "    background-color: var(--hover-bg-color);\n",
              "    box-shadow: 0 1px 2px rgba(60, 64, 67, 0.3), 0 1px 3px 1px rgba(60, 64, 67, 0.15);\n",
              "    fill: var(--button-hover-fill-color);\n",
              "  }\n",
              "\n",
              "  .colab-df-quickchart-complete:disabled,\n",
              "  .colab-df-quickchart-complete:disabled:hover {\n",
              "    background-color: var(--disabled-bg-color);\n",
              "    fill: var(--disabled-fill-color);\n",
              "    box-shadow: none;\n",
              "  }\n",
              "\n",
              "  .colab-df-spinner {\n",
              "    border: 2px solid var(--fill-color);\n",
              "    border-color: transparent;\n",
              "    border-bottom-color: var(--fill-color);\n",
              "    animation:\n",
              "      spin 1s steps(1) infinite;\n",
              "  }\n",
              "\n",
              "  @keyframes spin {\n",
              "    0% {\n",
              "      border-color: transparent;\n",
              "      border-bottom-color: var(--fill-color);\n",
              "      border-left-color: var(--fill-color);\n",
              "    }\n",
              "    20% {\n",
              "      border-color: transparent;\n",
              "      border-left-color: var(--fill-color);\n",
              "      border-top-color: var(--fill-color);\n",
              "    }\n",
              "    30% {\n",
              "      border-color: transparent;\n",
              "      border-left-color: var(--fill-color);\n",
              "      border-top-color: var(--fill-color);\n",
              "      border-right-color: var(--fill-color);\n",
              "    }\n",
              "    40% {\n",
              "      border-color: transparent;\n",
              "      border-right-color: var(--fill-color);\n",
              "      border-top-color: var(--fill-color);\n",
              "    }\n",
              "    60% {\n",
              "      border-color: transparent;\n",
              "      border-right-color: var(--fill-color);\n",
              "    }\n",
              "    80% {\n",
              "      border-color: transparent;\n",
              "      border-right-color: var(--fill-color);\n",
              "      border-bottom-color: var(--fill-color);\n",
              "    }\n",
              "    90% {\n",
              "      border-color: transparent;\n",
              "      border-bottom-color: var(--fill-color);\n",
              "    }\n",
              "  }\n",
              "</style>\n",
              "\n",
              "  <script>\n",
              "    async function quickchart(key) {\n",
              "      const quickchartButtonEl =\n",
              "        document.querySelector('#' + key + ' button');\n",
              "      quickchartButtonEl.disabled = true;  // To prevent multiple clicks.\n",
              "      quickchartButtonEl.classList.add('colab-df-spinner');\n",
              "      try {\n",
              "        const charts = await google.colab.kernel.invokeFunction(\n",
              "            'suggestCharts', [key], {});\n",
              "      } catch (error) {\n",
              "        console.error('Error during call to suggestCharts:', error);\n",
              "      }\n",
              "      quickchartButtonEl.classList.remove('colab-df-spinner');\n",
              "      quickchartButtonEl.classList.add('colab-df-quickchart-complete');\n",
              "    }\n",
              "    (() => {\n",
              "      let quickchartButtonEl =\n",
              "        document.querySelector('#df-37599652-f7fb-4452-a9bb-3769d6cdb285 button');\n",
              "      quickchartButtonEl.style.display =\n",
              "        google.colab.kernel.accessAllowed ? 'block' : 'none';\n",
              "    })();\n",
              "  </script>\n",
              "</div>\n",
              "\n",
              "    </div>\n",
              "  </div>\n"
            ],
            "application/vnd.google.colaboratory.intrinsic+json": {
              "type": "dataframe",
              "variable_name": "age_transported_freq_sorted",
              "summary": "{\n  \"name\": \"age_transported_freq_sorted\",\n  \"rows\": 80,\n  \"fields\": [\n    {\n      \"column\": \"Age\",\n      \"properties\": {\n        \"dtype\": \"number\",\n        \"std\": 23.2379000772445,\n        \"min\": 0.0,\n        \"max\": 79.0,\n        \"num_unique_values\": 80,\n        \"samples\": [\n          43.0,\n          24.0,\n          15.0\n        ],\n        \"semantic_type\": \"\",\n        \"description\": \"\"\n      }\n    },\n    {\n      \"column\": \"count\",\n      \"properties\": {\n        \"dtype\": \"number\",\n        \"std\": 93,\n        \"min\": 2,\n        \"max\": 324,\n        \"num_unique_values\": 65,\n        \"samples\": [\n          29,\n          6,\n          324\n        ],\n        \"semantic_type\": \"\",\n        \"description\": \"\"\n      }\n    },\n    {\n      \"column\": \"NaN_count\",\n      \"properties\": {\n        \"dtype\": \"number\",\n        \"std\": 0,\n        \"min\": 179,\n        \"max\": 179,\n        \"num_unique_values\": 1,\n        \"samples\": [\n          179\n        ],\n        \"semantic_type\": \"\",\n        \"description\": \"\"\n      }\n    }\n  ]\n}"
            }
          },
          "metadata": {},
          "execution_count": 295
        }
      ]
    },
    {
      "cell_type": "code",
      "source": [
        "# prompt: replace the nan values in age with median\n",
        "\n",
        "# Replace NaN values in 'Age' with the median age\n",
        "train_data['Age'].fillna(train_data['Age'].median(), inplace=True)\n"
      ],
      "metadata": {
        "colab": {
          "base_uri": "https://localhost:8080/"
        },
        "id": "d8B2tAf81uoW",
        "executionInfo": {
          "status": "ok",
          "timestamp": 1742482276889,
          "user_tz": -330,
          "elapsed": 7,
          "user": {
            "displayName": "Chinmay Pandey",
            "userId": "13013544925378087637"
          }
        },
        "outputId": "22a20e28-787f-467f-c27c-b82dd4ca5686"
      },
      "execution_count": 296,
      "outputs": [
        {
          "output_type": "stream",
          "name": "stderr",
          "text": [
            "<ipython-input-296-f0590e472399>:4: FutureWarning: A value is trying to be set on a copy of a DataFrame or Series through chained assignment using an inplace method.\n",
            "The behavior will change in pandas 3.0. This inplace method will never work because the intermediate object on which we are setting values always behaves as a copy.\n",
            "\n",
            "For example, when doing 'df[col].method(value, inplace=True)', try using 'df.method({col: value}, inplace=True)' or df[col] = df[col].method(value) instead, to perform the operation inplace on the original object.\n",
            "\n",
            "\n",
            "  train_data['Age'].fillna(train_data['Age'].median(), inplace=True)\n"
          ]
        }
      ]
    },
    {
      "cell_type": "code",
      "source": [
        "train_data.info()"
      ],
      "metadata": {
        "colab": {
          "base_uri": "https://localhost:8080/"
        },
        "id": "1G9YQ9qlxBxu",
        "executionInfo": {
          "status": "ok",
          "timestamp": 1742482277805,
          "user_tz": -330,
          "elapsed": 16,
          "user": {
            "displayName": "Chinmay Pandey",
            "userId": "13013544925378087637"
          }
        },
        "outputId": "53f4480f-7fd5-4bdd-dfd4-05f20a10899e"
      },
      "execution_count": 297,
      "outputs": [
        {
          "output_type": "stream",
          "name": "stdout",
          "text": [
            "<class 'pandas.core.frame.DataFrame'>\n",
            "RangeIndex: 8693 entries, 0 to 8692\n",
            "Data columns (total 17 columns):\n",
            " #   Column                     Non-Null Count  Dtype  \n",
            "---  ------                     --------------  -----  \n",
            " 0   CryoSleep                  8693 non-null   int64  \n",
            " 1   Age                        8693 non-null   float64\n",
            " 2   VIP                        8693 non-null   int64  \n",
            " 3   RoomService                8512 non-null   float64\n",
            " 4   FoodCourt                  8510 non-null   float64\n",
            " 5   ShoppingMall               8485 non-null   float64\n",
            " 6   Spa                        8510 non-null   float64\n",
            " 7   VRDeck                     8505 non-null   float64\n",
            " 8   Transported                8693 non-null   int64  \n",
            " 9   HomePlanet_Earth           8693 non-null   int64  \n",
            " 10  HomePlanet_Europa          8693 non-null   int64  \n",
            " 11  HomePlanet_Mars            8693 non-null   int64  \n",
            " 12  Destination_55 Cancri e    8693 non-null   int64  \n",
            " 13  Destination_PSO J318.5-22  8693 non-null   int64  \n",
            " 14  Destination_TRAPPIST-1e    8693 non-null   int64  \n",
            " 15  Deck                       8693 non-null   object \n",
            " 16  Side                       8693 non-null   object \n",
            "dtypes: float64(6), int64(9), object(2)\n",
            "memory usage: 1.1+ MB\n"
          ]
        }
      ]
    },
    {
      "cell_type": "code",
      "source": [
        "# prompt: plot a boxplot graph for ShoppingMall and transported\n",
        "\n",
        "import matplotlib.pyplot as plt\n",
        "plt.figure(figsize=(10, 6))\n",
        "sns.boxplot(x='Transported', y='ShoppingMall', data=train_data)\n",
        "plt.title('Boxplot of ShoppingMall by Transported')\n",
        "plt.xlabel('Transported')\n",
        "plt.ylabel('ShoppingMall')\n",
        "plt.show()"
      ],
      "metadata": {
        "id": "-Jbxil0h3vzr",
        "colab": {
          "base_uri": "https://localhost:8080/",
          "height": 564
        },
        "executionInfo": {
          "status": "ok",
          "timestamp": 1742482278956,
          "user_tz": -330,
          "elapsed": 255,
          "user": {
            "displayName": "Chinmay Pandey",
            "userId": "13013544925378087637"
          }
        },
        "outputId": "9c17f042-75ca-4e6e-bb67-86df8886750c"
      },
      "execution_count": 298,
      "outputs": [
        {
          "output_type": "display_data",
          "data": {
            "text/plain": [
              "<Figure size 1000x600 with 1 Axes>"
            ],
            "image/png": "[encoded data removed]"
          },
          "metadata": {}
        }
      ]
    },
    {
      "cell_type": "code",
      "source": [
        "plt.figure(figsize=(10, 6))\n",
        "sns.boxplot(x='Transported', y='RoomService', data=train_data)\n",
        "plt.title('Boxplot of RoomService by Transported')\n",
        "plt.xlabel('Transported')\n",
        "plt.ylabel('RoomService')\n",
        "plt.show()"
      ],
      "metadata": {
        "colab": {
          "base_uri": "https://localhost:8080/",
          "height": 564
        },
        "id": "nlhZOw6qxM7j",
        "executionInfo": {
          "status": "ok",
          "timestamp": 1742482279988,
          "user_tz": -330,
          "elapsed": 291,
          "user": {
            "displayName": "Chinmay Pandey",
            "userId": "13013544925378087637"
          }
        },
        "outputId": "51201fb4-e053-42f9-e690-b502ca723d93"
      },
      "execution_count": 299,
      "outputs": [
        {
          "output_type": "display_data",
          "data": {
            "text/plain": [
              "<Figure size 1000x600 with 1 Axes>"
            ],
            "image/png": "[encoded data removed]"
          },
          "metadata": {}
        }
      ]
    },
    {
      "cell_type": "code",
      "source": [
        "plt.figure(figsize=(10, 6))\n",
        "sns.boxplot(x='Transported', y='VRDeck', data=train_data)\n",
        "plt.title('Boxplot of VRDeck by Transported')\n",
        "plt.xlabel('Transported')\n",
        "plt.ylabel('VRDeck')\n",
        "plt.show()"
      ],
      "metadata": {
        "colab": {
          "base_uri": "https://localhost:8080/",
          "height": 564
        },
        "id": "3JqVEVqnxlsL",
        "executionInfo": {
          "status": "ok",
          "timestamp": 1742482280987,
          "user_tz": -330,
          "elapsed": 258,
          "user": {
            "displayName": "Chinmay Pandey",
            "userId": "13013544925378087637"
          }
        },
        "outputId": "733960fa-e552-420a-f11d-7892e94a5d50"
      },
      "execution_count": 300,
      "outputs": [
        {
          "output_type": "display_data",
          "data": {
            "text/plain": [
              "<Figure size 1000x600 with 1 Axes>"
            ],
            "image/png": "[encoded data removed]"
          },
          "metadata": {}
        }
      ]
    },
    {
      "cell_type": "code",
      "source": [
        "plt.figure(figsize=(10, 6))\n",
        "sns.boxplot(x='Transported', y='Spa', data=train_data)\n",
        "plt.title('Boxplot of Spa by Transported')\n",
        "plt.xlabel('Transported')\n",
        "plt.ylabel('Spa')\n",
        "plt.show()"
      ],
      "metadata": {
        "colab": {
          "base_uri": "https://localhost:8080/",
          "height": 564
        },
        "id": "WJVWS2qVyazR",
        "executionInfo": {
          "status": "ok",
          "timestamp": 1742482281922,
          "user_tz": -330,
          "elapsed": 239,
          "user": {
            "displayName": "Chinmay Pandey",
            "userId": "13013544925378087637"
          }
        },
        "outputId": "71f5cd1d-9a3e-4d95-b045-62e4c0f6620c"
      },
      "execution_count": 301,
      "outputs": [
        {
          "output_type": "display_data",
          "data": {
            "text/plain": [
              "<Figure size 1000x600 with 1 Axes>"
            ],
            "image/png": "[encoded data removed]"
          },
          "metadata": {}
        }
      ]
    },
    {
      "cell_type": "code",
      "source": [
        "plt.figure(figsize=(10, 6))\n",
        "sns.boxplot(x='Transported', y='FoodCourt', data=train_data)\n",
        "plt.title('Boxplot of FoodCourt by Transported')\n",
        "plt.xlabel('Transported')\n",
        "plt.ylabel('FoodCourt')\n",
        "plt.show()"
      ],
      "metadata": {
        "colab": {
          "base_uri": "https://localhost:8080/",
          "height": 564
        },
        "id": "P_17bVoWyja7",
        "executionInfo": {
          "status": "ok",
          "timestamp": 1742482282962,
          "user_tz": -330,
          "elapsed": 274,
          "user": {
            "displayName": "Chinmay Pandey",
            "userId": "13013544925378087637"
          }
        },
        "outputId": "cabd3ca9-0776-4b45-86ef-9a4d8bedcdb6"
      },
      "execution_count": 302,
      "outputs": [
        {
          "output_type": "display_data",
          "data": {
            "text/plain": [
              "<Figure size 1000x600 with 1 Axes>"
            ],
            "image/png": "[encoded data removed]"
          },
          "metadata": {}
        }
      ]
    },
    {
      "cell_type": "code",
      "source": [
        "# prompt: plot the boxplot for the sum of spa, foodcourt, roomservice,shoppingmall,vrdeck with transported\n",
        "\n",
        "import matplotlib.pyplot as plt\n",
        "# Assuming 'train_data' is your DataFrame\n",
        "train_data['TotalExpenses'] = train_data['Spa'] + train_data['FoodCourt'] + train_data['RoomService'] + train_data['ShoppingMall'] + train_data['VRDeck']\n",
        "\n",
        "plt.figure(figsize=(10, 6))\n",
        "sns.boxplot(x='Transported', y='TotalExpenses', data=train_data)\n",
        "plt.title('Boxplot of Total Expenses by Transported')\n",
        "plt.xlabel('Transported')\n",
        "plt.ylabel('Total Expenses')\n",
        "plt.show()\n"
      ],
      "metadata": {
        "colab": {
          "base_uri": "https://localhost:8080/",
          "height": 564
        },
        "id": "hvR_hmfFyw_L",
        "executionInfo": {
          "status": "ok",
          "timestamp": 1742482284056,
          "user_tz": -330,
          "elapsed": 281,
          "user": {
            "displayName": "Chinmay Pandey",
            "userId": "13013544925378087637"
          }
        },
        "outputId": "418e302b-a8ec-48cf-f555-94394269067c"
      },
      "execution_count": 303,
      "outputs": [
        {
          "output_type": "display_data",
          "data": {
            "text/plain": [
              "<Figure size 1000x600 with 1 Axes>"
            ],
            "image/png": "[encoded data removed]"
          },
          "metadata": {}
        }
      ]
    },
    {
      "cell_type": "code",
      "source": [
        "# prompt: add a col in train_data with total expences and replce all the values greather than 15000 or nan with the median value of total expences. Also drop the cols  spa, foodcourt, roomservice,shoppingmall,vrdeck\n",
        "\n",
        "import numpy as np\n",
        "# Calculate the median of 'TotalExpenses', excluding NaN values\n",
        "median_total_expenses = train_data['TotalExpenses'].median()\n",
        "\n",
        "# Replace values greater than 15000 or NaN with the median\n",
        "train_data['TotalExpenses'] = np.where(\n",
        "    (train_data['TotalExpenses'] > 15000) | (train_data['TotalExpenses'].isnull()),\n",
        "    median_total_expenses,\n",
        "    train_data['TotalExpenses']\n",
        ")\n",
        "\n",
        "# Drop the specified columns\n",
        "train_data.drop(['Spa', 'FoodCourt', 'RoomService', 'ShoppingMall', 'VRDeck'], axis=1, inplace=True)\n"
      ],
      "metadata": {
        "id": "0p_O7PdczBM3",
        "executionInfo": {
          "status": "ok",
          "timestamp": 1742482304722,
          "user_tz": -330,
          "elapsed": 25,
          "user": {
            "displayName": "Chinmay Pandey",
            "userId": "13013544925378087637"
          }
        }
      },
      "execution_count": 308,
      "outputs": []
    },
    {
      "cell_type": "code",
      "source": [
        "# prompt: plot a boxplot for transported and total expense\n",
        "\n",
        "import matplotlib.pyplot as plt\n",
        "plt.figure(figsize=(10, 6))\n",
        "sns.boxplot(x='Transported', y='TotalExpenses', data=train_data)\n",
        "plt.title('Boxplot of Total Expenses by Transported')\n",
        "plt.xlabel('Transported')\n",
        "plt.ylabel('Total Expenses')\n",
        "plt.show()"
      ],
      "metadata": {
        "colab": {
          "base_uri": "https://localhost:8080/",
          "height": 564
        },
        "id": "oU3WTnSS0GVK",
        "executionInfo": {
          "status": "ok",
          "timestamp": 1742482310749,
          "user_tz": -330,
          "elapsed": 1009,
          "user": {
            "displayName": "Chinmay Pandey",
            "userId": "13013544925378087637"
          }
        },
        "outputId": "32cffc9b-8515-4c14-9a42-400c5401021b"
      },
      "execution_count": 309,
      "outputs": [
        {
          "output_type": "display_data",
          "data": {
            "text/plain": [
              "<Figure size 1000x600 with 1 Axes>"
            ],
            "image/png": "[encoded data removed]"
          },
          "metadata": {}
        }
      ]
    },
    {
      "cell_type": "code",
      "source": [
        "train_data.info()"
      ],
      "metadata": {
        "colab": {
          "base_uri": "https://localhost:8080/"
        },
        "id": "OsWsuU6I0Lrv",
        "executionInfo": {
          "status": "ok",
          "timestamp": 1742482311925,
          "user_tz": -330,
          "elapsed": 25,
          "user": {
            "displayName": "Chinmay Pandey",
            "userId": "13013544925378087637"
          }
        },
        "outputId": "186a75e6-2b23-491a-c27a-9858aff7dce0"
      },
      "execution_count": 310,
      "outputs": [
        {
          "output_type": "stream",
          "name": "stdout",
          "text": [
            "<class 'pandas.core.frame.DataFrame'>\n",
            "RangeIndex: 8693 entries, 0 to 8692\n",
            "Data columns (total 13 columns):\n",
            " #   Column                     Non-Null Count  Dtype  \n",
            "---  ------                     --------------  -----  \n",
            " 0   CryoSleep                  8693 non-null   int64  \n",
            " 1   Age                        8693 non-null   float64\n",
            " 2   VIP                        8693 non-null   int64  \n",
            " 3   Transported                8693 non-null   int64  \n",
            " 4   HomePlanet_Earth           8693 non-null   int64  \n",
            " 5   HomePlanet_Europa          8693 non-null   int64  \n",
            " 6   HomePlanet_Mars            8693 non-null   int64  \n",
            " 7   Destination_55 Cancri e    8693 non-null   int64  \n",
            " 8   Destination_PSO J318.5-22  8693 non-null   int64  \n",
            " 9   Destination_TRAPPIST-1e    8693 non-null   int64  \n",
            " 10  Deck                       8693 non-null   object \n",
            " 11  Side                       8693 non-null   object \n",
            " 12  TotalExpenses              8693 non-null   float64\n",
            "dtypes: float64(2), int64(9), object(2)\n",
            "memory usage: 883.0+ KB\n"
          ]
        }
      ]
    },
    {
      "cell_type": "code",
      "source": [
        "# prompt: take the transported col in new variable and drop it from train data\n",
        "\n",
        "transported = train_data['Transported']\n",
        "train_data.drop('Transported', axis=1, inplace = True)\n"
      ],
      "metadata": {
        "id": "HvKhEpkF03Eq",
        "executionInfo": {
          "status": "ok",
          "timestamp": 1742482381436,
          "user_tz": -330,
          "elapsed": 15,
          "user": {
            "displayName": "Chinmay Pandey",
            "userId": "13013544925378087637"
          }
        }
      },
      "execution_count": 315,
      "outputs": []
    },
    {
      "cell_type": "code",
      "source": [
        "# prompt: convert the age, deck, side into int\n",
        "\n",
        "# Convert 'Deck' to integer using a mapping\n",
        "deck_mapping = {\n",
        "    'A': 0, 'B': 1, 'C': 2, 'D': 3, 'E': 4, 'F': 5, 'G': 6, 'T': 7\n",
        "}\n",
        "\n",
        "train_data['Deck'] = train_data['Deck'].map(deck_mapping).fillna(-1).astype(int)\n",
        "\n",
        "\n",
        "# Convert 'Side' to integer using a mapping\n",
        "side_mapping = {\n",
        "    'P': 0, 'S': 1\n",
        "}\n",
        "train_data['Side'] = train_data['Side'].map(side_mapping).fillna(-1).astype(int)\n",
        "\n",
        "\n",
        "# Convert 'Age' to integer (if not already)\n",
        "train_data['Age'] = train_data['Age'].astype(int)\n",
        "\n"
      ],
      "metadata": {
        "id": "M5AfGF381S--",
        "executionInfo": {
          "status": "ok",
          "timestamp": 1742482407298,
          "user_tz": -330,
          "elapsed": 42,
          "user": {
            "displayName": "Chinmay Pandey",
            "userId": "13013544925378087637"
          }
        }
      },
      "execution_count": 316,
      "outputs": []
    },
    {
      "cell_type": "code",
      "source": [
        "train_data.info()"
      ],
      "metadata": {
        "colab": {
          "base_uri": "https://localhost:8080/"
        },
        "id": "0RhXted6C34o",
        "executionInfo": {
          "status": "ok",
          "timestamp": 1742482417807,
          "user_tz": -330,
          "elapsed": 9,
          "user": {
            "displayName": "Chinmay Pandey",
            "userId": "13013544925378087637"
          }
        },
        "outputId": "da97dee6-5f33-41c6-dff4-5ba89fb1cc32"
      },
      "execution_count": 317,
      "outputs": [
        {
          "output_type": "stream",
          "name": "stdout",
          "text": [
            "<class 'pandas.core.frame.DataFrame'>\n",
            "RangeIndex: 8693 entries, 0 to 8692\n",
            "Data columns (total 12 columns):\n",
            " #   Column                     Non-Null Count  Dtype  \n",
            "---  ------                     --------------  -----  \n",
            " 0   CryoSleep                  8693 non-null   int64  \n",
            " 1   Age                        8693 non-null   int64  \n",
            " 2   VIP                        8693 non-null   int64  \n",
            " 3   HomePlanet_Earth           8693 non-null   int64  \n",
            " 4   HomePlanet_Europa          8693 non-null   int64  \n",
            " 5   HomePlanet_Mars            8693 non-null   int64  \n",
            " 6   Destination_55 Cancri e    8693 non-null   int64  \n",
            " 7   Destination_PSO J318.5-22  8693 non-null   int64  \n",
            " 8   Destination_TRAPPIST-1e    8693 non-null   int64  \n",
            " 9   Deck                       8693 non-null   int64  \n",
            " 10  Side                       8693 non-null   int64  \n",
            " 11  TotalExpenses              8693 non-null   float64\n",
            "dtypes: float64(1), int64(11)\n",
            "memory usage: 815.1 KB\n"
          ]
        }
      ]
    },
    {
      "cell_type": "code",
      "source": [
        "# prompt: split the train data and transported into x train, y train and x test, y test\n",
        "\n",
        "from sklearn.model_selection import train_test_split\n",
        "\n",
        "# Assuming 'train_data' is your DataFrame and 'transported' is your target variable\n",
        "X = train_data  # Features\n",
        "y = transported  # Target\n",
        "\n",
        "# Split the data into training and testing sets\n",
        "X_train, X_test, y_train, y_test = train_test_split(X, y, test_size=0.2, random_state=42)\n",
        "\n",
        "# Now you have:\n",
        "# X_train: Training features\n",
        "# y_train: Training target\n",
        "# X_test: Testing features\n",
        "# y_test: Testing target\n"
      ],
      "metadata": {
        "id": "PQ39IzTCDDvq",
        "executionInfo": {
          "status": "ok",
          "timestamp": 1742482526217,
          "user_tz": -330,
          "elapsed": 503,
          "user": {
            "displayName": "Chinmay Pandey",
            "userId": "13013544925378087637"
          }
        }
      },
      "execution_count": 318,
      "outputs": []
    },
    {
      "cell_type": "code",
      "source": [
        "# prompt: import xgboost\n",
        "\n",
        "import xgboost as xgb\n",
        "\n",
        "# Create an XGBoost classifier\n",
        "xgb_model = xgb.XGBClassifier()\n",
        "\n",
        "# Train the xgb_model on the training data\n",
        "xgb_model.fit(X_train, y_train)\n",
        "\n",
        "# Make predictions on the testing data\n",
        "y_pred = xgb_model.predict(X_test)\n",
        "\n",
        "# Evaluate the xgb_model's accuracy\n",
        "xgb_model.score(X_test, y_test)\n"
      ],
      "metadata": {
        "colab": {
          "base_uri": "https://localhost:8080/"
        },
        "id": "3Mg2yhhAC6dN",
        "executionInfo": {
          "status": "ok",
          "timestamp": 1742482677585,
          "user_tz": -330,
          "elapsed": 874,
          "user": {
            "displayName": "Chinmay Pandey",
            "userId": "13013544925378087637"
          }
        },
        "outputId": "b3eb5a2c-ff4d-402d-84d6-ee2e83b31830"
      },
      "execution_count": 322,
      "outputs": [
        {
          "output_type": "execute_result",
          "data": {
            "text/plain": [
              "0.738355376653249"
            ]
          },
          "metadata": {},
          "execution_count": 322
        }
      ]
    },
    {
      "cell_type": "code",
      "source": [
        "# prompt: apply gridsearch cv for xgb\n",
        "\n",
        "from sklearn.model_selection import GridSearchCV\n",
        "\n",
        "# Define the parameter grid to search\n",
        "param_grid = {\n",
        "    'n_estimators': [50, 100, 200],\n",
        "    'max_depth': [3, 5, 7],\n",
        "    'learning_rate': [0.01, 0.1, 0.2],\n",
        "    'subsample': [0.8, 1.0],\n",
        "    'colsample_bytree': [0.8, 1.0]\n",
        "}\n",
        "\n",
        "# Create an XGBoost classifier\n",
        "xgb_model = xgb.XGBClassifier()\n",
        "\n",
        "# Create GridSearchCV object\n",
        "grid_search = GridSearchCV(estimator=xgb_model, param_grid=param_grid,\n",
        "                           scoring='accuracy', cv=5, n_jobs=-1)\n",
        "\n",
        "# Fit the grid search to the training data\n",
        "grid_search.fit(X_train, y_train)\n",
        "\n",
        "# Print the best parameters and score\n",
        "print(\"Best parameters:\", grid_search.best_params_)\n",
        "print(\"Best score:\", grid_search.best_score_)\n",
        "\n",
        "# Get the best model from the grid search\n",
        "best_xgb_model = grid_search.best_estimator_\n",
        "\n",
        "# Evaluate the best model on the test set\n",
        "best_xgb_model.score(X_test, y_test)"
      ],
      "metadata": {
        "colab": {
          "base_uri": "https://localhost:8080/"
        },
        "id": "AJhuaf86DsZl",
        "executionInfo": {
          "status": "ok",
          "timestamp": 1742482783970,
          "user_tz": -330,
          "elapsed": 69152,
          "user": {
            "displayName": "Chinmay Pandey",
            "userId": "13013544925378087637"
          }
        },
        "outputId": "05413232-8fe9-4db1-8450-304aa5b99dc8"
      },
      "execution_count": 323,
      "outputs": [
        {
          "output_type": "stream",
          "name": "stdout",
          "text": [
            "Best parameters: {'colsample_bytree': 0.8, 'learning_rate': 0.01, 'max_depth': 7, 'n_estimators': 200, 'subsample': 0.8}\n",
            "Best score: 0.7526628014626401\n"
          ]
        },
        {
          "output_type": "execute_result",
          "data": {
            "text/plain": [
              "0.7481311098332375"
            ]
          },
          "metadata": {},
          "execution_count": 323
        }
      ]
    },
    {
      "cell_type": "code",
      "source": [],
      "metadata": {
        "id": "NZxa0MtoEC9y"
      },
      "execution_count": null,
      "outputs": []
    }
  ]
}